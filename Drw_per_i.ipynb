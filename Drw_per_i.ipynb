{
 "cells": [
  {
   "cell_type": "code",
   "execution_count": 1,
   "metadata": {},
   "outputs": [],
   "source": [
    "#!/usr/bin/env python3\n",
    "\"\"\"\n",
    "Neven Caplar \n",
    "Last updated: 2023-10-04\n",
    "\n",
    "Goals: \n",
    "1. Analyze simulated data with DRW and DRW+periodic\n",
    "1.1. Degrade simulated data to observable cadence\n",
    "1.2 Establish sensitivity limits\n",
    "2. Analyze real data with DRW and DRW+periodic\n",
    "\n",
    "Each Section can/should be able to run independently,\n",
    "only these initial imports should be shared among all sections\n",
    "\n",
    "\"\"\"\n",
    "import numpy as np\n",
    "import pandas as pd\n",
    "import time\n",
    "\n",
    "from scipy.spatial import KDTree\n",
    "import matplotlib.pyplot as plt\n",
    "\n",
    "import JaxPeriodDrwFit\n",
    "\n",
    "\n",
    "from tape.ensemble import Ensemble\n",
    "from tape.utils import ColumnMapper\n",
    "\n"
   ]
  },
  {
   "cell_type": "markdown",
   "metadata": {},
   "source": [
    "# Init analysis of simulated data"
   ]
  },
  {
   "cell_type": "code",
   "execution_count": 2,
   "metadata": {},
   "outputs": [],
   "source": [
    "# generated in create_data script, to avoid epyc failure\n",
    "t_multi = np.load('/astro/users/ncaplar/data/t_multi.npy')\n",
    "y_multi = np.load('/astro/users/ncaplar/data/y_multi.npy')\n",
    "yerr_multi = np.load('/astro/users/ncaplar/data/yerr_multi.npy')"
   ]
  },
  {
   "cell_type": "code",
   "execution_count": 5,
   "metadata": {},
   "outputs": [
    {
     "name": "stderr",
     "output_type": "stream",
     "text": [
      "/astro/users/ncaplar/miniconda3/envs/tiny_lsst/lib/python3.10/site-packages/distributed/node.py:182: UserWarning: Port 8787 is already in use.\n",
      "Perhaps you already have a cluster running?\n",
      "Hosting the HTTP server on port 33111 instead\n",
      "  warnings.warn(\n",
      "INFO:distributed.scheduler:State start\n",
      "INFO:distributed.scheduler:  Scheduler at:     tcp://127.0.0.1:45433\n",
      "INFO:distributed.scheduler:  dashboard at:  http://127.0.0.1:33111/status\n",
      "INFO:distributed.nanny:        Start Nanny at: 'tcp://127.0.0.1:36501'\n",
      "INFO:distributed.nanny:        Start Nanny at: 'tcp://127.0.0.1:40385'\n",
      "INFO:distributed.nanny:        Start Nanny at: 'tcp://127.0.0.1:39963'\n",
      "INFO:distributed.nanny:        Start Nanny at: 'tcp://127.0.0.1:43357'\n",
      "INFO:distributed.nanny:        Start Nanny at: 'tcp://127.0.0.1:34079'\n",
      "INFO:distributed.nanny:        Start Nanny at: 'tcp://127.0.0.1:41804'\n",
      "INFO:distributed.nanny:        Start Nanny at: 'tcp://127.0.0.1:35388'\n",
      "INFO:distributed.nanny:        Start Nanny at: 'tcp://127.0.0.1:42303'\n",
      "INFO:distributed.scheduler:Register worker <WorkerState 'tcp://127.0.0.1:43897', name: 5, status: init, memory: 0, processing: 0>\n",
      "INFO:distributed.scheduler:Starting worker compute stream, tcp://127.0.0.1:43897\n",
      "INFO:distributed.core:Starting established connection to tcp://127.0.0.1:52378\n",
      "INFO:distributed.scheduler:Register worker <WorkerState 'tcp://127.0.0.1:41831', name: 3, status: init, memory: 0, processing: 0>\n",
      "INFO:distributed.scheduler:Starting worker compute stream, tcp://127.0.0.1:41831\n",
      "INFO:distributed.core:Starting established connection to tcp://127.0.0.1:52366\n",
      "INFO:distributed.scheduler:Register worker <WorkerState 'tcp://127.0.0.1:36317', name: 2, status: init, memory: 0, processing: 0>\n",
      "INFO:distributed.scheduler:Starting worker compute stream, tcp://127.0.0.1:36317\n",
      "INFO:distributed.core:Starting established connection to tcp://127.0.0.1:52364\n",
      "INFO:distributed.scheduler:Register worker <WorkerState 'tcp://127.0.0.1:39362', name: 4, status: init, memory: 0, processing: 0>\n",
      "INFO:distributed.scheduler:Starting worker compute stream, tcp://127.0.0.1:39362\n",
      "INFO:distributed.core:Starting established connection to tcp://127.0.0.1:52372\n",
      "INFO:distributed.scheduler:Register worker <WorkerState 'tcp://127.0.0.1:42103', name: 6, status: init, memory: 0, processing: 0>\n",
      "INFO:distributed.scheduler:Starting worker compute stream, tcp://127.0.0.1:42103\n",
      "INFO:distributed.core:Starting established connection to tcp://127.0.0.1:52368\n",
      "INFO:distributed.scheduler:Register worker <WorkerState 'tcp://127.0.0.1:35177', name: 0, status: init, memory: 0, processing: 0>\n",
      "INFO:distributed.scheduler:Starting worker compute stream, tcp://127.0.0.1:35177\n",
      "INFO:distributed.core:Starting established connection to tcp://127.0.0.1:52376\n",
      "INFO:distributed.scheduler:Register worker <WorkerState 'tcp://127.0.0.1:37133', name: 7, status: init, memory: 0, processing: 0>\n",
      "INFO:distributed.scheduler:Starting worker compute stream, tcp://127.0.0.1:37133\n",
      "INFO:distributed.core:Starting established connection to tcp://127.0.0.1:52370\n",
      "INFO:distributed.scheduler:Register worker <WorkerState 'tcp://127.0.0.1:35615', name: 1, status: init, memory: 0, processing: 0>\n",
      "INFO:distributed.scheduler:Starting worker compute stream, tcp://127.0.0.1:35615\n",
      "INFO:distributed.core:Starting established connection to tcp://127.0.0.1:52374\n",
      "INFO:distributed.scheduler:Receive client connection: Client-74a0cf41-4c0b-11ee-8cf2-b42e99a8502c\n",
      "INFO:distributed.core:Starting established connection to tcp://127.0.0.1:52380\n",
      "INFO:distributed.nanny:Closing Nanny at 'tcp://127.0.0.1:42480'. Reason: nanny-close\n",
      "INFO:distributed.nanny:Nanny asking worker to close. Reason: nanny-close\n",
      "INFO:distributed.nanny:Closing Nanny at 'tcp://127.0.0.1:44287'. Reason: nanny-close\n",
      "INFO:distributed.nanny:Nanny asking worker to close. Reason: nanny-close\n",
      "INFO:distributed.nanny:Closing Nanny at 'tcp://127.0.0.1:46276'. Reason: nanny-close\n",
      "INFO:distributed.nanny:Nanny asking worker to close. Reason: nanny-close\n",
      "INFO:distributed.nanny:Closing Nanny at 'tcp://127.0.0.1:35380'. Reason: nanny-close\n",
      "INFO:distributed.nanny:Nanny asking worker to close. Reason: nanny-close\n",
      "INFO:distributed.nanny:Closing Nanny at 'tcp://127.0.0.1:40399'. Reason: nanny-close\n",
      "INFO:distributed.nanny:Nanny asking worker to close. Reason: nanny-close\n",
      "INFO:distributed.nanny:Closing Nanny at 'tcp://127.0.0.1:36374'. Reason: nanny-close\n",
      "INFO:distributed.nanny:Nanny asking worker to close. Reason: nanny-close\n",
      "INFO:distributed.nanny:Closing Nanny at 'tcp://127.0.0.1:41187'. Reason: nanny-close\n",
      "INFO:distributed.nanny:Nanny asking worker to close. Reason: nanny-close\n",
      "INFO:distributed.nanny:Closing Nanny at 'tcp://127.0.0.1:39924'. Reason: nanny-close\n",
      "INFO:distributed.nanny:Nanny asking worker to close. Reason: nanny-close\n",
      "INFO:distributed.core:Received 'close-stream' from tcp://127.0.0.1:52550; closing.\n",
      "INFO:distributed.core:Received 'close-stream' from tcp://127.0.0.1:52554; closing.\n",
      "INFO:distributed.core:Received 'close-stream' from tcp://127.0.0.1:52544; closing.\n",
      "INFO:distributed.core:Received 'close-stream' from tcp://127.0.0.1:52548; closing.\n",
      "INFO:distributed.core:Received 'close-stream' from tcp://127.0.0.1:52556; closing.\n",
      "INFO:distributed.core:Received 'close-stream' from tcp://127.0.0.1:52546; closing.\n",
      "INFO:distributed.core:Received 'close-stream' from tcp://127.0.0.1:52558; closing.\n",
      "INFO:distributed.scheduler:Remove worker <WorkerState 'tcp://127.0.0.1:40751', name: 0, status: closing, memory: 0, processing: 0>\n",
      "INFO:distributed.core:Removing comms to tcp://127.0.0.1:40751\n",
      "INFO:distributed.scheduler:Remove worker <WorkerState 'tcp://127.0.0.1:35373', name: 1, status: closing, memory: 0, processing: 0>\n",
      "INFO:distributed.core:Removing comms to tcp://127.0.0.1:35373\n",
      "INFO:distributed.scheduler:Remove worker <WorkerState 'tcp://127.0.0.1:45116', name: 2, status: closing, memory: 0, processing: 0>\n",
      "INFO:distributed.core:Removing comms to tcp://127.0.0.1:45116\n",
      "INFO:distributed.scheduler:Remove worker <WorkerState 'tcp://127.0.0.1:44766', name: 3, status: closing, memory: 0, processing: 0>\n",
      "INFO:distributed.core:Removing comms to tcp://127.0.0.1:44766\n",
      "INFO:distributed.scheduler:Remove worker <WorkerState 'tcp://127.0.0.1:46437', name: 4, status: closing, memory: 0, processing: 0>\n",
      "INFO:distributed.core:Removing comms to tcp://127.0.0.1:46437\n",
      "INFO:distributed.scheduler:Remove worker <WorkerState 'tcp://127.0.0.1:45953', name: 5, status: closing, memory: 0, processing: 0>\n",
      "INFO:distributed.core:Removing comms to tcp://127.0.0.1:45953\n",
      "INFO:distributed.scheduler:Remove worker <WorkerState 'tcp://127.0.0.1:39614', name: 6, status: closing, memory: 0, processing: 0>\n",
      "INFO:distributed.core:Removing comms to tcp://127.0.0.1:39614\n",
      "INFO:distributed.core:Received 'close-stream' from tcp://127.0.0.1:52552; closing.\n",
      "INFO:distributed.scheduler:Remove worker <WorkerState 'tcp://127.0.0.1:45175', name: 7, status: closing, memory: 0, processing: 0>\n",
      "INFO:distributed.core:Removing comms to tcp://127.0.0.1:45175\n",
      "INFO:distributed.scheduler:Lost all workers\n",
      "INFO:distributed.scheduler:Scheduler closing...\n",
      "INFO:distributed.scheduler:Scheduler closing all comms\n"
     ]
    }
   ],
   "source": [
    "\n",
    "id, t, y, yerr, filter = np.array([]), np.array([]), np.array([]), np.array([]), np.array([])\n",
    "\n",
    "for i in range(100):\n",
    "    # data = data_all[()].get(i)\n",
    "\n",
    "    # get time for a single lightcurve\n",
    "    t_true = t_multi[i]\n",
    "    # sample 100 points from 200\n",
    "    downsample_int = np.sort(np.random.choice(np.arange(len(t_true)), 100))\n",
    "    # extract 100 times from 200\n",
    "    t_single = t_true[downsample_int]\n",
    "\n",
    "    id = np.append(id, np.full(len(downsample_int), i))\n",
    "    filter_single = np.full(len(t_single), 'r')\n",
    "    t = np.append(t, t_single)\n",
    "    filter = np.append(filter, filter_single)\n",
    "\n",
    "    # create custom errors\n",
    "    y_err_single = np.full(len(t_single), 0.001)\n",
    "    yerr = np.append(yerr, np.full(len(t_single), 0.001))\n",
    "\n",
    "    # extract measurements; 100 from each lightcurve\n",
    "    # y_pre = data['y_tot'][downsample_int]\n",
    "    y_pre = y_multi[i][downsample_int]\n",
    "\n",
    "    # create noise and add to lightcurves\n",
    "    noise = np.random.normal(0, y_err_single)\n",
    "    y = np.append(y, y_pre + noise)\n",
    "\n",
    "# columns assigned manually\n",
    "manual_colmap = ColumnMapper().assign(\n",
    "    id_col=\"id\", time_col=\"t\", flux_col=\"y\", err_col=\"yerr\", band_col=\"filter\"\n",
    ")\n",
    "\n",
    "# ens = Ensemble(silence_logs='error')\n",
    "ens = Ensemble()\n",
    "ens.from_source_dict({'id': id, \"t\": t, 'y': y, 'yerr': yerr, 'filter': filter},\n",
    "                        column_mapper=manual_colmap)\n",
    "single_lc = ens.compute(\"source\")[id == 0]\n",
    "# comment out line below if trying to run ensamble.batch\n",
    "# ens.client.close()\n",
    "##########\n",
    "\n"
   ]
  },
  {
   "cell_type": "code",
   "execution_count": 6,
   "metadata": {},
   "outputs": [],
   "source": [
    "JaxPeriodDrwFit_instance = ch.JaxPeriodDrwFit()"
   ]
  },
  {
   "cell_type": "code",
   "execution_count": 7,
   "metadata": {},
   "outputs": [
    {
     "data": {
      "text/html": [
       "<div>\n",
       "<style scoped>\n",
       "    .dataframe tbody tr th:only-of-type {\n",
       "        vertical-align: middle;\n",
       "    }\n",
       "\n",
       "    .dataframe tbody tr th {\n",
       "        vertical-align: top;\n",
       "    }\n",
       "\n",
       "    .dataframe thead th {\n",
       "        text-align: right;\n",
       "    }\n",
       "</style>\n",
       "<table border=\"1\" class=\"dataframe\">\n",
       "  <thead>\n",
       "    <tr style=\"text-align: right;\">\n",
       "      <th>filter</th>\n",
       "      <th>nobs_r</th>\n",
       "      <th>nobs_total</th>\n",
       "    </tr>\n",
       "    <tr>\n",
       "      <th>id</th>\n",
       "      <th></th>\n",
       "      <th></th>\n",
       "    </tr>\n",
       "  </thead>\n",
       "  <tbody>\n",
       "    <tr>\n",
       "      <th>0.0</th>\n",
       "      <td>100</td>\n",
       "      <td>100</td>\n",
       "    </tr>\n",
       "    <tr>\n",
       "      <th>1.0</th>\n",
       "      <td>100</td>\n",
       "      <td>100</td>\n",
       "    </tr>\n",
       "    <tr>\n",
       "      <th>2.0</th>\n",
       "      <td>100</td>\n",
       "      <td>100</td>\n",
       "    </tr>\n",
       "    <tr>\n",
       "      <th>3.0</th>\n",
       "      <td>100</td>\n",
       "      <td>100</td>\n",
       "    </tr>\n",
       "    <tr>\n",
       "      <th>4.0</th>\n",
       "      <td>100</td>\n",
       "      <td>100</td>\n",
       "    </tr>\n",
       "  </tbody>\n",
       "</table>\n",
       "</div>"
      ],
      "text/plain": [
       "filter  nobs_r  nobs_total\n",
       "id                        \n",
       "0.0        100         100\n",
       "1.0        100         100\n",
       "2.0        100         100\n",
       "3.0        100         100\n",
       "4.0        100         100"
      ]
     },
     "execution_count": 7,
     "metadata": {},
     "output_type": "execute_result"
    }
   ],
   "source": [
    "ens.head(\"object\", 5)"
   ]
  },
  {
   "cell_type": "code",
   "execution_count": 8,
   "metadata": {},
   "outputs": [
    {
     "data": {
      "text/html": [
       "<div>\n",
       "<style scoped>\n",
       "    .dataframe tbody tr th:only-of-type {\n",
       "        vertical-align: middle;\n",
       "    }\n",
       "\n",
       "    .dataframe tbody tr th {\n",
       "        vertical-align: top;\n",
       "    }\n",
       "\n",
       "    .dataframe thead th {\n",
       "        text-align: right;\n",
       "    }\n",
       "</style>\n",
       "<table border=\"1\" class=\"dataframe\">\n",
       "  <thead>\n",
       "    <tr style=\"text-align: right;\">\n",
       "      <th></th>\n",
       "      <th>t</th>\n",
       "      <th>y</th>\n",
       "      <th>yerr</th>\n",
       "      <th>filter</th>\n",
       "    </tr>\n",
       "    <tr>\n",
       "      <th>id</th>\n",
       "      <th></th>\n",
       "      <th></th>\n",
       "      <th></th>\n",
       "      <th></th>\n",
       "    </tr>\n",
       "  </thead>\n",
       "  <tbody>\n",
       "    <tr>\n",
       "      <th>0.0</th>\n",
       "      <td>104.035404</td>\n",
       "      <td>-0.178309</td>\n",
       "      <td>0.001</td>\n",
       "      <td>r</td>\n",
       "    </tr>\n",
       "    <tr>\n",
       "      <th>0.0</th>\n",
       "      <td>110.606061</td>\n",
       "      <td>-0.114827</td>\n",
       "      <td>0.001</td>\n",
       "      <td>r</td>\n",
       "    </tr>\n",
       "    <tr>\n",
       "      <th>0.0</th>\n",
       "      <td>136.523652</td>\n",
       "      <td>-0.119349</td>\n",
       "      <td>0.001</td>\n",
       "      <td>r</td>\n",
       "    </tr>\n",
       "    <tr>\n",
       "      <th>0.0</th>\n",
       "      <td>148.569857</td>\n",
       "      <td>0.029500</td>\n",
       "      <td>0.001</td>\n",
       "      <td>r</td>\n",
       "    </tr>\n",
       "    <tr>\n",
       "      <th>0.0</th>\n",
       "      <td>150.760076</td>\n",
       "      <td>0.053097</td>\n",
       "      <td>0.001</td>\n",
       "      <td>r</td>\n",
       "    </tr>\n",
       "  </tbody>\n",
       "</table>\n",
       "</div>"
      ],
      "text/plain": [
       "              t         y   yerr filter\n",
       "id                                     \n",
       "0.0  104.035404 -0.178309  0.001      r\n",
       "0.0  110.606061 -0.114827  0.001      r\n",
       "0.0  136.523652 -0.119349  0.001      r\n",
       "0.0  148.569857  0.029500  0.001      r\n",
       "0.0  150.760076  0.053097  0.001      r"
      ]
     },
     "execution_count": 8,
     "metadata": {},
     "output_type": "execute_result"
    }
   ],
   "source": [
    "ens.head(\"source\", 5)"
   ]
  },
  {
   "cell_type": "code",
   "execution_count": 9,
   "metadata": {},
   "outputs": [
    {
     "name": "stderr",
     "output_type": "stream",
     "text": [
      "WARNING:jax._src.lib.xla_bridge:No GPU/TPU found, falling back to CPU. (Set TF_CPP_MIN_LOG_LEVEL=0 and rerun for more info.)\n"
     ]
    },
    {
     "name": "stdout",
     "output_type": "stream",
     "text": [
      "id\n",
      "0.0     [-129.8543171310671, 2.2952704672830704, -0.77...\n",
      "1.0     [-125.06774239793788, 2.2454832550376214, -0.6...\n",
      "2.0     [-129.19153581396438, 2.0109551037342817, -0.8...\n",
      "3.0     [-113.93138087222452, 1.664258493219286, -0.83...\n",
      "4.0     [-124.25437066957599, 2.3919998011020134, -0.6...\n",
      "                              ...                        \n",
      "95.0    [-123.59434269083566, 2.2617468727321612, -0.7...\n",
      "96.0    [-134.95465378350644, 1.7851771511631847, -0.8...\n",
      "97.0    [-126.45339674303835, 2.0249693391299366, -0.7...\n",
      "98.0    [-129.96935212915713, 1.5254637793727104, -0.9...\n",
      "99.0    [-106.14477313607473, 2.0904558534035984, -0.6...\n",
      "Name: id, Length: 100, dtype: object\n"
     ]
    }
   ],
   "source": [
    "# 20.6 second\n",
    "res = ens.batch(JaxPeriodDrwFit_instance.optimize_map, 't', 'y', 'yerr',\n",
    "                 compute=True, meta=None, n_init=100)\n",
    "print(res)"
   ]
  },
  {
   "cell_type": "code",
   "execution_count": 10,
   "metadata": {},
   "outputs": [
    {
     "name": "stderr",
     "output_type": "stream",
     "text": [
      "INFO:distributed.nanny:Closing Nanny at 'tcp://127.0.0.1:36501'. Reason: nanny-close\n",
      "INFO:distributed.nanny:Nanny asking worker to close. Reason: nanny-close\n",
      "INFO:distributed.nanny:Closing Nanny at 'tcp://127.0.0.1:40385'. Reason: nanny-close\n",
      "INFO:distributed.nanny:Nanny asking worker to close. Reason: nanny-close\n",
      "INFO:distributed.nanny:Closing Nanny at 'tcp://127.0.0.1:39963'. Reason: nanny-close\n",
      "INFO:distributed.nanny:Nanny asking worker to close. Reason: nanny-close\n",
      "INFO:distributed.nanny:Closing Nanny at 'tcp://127.0.0.1:43357'. Reason: nanny-close\n",
      "INFO:distributed.nanny:Nanny asking worker to close. Reason: nanny-close\n",
      "INFO:distributed.nanny:Closing Nanny at 'tcp://127.0.0.1:34079'. Reason: nanny-close\n",
      "INFO:distributed.nanny:Nanny asking worker to close. Reason: nanny-close\n",
      "INFO:distributed.nanny:Closing Nanny at 'tcp://127.0.0.1:41804'. Reason: nanny-close\n",
      "INFO:distributed.nanny:Nanny asking worker to close. Reason: nanny-close\n",
      "INFO:distributed.nanny:Closing Nanny at 'tcp://127.0.0.1:35388'. Reason: nanny-close\n",
      "INFO:distributed.nanny:Nanny asking worker to close. Reason: nanny-close\n",
      "INFO:distributed.nanny:Closing Nanny at 'tcp://127.0.0.1:42303'. Reason: nanny-close\n",
      "INFO:distributed.nanny:Nanny asking worker to close. Reason: nanny-close\n",
      "INFO:distributed.core:Received 'close-stream' from tcp://127.0.0.1:52376; closing.\n",
      "INFO:distributed.core:Received 'close-stream' from tcp://127.0.0.1:52374; closing.\n",
      "INFO:distributed.core:Received 'close-stream' from tcp://127.0.0.1:52364; closing.\n",
      "INFO:distributed.core:Received 'close-stream' from tcp://127.0.0.1:52366; closing.\n",
      "INFO:distributed.core:Received 'close-stream' from tcp://127.0.0.1:52372; closing.\n",
      "INFO:distributed.core:Received 'close-stream' from tcp://127.0.0.1:52378; closing.\n",
      "INFO:distributed.scheduler:Remove worker <WorkerState 'tcp://127.0.0.1:35177', name: 0, status: closing, memory: 0, processing: 0>\n",
      "INFO:distributed.core:Removing comms to tcp://127.0.0.1:35177\n",
      "INFO:distributed.scheduler:Remove worker <WorkerState 'tcp://127.0.0.1:35615', name: 1, status: closing, memory: 0, processing: 0>\n",
      "INFO:distributed.core:Removing comms to tcp://127.0.0.1:35615\n",
      "INFO:distributed.scheduler:Remove worker <WorkerState 'tcp://127.0.0.1:36317', name: 2, status: closing, memory: 0, processing: 0>\n",
      "INFO:distributed.core:Removing comms to tcp://127.0.0.1:36317\n",
      "INFO:distributed.scheduler:Remove worker <WorkerState 'tcp://127.0.0.1:41831', name: 3, status: closing, memory: 0, processing: 0>\n",
      "INFO:distributed.core:Removing comms to tcp://127.0.0.1:41831\n",
      "INFO:distributed.scheduler:Remove worker <WorkerState 'tcp://127.0.0.1:39362', name: 4, status: closing, memory: 0, processing: 0>\n",
      "INFO:distributed.core:Removing comms to tcp://127.0.0.1:39362\n",
      "INFO:distributed.scheduler:Remove worker <WorkerState 'tcp://127.0.0.1:43897', name: 5, status: closing, memory: 0, processing: 0>\n",
      "INFO:distributed.core:Removing comms to tcp://127.0.0.1:43897\n",
      "INFO:distributed.core:Received 'close-stream' from tcp://127.0.0.1:52368; closing.\n",
      "INFO:distributed.scheduler:Remove worker <WorkerState 'tcp://127.0.0.1:42103', name: 6, status: closing, memory: 0, processing: 0>\n",
      "INFO:distributed.core:Removing comms to tcp://127.0.0.1:42103\n",
      "INFO:distributed.core:Received 'close-stream' from tcp://127.0.0.1:52370; closing.\n",
      "INFO:distributed.scheduler:Remove worker <WorkerState 'tcp://127.0.0.1:37133', name: 7, status: closing, memory: 0, processing: 0>\n",
      "INFO:distributed.core:Removing comms to tcp://127.0.0.1:37133\n",
      "INFO:distributed.scheduler:Lost all workers\n",
      "INFO:distributed.batched:Batched Comm Closed <TCP (closed) Scheduler connection to worker local=tcp://127.0.0.1:45433 remote=tcp://127.0.0.1:52368>\n",
      "Traceback (most recent call last):\n",
      "  File \"/astro/users/ncaplar/miniconda3/envs/tiny_lsst/lib/python3.10/site-packages/distributed/batched.py\", line 115, in _background_send\n",
      "    nbytes = yield coro\n",
      "  File \"/astro/users/ncaplar/miniconda3/envs/tiny_lsst/lib/python3.10/site-packages/tornado/gen.py\", line 769, in run\n",
      "    value = future.result()\n",
      "  File \"/astro/users/ncaplar/miniconda3/envs/tiny_lsst/lib/python3.10/site-packages/distributed/comm/tcp.py\", line 269, in write\n",
      "    raise CommClosedError()\n",
      "distributed.comm.core.CommClosedError\n",
      "INFO:distributed.scheduler:Scheduler closing...\n",
      "INFO:distributed.scheduler:Scheduler closing all comms\n"
     ]
    }
   ],
   "source": [
    "ens.client.close()"
   ]
  },
  {
   "cell_type": "markdown",
   "metadata": {},
   "source": [
    "# Redback - exploring degrading lightcurve to ZTF cadence"
   ]
  },
  {
   "cell_type": "code",
   "execution_count": 11,
   "metadata": {},
   "outputs": [
    {
     "name": "stderr",
     "output_type": "stream",
     "text": [
      "WARNING:jax._src.lib.xla_bridge:No GPU/TPU found, falling back to CPU. (Set TF_CPP_MIN_LOG_LEVEL=0 and rerun for more info.)\n"
     ]
    },
    {
     "name": "stdout",
     "output_type": "stream",
     "text": [
      "Execution time for single lc is 4.026710748672485 sec\n",
      "Best result is:[-129.85431713    2.29527047   -0.77088343    1.42985345   -1.39499854]\n",
      "Execution time for second run with single lc is 0.1607820987701416 sec\n",
      "Best result is:[-129.85431713    2.29527047   -0.77088343    1.42985345   -1.39499854]\n"
     ]
    }
   ],
   "source": [
    "t = single_lc['t'].values\n",
    "y = single_lc['y'].values\n",
    "yerr = single_lc['yerr'].values\n",
    "\n",
    "# This block shows that the code works on a single lightcurve\n",
    "# And it is faster second time\n",
    "t1 = time.time()\n",
    "test_single_lc_res = JaxPeriodDrwFit_instance.optimize_map(t, y, yerr, n_init=100)\n",
    "t2 = time.time()\n",
    "print(f'Execution time for single lc is {t2 - t1} sec')\n",
    "print('Best result is:' + str(test_single_lc_res))\n",
    "t1 = time.time()\n",
    "test_single_lc_res = JaxPeriodDrwFit_instance.optimize_map(t, y, yerr, n_init=100)\n",
    "t2 = time.time()\n",
    "print(f'Execution time for second run with single lc is {t2 - t1} sec')\n",
    "print('Best result is:' + str(test_single_lc_res))"
   ]
  },
  {
   "cell_type": "code",
   "execution_count": 12,
   "metadata": {},
   "outputs": [],
   "source": [
    "datadir = '/astro/users/ncaplar/github/redback/redback/tables'\n",
    "pointings_database_name = 'ztf.tar.gz'"
   ]
  },
  {
   "cell_type": "code",
   "execution_count": 13,
   "metadata": {},
   "outputs": [],
   "source": [
    "pointings_database = pd.read_csv(datadir + \"/\" + pointings_database_name, compression='gzip')"
   ]
  },
  {
   "cell_type": "code",
   "execution_count": 14,
   "metadata": {},
   "outputs": [
    {
     "data": {
      "text/plain": [
       "array([58288.17 , 58288.176, 58288.18 , ..., 59822.51 , 59822.516,\n",
       "       59822.52 ])"
      ]
     },
     "execution_count": 14,
     "metadata": {},
     "output_type": "execute_result"
    }
   ],
   "source": [
    "# 58288.17 = June-19-2018\n",
    "# 59822.52 = August-31-2022\n",
    "np.sort(pointings_database['expMJD'].values)"
   ]
  },
  {
   "cell_type": "code",
   "execution_count": 15,
   "metadata": {},
   "outputs": [
    {
     "data": {
      "text/plain": [
       "0         3.822735\n",
       "1         4.436831\n",
       "2         3.560472\n",
       "3         3.355396\n",
       "4         3.520526\n",
       "            ...   \n",
       "106643    1.984300\n",
       "106644    2.114880\n",
       "106645    2.039341\n",
       "106646    2.114880\n",
       "106647    0.923487\n",
       "Name: _ra, Length: 106648, dtype: float64"
      ]
     },
     "execution_count": 15,
     "metadata": {},
     "output_type": "execute_result"
    }
   ],
   "source": [
    "pointings_database['_ra']"
   ]
  },
  {
   "cell_type": "code",
   "execution_count": 26,
   "metadata": {},
   "outputs": [
    {
     "name": "stdout",
     "output_type": "stream",
     "text": [
      "survey_radius:0.05908179503018386\n"
     ]
    }
   ],
   "source": [
    "survey_fov_sqdeg = 36\n",
    "survey_fov_sqrad = survey_fov_sqdeg*(np.pi/180.0)**2\n",
    "survey_radius = np.sqrt(survey_fov_sqrad/np.pi)\n",
    "print('survey_radius:' + str(survey_radius))\n",
    "\n",
    "def find_sky_overlaps(pointings_databasem, parameters):\n",
    "    \"\"\"\n",
    "    Find the sky indices of the pointings database that overlap with the transient.\n",
    "    \"\"\"\n",
    "    pointings_sky_pos = np.column_stack((pointings_database['_ra'].values, pointings_database['_dec'].values))\n",
    "    transient_sky_pos = np.column_stack((parameters['ra'].values, parameters['dec'].values))\n",
    "\n",
    "    transient_sky_pos_3D = np.vstack([np.cos(transient_sky_pos[:,0]) * np.cos(transient_sky_pos[:,1]),\n",
    "                                        np.sin(transient_sky_pos[:,0]) * np.cos(transient_sky_pos[:,1]),\n",
    "                                        np.sin(transient_sky_pos[:,1])]).T\n",
    "    pointings_sky_pos_3D = np.vstack([np.cos(pointings_sky_pos[:, 0]) * np.cos(pointings_sky_pos[:,1]),\n",
    "                                        np.sin(pointings_sky_pos[:,0]) * np.cos(pointings_sky_pos[:,1]),\n",
    "                                        np.sin(pointings_sky_pos[:,1])]).T\n",
    "    # law of cosines to compute 3D distance\n",
    "    max_3D_dist = np.sqrt(2. - 2. * np.cos(survey_radius))\n",
    "    survey_tree = KDTree(pointings_sky_pos_3D)\n",
    "    overlap_indices = survey_tree.query_ball_point(x=transient_sky_pos_3D, r=max_3D_dist)\n",
    "\n",
    "    return overlap_indices, transient_sky_pos_3D, pointings_sky_pos_3D"
   ]
  },
  {
   "cell_type": "code",
   "execution_count": 27,
   "metadata": {},
   "outputs": [
    {
     "data": {
      "text/plain": [
       "0.005986237404172219"
      ]
     },
     "execution_count": 27,
     "metadata": {},
     "output_type": "execute_result"
    }
   ],
   "source": [
    "np.sqrt(36/np.pi)/(np.pi*180)"
   ]
  },
  {
   "cell_type": "code",
   "execution_count": 28,
   "metadata": {},
   "outputs": [
    {
     "data": {
      "text/plain": [
       "0.05908179503018386"
      ]
     },
     "execution_count": 28,
     "metadata": {},
     "output_type": "execute_result"
    }
   ],
   "source": [
    "survey_fov_sqrad\n",
    "survey_radius"
   ]
  },
  {
   "cell_type": "code",
   "execution_count": 40,
   "metadata": {},
   "outputs": [],
   "source": [
    "parameters = pd.DataFrame(np.array([[0, 1, 2], [0.2813573, 1, 2], [-0.0978646, 1, 2]]).T,\n",
    "                   columns=['id', 'ra', 'dec'])\n",
    "\n",
    "parameters_deg = parameters.copy()\n",
    "\n",
    "parameters['ra'] = parameters_deg['ra'] * np.pi/180\n",
    "parameters['dec'] = parameters_deg['dec'] * np.pi/180"
   ]
  },
  {
   "cell_type": "code",
   "execution_count": 41,
   "metadata": {},
   "outputs": [
    {
     "data": {
      "text/html": [
       "<div>\n",
       "<style scoped>\n",
       "    .dataframe tbody tr th:only-of-type {\n",
       "        vertical-align: middle;\n",
       "    }\n",
       "\n",
       "    .dataframe tbody tr th {\n",
       "        vertical-align: top;\n",
       "    }\n",
       "\n",
       "    .dataframe thead th {\n",
       "        text-align: right;\n",
       "    }\n",
       "</style>\n",
       "<table border=\"1\" class=\"dataframe\">\n",
       "  <thead>\n",
       "    <tr style=\"text-align: right;\">\n",
       "      <th></th>\n",
       "      <th>id</th>\n",
       "      <th>ra</th>\n",
       "      <th>dec</th>\n",
       "    </tr>\n",
       "  </thead>\n",
       "  <tbody>\n",
       "    <tr>\n",
       "      <th>0</th>\n",
       "      <td>0.0</td>\n",
       "      <td>0.281357</td>\n",
       "      <td>-0.097865</td>\n",
       "    </tr>\n",
       "    <tr>\n",
       "      <th>1</th>\n",
       "      <td>1.0</td>\n",
       "      <td>1.000000</td>\n",
       "      <td>1.000000</td>\n",
       "    </tr>\n",
       "    <tr>\n",
       "      <th>2</th>\n",
       "      <td>2.0</td>\n",
       "      <td>2.000000</td>\n",
       "      <td>2.000000</td>\n",
       "    </tr>\n",
       "  </tbody>\n",
       "</table>\n",
       "</div>"
      ],
      "text/plain": [
       "    id        ra       dec\n",
       "0  0.0  0.281357 -0.097865\n",
       "1  1.0  1.000000  1.000000\n",
       "2  2.0  2.000000  2.000000"
      ]
     },
     "execution_count": 41,
     "metadata": {},
     "output_type": "execute_result"
    }
   ],
   "source": [
    "parameters_deg"
   ]
  },
  {
   "cell_type": "code",
   "execution_count": 57,
   "metadata": {},
   "outputs": [],
   "source": [
    "time_space_overlap, transient_sky_pos_3D, pointings_sky_pos_3D = find_sky_overlaps(pointings_database, parameters)"
   ]
  },
  {
   "cell_type": "code",
   "execution_count": 67,
   "metadata": {},
   "outputs": [
    {
     "data": {
      "text/plain": [
       "array([list([1197, 6218, 6747, 26673, 53966, 59013, 63142, 72220, 89371, 90141, 104257]),\n",
       "       list([53966, 89371]),\n",
       "       list([6440, 8696, 28612, 29057, 53966, 84899, 88721, 89371, 89849, 90726])],\n",
       "      dtype=object)"
      ]
     },
     "execution_count": 67,
     "metadata": {},
     "output_type": "execute_result"
    }
   ],
   "source": [
    "time_space_overlap"
   ]
  },
  {
   "cell_type": "code",
   "execution_count": 58,
   "metadata": {},
   "outputs": [
    {
     "data": {
      "text/plain": [
       "array([[ 0.99998648,  0.00491058, -0.00170806],\n",
       "       [ 0.99969541,  0.01744975,  0.01745241],\n",
       "       [ 0.99878203,  0.03487824,  0.0348995 ]])"
      ]
     },
     "execution_count": 58,
     "metadata": {},
     "output_type": "execute_result"
    }
   ],
   "source": [
    "transient_sky_pos_3D"
   ]
  },
  {
   "cell_type": "code",
   "execution_count": 64,
   "metadata": {},
   "outputs": [
    {
     "data": {
      "text/plain": [
       "array([[ 0.99998648,  0.00491058, -0.00170806],\n",
       "       [ 0.99969541,  0.01744975,  0.01745241],\n",
       "       [ 0.99878203,  0.03487824,  0.0348995 ]])"
      ]
     },
     "execution_count": 64,
     "metadata": {},
     "output_type": "execute_result"
    }
   ],
   "source": [
    "transient_sky_pos_3D"
   ]
  },
  {
   "cell_type": "code",
   "execution_count": 66,
   "metadata": {},
   "outputs": [
    {
     "data": {
      "text/plain": [
       "array([[-0.7744059 , -0.62769611,  0.07932904],\n",
       "       [-0.2442343 , -0.8637784 ,  0.44072268],\n",
       "       [-0.32216947, -0.14343914,  0.93575213],\n",
       "       ...,\n",
       "       [-0.42711299,  0.84386997,  0.32474292],\n",
       "       [-0.4646512 ,  0.76802525,  0.44072268],\n",
       "       [ 0.54983123,  0.72732088, -0.41071884]])"
      ]
     },
     "execution_count": 66,
     "metadata": {},
     "output_type": "execute_result"
    }
   ],
   "source": [
    "pointings_sky_pos_3D"
   ]
  },
  {
   "cell_type": "code",
   "execution_count": 55,
   "metadata": {},
   "outputs": [],
   "source": [
    "overlapping_database_iter = pointings_database.iloc[time_space_overlap[0]]"
   ]
  },
  {
   "cell_type": "code",
   "execution_count": 56,
   "metadata": {},
   "outputs": [
    {
     "data": {
      "text/html": [
       "<div>\n",
       "<style scoped>\n",
       "    .dataframe tbody tr th:only-of-type {\n",
       "        vertical-align: middle;\n",
       "    }\n",
       "\n",
       "    .dataframe tbody tr th {\n",
       "        vertical-align: top;\n",
       "    }\n",
       "\n",
       "    .dataframe thead th {\n",
       "        text-align: right;\n",
       "    }\n",
       "</style>\n",
       "<table border=\"1\" class=\"dataframe\">\n",
       "  <thead>\n",
       "    <tr style=\"text-align: right;\">\n",
       "      <th></th>\n",
       "      <th>expMJD</th>\n",
       "      <th>filter</th>\n",
       "      <th>fiveSigmaDepth</th>\n",
       "      <th>_ra</th>\n",
       "      <th>_dec</th>\n",
       "    </tr>\n",
       "  </thead>\n",
       "  <tbody>\n",
       "    <tr>\n",
       "      <th>1197</th>\n",
       "      <td>58302.480</td>\n",
       "      <td>ztfi</td>\n",
       "      <td>20.223915</td>\n",
       "      <td>0.029788</td>\n",
       "      <td>-0.046251</td>\n",
       "    </tr>\n",
       "    <tr>\n",
       "      <th>6218</th>\n",
       "      <td>58364.293</td>\n",
       "      <td>ztfg</td>\n",
       "      <td>21.521942</td>\n",
       "      <td>6.251594</td>\n",
       "      <td>-0.046251</td>\n",
       "    </tr>\n",
       "    <tr>\n",
       "      <th>6747</th>\n",
       "      <td>58369.380</td>\n",
       "      <td>ztfr</td>\n",
       "      <td>21.425386</td>\n",
       "      <td>0.030956</td>\n",
       "      <td>-0.046251</td>\n",
       "    </tr>\n",
       "    <tr>\n",
       "      <th>26673</th>\n",
       "      <td>58697.438</td>\n",
       "      <td>ztfi</td>\n",
       "      <td>20.487064</td>\n",
       "      <td>0.029788</td>\n",
       "      <td>-0.046251</td>\n",
       "    </tr>\n",
       "    <tr>\n",
       "      <th>53966</th>\n",
       "      <td>59056.460</td>\n",
       "      <td>ztfr</td>\n",
       "      <td>21.695518</td>\n",
       "      <td>0.060614</td>\n",
       "      <td>0.016581</td>\n",
       "    </tr>\n",
       "    <tr>\n",
       "      <th>59013</th>\n",
       "      <td>59116.312</td>\n",
       "      <td>ztfr</td>\n",
       "      <td>21.050300</td>\n",
       "      <td>0.029788</td>\n",
       "      <td>-0.046251</td>\n",
       "    </tr>\n",
       "    <tr>\n",
       "      <th>63142</th>\n",
       "      <td>59156.223</td>\n",
       "      <td>ztfg</td>\n",
       "      <td>20.242613</td>\n",
       "      <td>6.250925</td>\n",
       "      <td>-0.046251</td>\n",
       "    </tr>\n",
       "    <tr>\n",
       "      <th>72220</th>\n",
       "      <td>59256.098</td>\n",
       "      <td>ztfr</td>\n",
       "      <td>19.394804</td>\n",
       "      <td>0.029788</td>\n",
       "      <td>-0.046251</td>\n",
       "    </tr>\n",
       "    <tr>\n",
       "      <th>89371</th>\n",
       "      <td>59483.340</td>\n",
       "      <td>ztfr</td>\n",
       "      <td>20.635460</td>\n",
       "      <td>0.060614</td>\n",
       "      <td>0.016581</td>\n",
       "    </tr>\n",
       "    <tr>\n",
       "      <th>90141</th>\n",
       "      <td>59491.316</td>\n",
       "      <td>ztfi</td>\n",
       "      <td>20.690083</td>\n",
       "      <td>0.029788</td>\n",
       "      <td>-0.046251</td>\n",
       "    </tr>\n",
       "    <tr>\n",
       "      <th>104257</th>\n",
       "      <td>59789.418</td>\n",
       "      <td>ztfg</td>\n",
       "      <td>21.390000</td>\n",
       "      <td>0.029788</td>\n",
       "      <td>-0.046251</td>\n",
       "    </tr>\n",
       "  </tbody>\n",
       "</table>\n",
       "</div>"
      ],
      "text/plain": [
       "           expMJD filter  fiveSigmaDepth       _ra      _dec\n",
       "1197    58302.480   ztfi       20.223915  0.029788 -0.046251\n",
       "6218    58364.293   ztfg       21.521942  6.251594 -0.046251\n",
       "6747    58369.380   ztfr       21.425386  0.030956 -0.046251\n",
       "26673   58697.438   ztfi       20.487064  0.029788 -0.046251\n",
       "53966   59056.460   ztfr       21.695518  0.060614  0.016581\n",
       "59013   59116.312   ztfr       21.050300  0.029788 -0.046251\n",
       "63142   59156.223   ztfg       20.242613  6.250925 -0.046251\n",
       "72220   59256.098   ztfr       19.394804  0.029788 -0.046251\n",
       "89371   59483.340   ztfr       20.635460  0.060614  0.016581\n",
       "90141   59491.316   ztfi       20.690083  0.029788 -0.046251\n",
       "104257  59789.418   ztfg       21.390000  0.029788 -0.046251"
      ]
     },
     "execution_count": 56,
     "metadata": {},
     "output_type": "execute_result"
    }
   ],
   "source": [
    "overlapping_database_iter"
   ]
  },
  {
   "cell_type": "code",
   "execution_count": 68,
   "metadata": {},
   "outputs": [
    {
     "data": {
      "text/html": [
       "<div>\n",
       "<style scoped>\n",
       "    .dataframe tbody tr th:only-of-type {\n",
       "        vertical-align: middle;\n",
       "    }\n",
       "\n",
       "    .dataframe tbody tr th {\n",
       "        vertical-align: top;\n",
       "    }\n",
       "\n",
       "    .dataframe thead th {\n",
       "        text-align: right;\n",
       "    }\n",
       "</style>\n",
       "<table border=\"1\" class=\"dataframe\">\n",
       "  <thead>\n",
       "    <tr style=\"text-align: right;\">\n",
       "      <th></th>\n",
       "      <th>expMJD</th>\n",
       "      <th>filter</th>\n",
       "      <th>fiveSigmaDepth</th>\n",
       "      <th>_ra</th>\n",
       "      <th>_dec</th>\n",
       "    </tr>\n",
       "  </thead>\n",
       "  <tbody>\n",
       "    <tr>\n",
       "      <th>1197</th>\n",
       "      <td>58302.480</td>\n",
       "      <td>ztfi</td>\n",
       "      <td>20.223915</td>\n",
       "      <td>0.029788</td>\n",
       "      <td>-0.046251</td>\n",
       "    </tr>\n",
       "    <tr>\n",
       "      <th>6218</th>\n",
       "      <td>58364.293</td>\n",
       "      <td>ztfg</td>\n",
       "      <td>21.521942</td>\n",
       "      <td>6.251594</td>\n",
       "      <td>-0.046251</td>\n",
       "    </tr>\n",
       "    <tr>\n",
       "      <th>6747</th>\n",
       "      <td>58369.380</td>\n",
       "      <td>ztfr</td>\n",
       "      <td>21.425386</td>\n",
       "      <td>0.030956</td>\n",
       "      <td>-0.046251</td>\n",
       "    </tr>\n",
       "    <tr>\n",
       "      <th>26673</th>\n",
       "      <td>58697.438</td>\n",
       "      <td>ztfi</td>\n",
       "      <td>20.487064</td>\n",
       "      <td>0.029788</td>\n",
       "      <td>-0.046251</td>\n",
       "    </tr>\n",
       "    <tr>\n",
       "      <th>53966</th>\n",
       "      <td>59056.460</td>\n",
       "      <td>ztfr</td>\n",
       "      <td>21.695518</td>\n",
       "      <td>0.060614</td>\n",
       "      <td>0.016581</td>\n",
       "    </tr>\n",
       "    <tr>\n",
       "      <th>59013</th>\n",
       "      <td>59116.312</td>\n",
       "      <td>ztfr</td>\n",
       "      <td>21.050300</td>\n",
       "      <td>0.029788</td>\n",
       "      <td>-0.046251</td>\n",
       "    </tr>\n",
       "    <tr>\n",
       "      <th>63142</th>\n",
       "      <td>59156.223</td>\n",
       "      <td>ztfg</td>\n",
       "      <td>20.242613</td>\n",
       "      <td>6.250925</td>\n",
       "      <td>-0.046251</td>\n",
       "    </tr>\n",
       "    <tr>\n",
       "      <th>72220</th>\n",
       "      <td>59256.098</td>\n",
       "      <td>ztfr</td>\n",
       "      <td>19.394804</td>\n",
       "      <td>0.029788</td>\n",
       "      <td>-0.046251</td>\n",
       "    </tr>\n",
       "    <tr>\n",
       "      <th>89371</th>\n",
       "      <td>59483.340</td>\n",
       "      <td>ztfr</td>\n",
       "      <td>20.635460</td>\n",
       "      <td>0.060614</td>\n",
       "      <td>0.016581</td>\n",
       "    </tr>\n",
       "    <tr>\n",
       "      <th>90141</th>\n",
       "      <td>59491.316</td>\n",
       "      <td>ztfi</td>\n",
       "      <td>20.690083</td>\n",
       "      <td>0.029788</td>\n",
       "      <td>-0.046251</td>\n",
       "    </tr>\n",
       "    <tr>\n",
       "      <th>104257</th>\n",
       "      <td>59789.418</td>\n",
       "      <td>ztfg</td>\n",
       "      <td>21.390000</td>\n",
       "      <td>0.029788</td>\n",
       "      <td>-0.046251</td>\n",
       "    </tr>\n",
       "  </tbody>\n",
       "</table>\n",
       "</div>"
      ],
      "text/plain": [
       "           expMJD filter  fiveSigmaDepth       _ra      _dec\n",
       "1197    58302.480   ztfi       20.223915  0.029788 -0.046251\n",
       "6218    58364.293   ztfg       21.521942  6.251594 -0.046251\n",
       "6747    58369.380   ztfr       21.425386  0.030956 -0.046251\n",
       "26673   58697.438   ztfi       20.487064  0.029788 -0.046251\n",
       "53966   59056.460   ztfr       21.695518  0.060614  0.016581\n",
       "59013   59116.312   ztfr       21.050300  0.029788 -0.046251\n",
       "63142   59156.223   ztfg       20.242613  6.250925 -0.046251\n",
       "72220   59256.098   ztfr       19.394804  0.029788 -0.046251\n",
       "89371   59483.340   ztfr       20.635460  0.060614  0.016581\n",
       "90141   59491.316   ztfi       20.690083  0.029788 -0.046251\n",
       "104257  59789.418   ztfg       21.390000  0.029788 -0.046251"
      ]
     },
     "execution_count": 68,
     "metadata": {},
     "output_type": "execute_result"
    }
   ],
   "source": [
    "overlapping_database_iter"
   ]
  },
  {
   "cell_type": "code",
   "execution_count": 51,
   "metadata": {},
   "outputs": [
    {
     "data": {
      "text/plain": [
       "Text(0, 0.5, 'dec')"
      ]
     },
     "execution_count": 51,
     "metadata": {},
     "output_type": "execute_result"
    },
    {
     "data": {
      "image/png": "[encoded data removed]",
      "text/plain": [
       "<Figure size 640x480 with 1 Axes>"
      ]
     },
     "metadata": {},
     "output_type": "display_data"
    }
   ],
   "source": [
    "plt.scatter(overlapping_database_iter['_ra']*180/np.pi, overlapping_database_iter['_dec']*180/np.pi)\n",
    "plt.xlabel('ra')\n",
    "plt.ylabel('dec')"
   ]
  },
  {
   "cell_type": "code",
   "execution_count": 78,
   "metadata": {},
   "outputs": [
    {
     "data": {
      "text/plain": [
       "Text(0, 0.5, 'dec [deg]')"
      ]
     },
     "execution_count": 78,
     "metadata": {},
     "output_type": "execute_result"
    },
    {
     "data": {
      "image/png": "[encoded data removed]",
      "text/plain": [
       "<Figure size 640x480 with 1 Axes>"
      ]
     },
     "metadata": {},
     "output_type": "display_data"
    }
   ],
   "source": [
    "plt.scatter(pointings_database['_ra']*180/np.pi, pointings_database['_dec']*180/np.pi)\n",
    "plt.xlim(0.2813573 - 3.38, 0.2813573 + 3.38)\n",
    "plt.ylim(-0.097865 - 3.38, -0.097865 + 3.38)\n",
    "plt.xlabel('ra [deg]')\n",
    "plt.ylabel('dec [deg]')\n"
   ]
  },
  {
   "cell_type": "code",
   "execution_count": 84,
   "metadata": {},
   "outputs": [],
   "source": [
    "a = (pointings_database['_ra']*180/np.pi < 3.38) \n",
    "b = (pointings_database['_ra']*180/np.pi > - 3.38) \n",
    "c = (pointings_database['_dec']*180/np.pi < 3.38) \n",
    "d = (pointings_database['_dec']*180/np.pi > - 3.38)"
   ]
  },
  {
   "cell_type": "code",
   "execution_count": 90,
   "metadata": {},
   "outputs": [
    {
     "data": {
      "text/html": [
       "<div>\n",
       "<style scoped>\n",
       "    .dataframe tbody tr th:only-of-type {\n",
       "        vertical-align: middle;\n",
       "    }\n",
       "\n",
       "    .dataframe tbody tr th {\n",
       "        vertical-align: top;\n",
       "    }\n",
       "\n",
       "    .dataframe thead th {\n",
       "        text-align: right;\n",
       "    }\n",
       "</style>\n",
       "<table border=\"1\" class=\"dataframe\">\n",
       "  <thead>\n",
       "    <tr style=\"text-align: right;\">\n",
       "      <th></th>\n",
       "      <th>expMJD</th>\n",
       "      <th>filter</th>\n",
       "      <th>fiveSigmaDepth</th>\n",
       "      <th>_ra</th>\n",
       "      <th>_dec</th>\n",
       "    </tr>\n",
       "  </thead>\n",
       "  <tbody>\n",
       "    <tr>\n",
       "      <th>1197</th>\n",
       "      <td>58302.480</td>\n",
       "      <td>ztfi</td>\n",
       "      <td>20.223915</td>\n",
       "      <td>0.029788</td>\n",
       "      <td>-0.046251</td>\n",
       "    </tr>\n",
       "    <tr>\n",
       "      <th>6747</th>\n",
       "      <td>58369.380</td>\n",
       "      <td>ztfr</td>\n",
       "      <td>21.425386</td>\n",
       "      <td>0.030956</td>\n",
       "      <td>-0.046251</td>\n",
       "    </tr>\n",
       "    <tr>\n",
       "      <th>26673</th>\n",
       "      <td>58697.438</td>\n",
       "      <td>ztfi</td>\n",
       "      <td>20.487064</td>\n",
       "      <td>0.029788</td>\n",
       "      <td>-0.046251</td>\n",
       "    </tr>\n",
       "    <tr>\n",
       "      <th>59013</th>\n",
       "      <td>59116.312</td>\n",
       "      <td>ztfr</td>\n",
       "      <td>21.050300</td>\n",
       "      <td>0.029788</td>\n",
       "      <td>-0.046251</td>\n",
       "    </tr>\n",
       "    <tr>\n",
       "      <th>72220</th>\n",
       "      <td>59256.098</td>\n",
       "      <td>ztfr</td>\n",
       "      <td>19.394804</td>\n",
       "      <td>0.029788</td>\n",
       "      <td>-0.046251</td>\n",
       "    </tr>\n",
       "    <tr>\n",
       "      <th>90141</th>\n",
       "      <td>59491.316</td>\n",
       "      <td>ztfi</td>\n",
       "      <td>20.690083</td>\n",
       "      <td>0.029788</td>\n",
       "      <td>-0.046251</td>\n",
       "    </tr>\n",
       "    <tr>\n",
       "      <th>104257</th>\n",
       "      <td>59789.418</td>\n",
       "      <td>ztfg</td>\n",
       "      <td>21.390000</td>\n",
       "      <td>0.029788</td>\n",
       "      <td>-0.046251</td>\n",
       "    </tr>\n",
       "  </tbody>\n",
       "</table>\n",
       "</div>"
      ],
      "text/plain": [
       "           expMJD filter  fiveSigmaDepth       _ra      _dec\n",
       "1197    58302.480   ztfi       20.223915  0.029788 -0.046251\n",
       "6747    58369.380   ztfr       21.425386  0.030956 -0.046251\n",
       "26673   58697.438   ztfi       20.487064  0.029788 -0.046251\n",
       "59013   59116.312   ztfr       21.050300  0.029788 -0.046251\n",
       "72220   59256.098   ztfr       19.394804  0.029788 -0.046251\n",
       "90141   59491.316   ztfi       20.690083  0.029788 -0.046251\n",
       "104257  59789.418   ztfg       21.390000  0.029788 -0.046251"
      ]
     },
     "execution_count": 90,
     "metadata": {},
     "output_type": "execute_result"
    }
   ],
   "source": [
    "ab = np.logical_and(a, b)\n",
    "cd = np.logical_and(c, d)\n",
    "abcd = np.logical_and(ab, cd)\n",
    "pointings_database[abcd]"
   ]
  },
  {
   "cell_type": "code",
   "execution_count": 74,
   "metadata": {},
   "outputs": [
    {
     "data": {
      "text/plain": [
       "[<matplotlib.lines.Line2D at 0x7fb85b6d6e60>]"
      ]
     },
     "execution_count": 74,
     "metadata": {},
     "output_type": "execute_result"
    },
    {
     "data": {
      "image/png": "[encoded data removed]",
      "text/plain": [
       "<Figure size 640x480 with 1 Axes>"
      ]
     },
     "metadata": {},
     "output_type": "display_data"
    }
   ],
   "source": [
    "plt.plot(pointings_database['expMJD'],np.arange(len(pointings_database)))"
   ]
  },
  {
   "cell_type": "code",
   "execution_count": 89,
   "metadata": {},
   "outputs": [],
   "source": [
    "survey_fov_sqdeg = 41253\n",
    "survey_fov_sqrad = survey_fov_sqdeg*(np.pi/180.0)**2\n",
    "survey_radius = np.sqrt(survey_fov_sqrad/np.pi)"
   ]
  },
  {
   "cell_type": "code",
   "execution_count": 100,
   "metadata": {},
   "outputs": [
    {
     "data": {
      "text/plain": [
       "58288"
      ]
     },
     "execution_count": 100,
     "metadata": {},
     "output_type": "execute_result"
    }
   ],
   "source": [
    "int(np.min(pointings_database['expMJD']))"
   ]
  },
  {
   "cell_type": "code",
   "execution_count": 103,
   "metadata": {},
   "outputs": [],
   "source": [
    "# 30 sec exposure\n",
    "exp_count_per_night=[]\n",
    "for i in range(int(np.min(pointings_database['expMJD'])), int(np.max(pointings_database['expMJD']))):\n",
    "\n",
    "    ab = np.logical_and(pointings_database['expMJD']>i, pointings_database['expMJD']<(i+1))\n",
    "    exp_count_per_night.append(len(pointings_database[ab]))\n",
    "    \n",
    "exp_count_per_night = np.array(exp_count_per_night)"
   ]
  },
  {
   "cell_type": "code",
   "execution_count": 125,
   "metadata": {},
   "outputs": [
    {
     "data": {
      "text/plain": [
       "92.0"
      ]
     },
     "execution_count": 125,
     "metadata": {},
     "output_type": "execute_result"
    }
   ],
   "source": [
    "np.median(exp_count_per_night[exp_count_per_night>0])"
   ]
  },
  {
   "cell_type": "code",
   "execution_count": 106,
   "metadata": {},
   "outputs": [
    {
     "data": {
      "text/plain": [
       "(array([ 28.,  27.,  40.,  40.,  50., 181., 337., 187., 154., 122.]),\n",
       " array([  1. ,  14.9,  28.8,  42.7,  56.6,  70.5,  84.4,  98.3, 112.2,\n",
       "        126.1, 140. ]),\n",
       " <BarContainer object of 10 artists>)"
      ]
     },
     "execution_count": 106,
     "metadata": {},
     "output_type": "execute_result"
    },
    {
     "data": {
      "image/png": "[encoded data removed]",
      "text/plain": [
       "<Figure size 640x480 with 1 Axes>"
      ]
     },
     "metadata": {},
     "output_type": "display_data"
    }
   ],
   "source": [
    "plt.hist(exp_count_per_night[exp_count_per_night>0])"
   ]
  },
  {
   "cell_type": "code",
   "execution_count": 109,
   "metadata": {},
   "outputs": [
    {
     "data": {
      "text/plain": [
       "58288"
      ]
     },
     "execution_count": 109,
     "metadata": {},
     "output_type": "execute_result"
    }
   ],
   "source": [
    "int(np.min(pointings_database['expMJD']))\n",
    "# Mar - 19 - 2022"
   ]
  },
  {
   "cell_type": "code",
   "execution_count": 108,
   "metadata": {},
   "outputs": [
    {
     "data": {
      "text/plain": [
       "59822"
      ]
     },
     "execution_count": 108,
     "metadata": {},
     "output_type": "execute_result"
    }
   ],
   "source": [
    "int(np.max(pointings_database['expMJD']))\n",
    "# Aug - 31 - 2022"
   ]
  },
  {
   "cell_type": "code",
   "execution_count": 112,
   "metadata": {},
   "outputs": [
    {
     "data": {
      "text/html": [
       "<div>\n",
       "<style scoped>\n",
       "    .dataframe tbody tr th:only-of-type {\n",
       "        vertical-align: middle;\n",
       "    }\n",
       "\n",
       "    .dataframe tbody tr th {\n",
       "        vertical-align: top;\n",
       "    }\n",
       "\n",
       "    .dataframe thead th {\n",
       "        text-align: right;\n",
       "    }\n",
       "</style>\n",
       "<table border=\"1\" class=\"dataframe\">\n",
       "  <thead>\n",
       "    <tr style=\"text-align: right;\">\n",
       "      <th></th>\n",
       "      <th>expMJD</th>\n",
       "      <th>filter</th>\n",
       "      <th>fiveSigmaDepth</th>\n",
       "      <th>_ra</th>\n",
       "      <th>_dec</th>\n",
       "    </tr>\n",
       "  </thead>\n",
       "  <tbody>\n",
       "    <tr>\n",
       "      <th>0</th>\n",
       "      <td>58288.170</td>\n",
       "      <td>ztfi</td>\n",
       "      <td>19.931356</td>\n",
       "      <td>3.822735</td>\n",
       "      <td>0.079412</td>\n",
       "    </tr>\n",
       "    <tr>\n",
       "      <th>1</th>\n",
       "      <td>58288.176</td>\n",
       "      <td>ztfi</td>\n",
       "      <td>20.210491</td>\n",
       "      <td>4.436831</td>\n",
       "      <td>0.456404</td>\n",
       "    </tr>\n",
       "    <tr>\n",
       "      <th>2</th>\n",
       "      <td>58288.180</td>\n",
       "      <td>ztfi</td>\n",
       "      <td>20.540510</td>\n",
       "      <td>3.560472</td>\n",
       "      <td>1.210386</td>\n",
       "    </tr>\n",
       "    <tr>\n",
       "      <th>3</th>\n",
       "      <td>58288.184</td>\n",
       "      <td>ztfi</td>\n",
       "      <td>20.345324</td>\n",
       "      <td>3.355396</td>\n",
       "      <td>0.582067</td>\n",
       "    </tr>\n",
       "    <tr>\n",
       "      <th>4</th>\n",
       "      <td>58288.188</td>\n",
       "      <td>ztfi</td>\n",
       "      <td>20.411247</td>\n",
       "      <td>3.520526</td>\n",
       "      <td>0.330740</td>\n",
       "    </tr>\n",
       "    <tr>\n",
       "      <th>...</th>\n",
       "      <td>...</td>\n",
       "      <td>...</td>\n",
       "      <td>...</td>\n",
       "      <td>...</td>\n",
       "      <td>...</td>\n",
       "    </tr>\n",
       "    <tr>\n",
       "      <th>76</th>\n",
       "      <td>58288.465</td>\n",
       "      <td>ztfr</td>\n",
       "      <td>19.961952</td>\n",
       "      <td>0.400126</td>\n",
       "      <td>0.267908</td>\n",
       "    </tr>\n",
       "    <tr>\n",
       "      <th>77</th>\n",
       "      <td>58288.470</td>\n",
       "      <td>ztfr</td>\n",
       "      <td>20.274796</td>\n",
       "      <td>0.491055</td>\n",
       "      <td>0.959058</td>\n",
       "    </tr>\n",
       "    <tr>\n",
       "      <th>78</th>\n",
       "      <td>58288.473</td>\n",
       "      <td>ztfr</td>\n",
       "      <td>20.703732</td>\n",
       "      <td>5.834386</td>\n",
       "      <td>1.084722</td>\n",
       "    </tr>\n",
       "    <tr>\n",
       "      <th>79</th>\n",
       "      <td>58288.477</td>\n",
       "      <td>ztfr</td>\n",
       "      <td>20.915184</td>\n",
       "      <td>6.045699</td>\n",
       "      <td>0.519235</td>\n",
       "    </tr>\n",
       "    <tr>\n",
       "      <th>80</th>\n",
       "      <td>58288.480</td>\n",
       "      <td>ztfr</td>\n",
       "      <td>20.557556</td>\n",
       "      <td>5.643236</td>\n",
       "      <td>0.456404</td>\n",
       "    </tr>\n",
       "  </tbody>\n",
       "</table>\n",
       "<p>81 rows × 5 columns</p>\n",
       "</div>"
      ],
      "text/plain": [
       "       expMJD filter  fiveSigmaDepth       _ra      _dec\n",
       "0   58288.170   ztfi       19.931356  3.822735  0.079412\n",
       "1   58288.176   ztfi       20.210491  4.436831  0.456404\n",
       "2   58288.180   ztfi       20.540510  3.560472  1.210386\n",
       "3   58288.184   ztfi       20.345324  3.355396  0.582067\n",
       "4   58288.188   ztfi       20.411247  3.520526  0.330740\n",
       "..        ...    ...             ...       ...       ...\n",
       "76  58288.465   ztfr       19.961952  0.400126  0.267908\n",
       "77  58288.470   ztfr       20.274796  0.491055  0.959058\n",
       "78  58288.473   ztfr       20.703732  5.834386  1.084722\n",
       "79  58288.477   ztfr       20.915184  6.045699  0.519235\n",
       "80  58288.480   ztfr       20.557556  5.643236  0.456404\n",
       "\n",
       "[81 rows x 5 columns]"
      ]
     },
     "execution_count": 112,
     "metadata": {},
     "output_type": "execute_result"
    }
   ],
   "source": [
    "a = (pointings_database['expMJD'] < 58289) \n",
    "b = (pointings_database['expMJD'] > 58288) \n",
    "pointings_database[np.logical_and(a,b)]"
   ]
  },
  {
   "cell_type": "code",
   "execution_count": 115,
   "metadata": {},
   "outputs": [
    {
     "data": {
      "text/plain": [
       "259.1999997384846"
      ]
     },
     "execution_count": 115,
     "metadata": {},
     "output_type": "execute_result"
    }
   ],
   "source": [
    "(58288.176 - 58288.173)*24*3600"
   ]
  },
  {
   "cell_type": "code",
   "execution_count": 121,
   "metadata": {},
   "outputs": [
    {
     "data": {
      "text/plain": [
       "345.600000070408"
      ]
     },
     "execution_count": 121,
     "metadata": {},
     "output_type": "execute_result"
    }
   ],
   "source": [
    "np.median(np.diff(pointings_database['expMJD'])*24*3600)"
   ]
  },
  {
   "cell_type": "code",
   "execution_count": 123,
   "metadata": {},
   "outputs": [
    {
     "data": {
      "text/plain": [
       "0.004000000000814907"
      ]
     },
     "execution_count": 123,
     "metadata": {},
     "output_type": "execute_result"
    }
   ],
   "source": [
    "np.median(np.diff(pointings_database['expMJD']))"
   ]
  },
  {
   "cell_type": "markdown",
   "metadata": {},
   "source": [
    "# Redback - exploring degrading lightcurve to LSST cadence "
   ]
  },
  {
   "cell_type": "code",
   "execution_count": 126,
   "metadata": {},
   "outputs": [],
   "source": [
    "datadir = '/astro/users/ncaplar/github/redback/redback/tables'\n",
    "pointings_database_name = 'rubin_baseline_v3.0_10yrs.tar.gz'"
   ]
  },
  {
   "cell_type": "code",
   "execution_count": 127,
   "metadata": {},
   "outputs": [],
   "source": [
    "pointings_database = pd.read_csv(datadir + \"/\" + pointings_database_name, compression='gzip')"
   ]
  },
  {
   "cell_type": "code",
   "execution_count": 128,
   "metadata": {},
   "outputs": [
    {
     "data": {
      "text/html": [
       "<div>\n",
       "<style scoped>\n",
       "    .dataframe tbody tr th:only-of-type {\n",
       "        vertical-align: middle;\n",
       "    }\n",
       "\n",
       "    .dataframe tbody tr th {\n",
       "        vertical-align: top;\n",
       "    }\n",
       "\n",
       "    .dataframe thead th {\n",
       "        text-align: right;\n",
       "    }\n",
       "</style>\n",
       "<table border=\"1\" class=\"dataframe\">\n",
       "  <thead>\n",
       "    <tr style=\"text-align: right;\">\n",
       "      <th></th>\n",
       "      <th>obsHistID</th>\n",
       "      <th>_ra</th>\n",
       "      <th>_dec</th>\n",
       "      <th>expMJD</th>\n",
       "      <th>filter</th>\n",
       "      <th>fiveSigmaDepth</th>\n",
       "    </tr>\n",
       "  </thead>\n",
       "  <tbody>\n",
       "    <tr>\n",
       "      <th>0</th>\n",
       "      <td>0</td>\n",
       "      <td>5.211615</td>\n",
       "      <td>-0.271831</td>\n",
       "      <td>60218.001806</td>\n",
       "      <td>lssty</td>\n",
       "      <td>22.546480</td>\n",
       "    </tr>\n",
       "    <tr>\n",
       "      <th>1</th>\n",
       "      <td>1</td>\n",
       "      <td>5.184243</td>\n",
       "      <td>-0.229415</td>\n",
       "      <td>60218.002260</td>\n",
       "      <td>lssty</td>\n",
       "      <td>22.532127</td>\n",
       "    </tr>\n",
       "    <tr>\n",
       "      <th>2</th>\n",
       "      <td>2</td>\n",
       "      <td>5.156032</td>\n",
       "      <td>-0.276708</td>\n",
       "      <td>60218.002715</td>\n",
       "      <td>lssty</td>\n",
       "      <td>22.546281</td>\n",
       "    </tr>\n",
       "    <tr>\n",
       "      <th>3</th>\n",
       "      <td>3</td>\n",
       "      <td>6.218399</td>\n",
       "      <td>-0.892994</td>\n",
       "      <td>60218.004914</td>\n",
       "      <td>lsstr</td>\n",
       "      <td>23.128326</td>\n",
       "    </tr>\n",
       "    <tr>\n",
       "      <th>4</th>\n",
       "      <td>4</td>\n",
       "      <td>0.002771</td>\n",
       "      <td>-0.927466</td>\n",
       "      <td>60218.005362</td>\n",
       "      <td>lsstr</td>\n",
       "      <td>23.075882</td>\n",
       "    </tr>\n",
       "    <tr>\n",
       "      <th>...</th>\n",
       "      <td>...</td>\n",
       "      <td>...</td>\n",
       "      <td>...</td>\n",
       "      <td>...</td>\n",
       "      <td>...</td>\n",
       "      <td>...</td>\n",
       "    </tr>\n",
       "    <tr>\n",
       "      <th>2086074</th>\n",
       "      <td>2086074</td>\n",
       "      <td>0.242628</td>\n",
       "      <td>-0.300568</td>\n",
       "      <td>63870.104316</td>\n",
       "      <td>lssty</td>\n",
       "      <td>21.765412</td>\n",
       "    </tr>\n",
       "    <tr>\n",
       "      <th>2086075</th>\n",
       "      <td>2086075</td>\n",
       "      <td>0.286405</td>\n",
       "      <td>-0.337880</td>\n",
       "      <td>63870.104764</td>\n",
       "      <td>lssty</td>\n",
       "      <td>21.700841</td>\n",
       "    </tr>\n",
       "    <tr>\n",
       "      <th>2086076</th>\n",
       "      <td>2086076</td>\n",
       "      <td>0.237859</td>\n",
       "      <td>-0.352882</td>\n",
       "      <td>63870.105213</td>\n",
       "      <td>lssty</td>\n",
       "      <td>21.743835</td>\n",
       "    </tr>\n",
       "    <tr>\n",
       "      <th>2086077</th>\n",
       "      <td>2086077</td>\n",
       "      <td>0.193195</td>\n",
       "      <td>-0.316096</td>\n",
       "      <td>63870.105661</td>\n",
       "      <td>lssty</td>\n",
       "      <td>21.765063</td>\n",
       "    </tr>\n",
       "    <tr>\n",
       "      <th>2086078</th>\n",
       "      <td>2086078</td>\n",
       "      <td>0.188766</td>\n",
       "      <td>-0.367150</td>\n",
       "      <td>63870.106108</td>\n",
       "      <td>lssty</td>\n",
       "      <td>21.787785</td>\n",
       "    </tr>\n",
       "  </tbody>\n",
       "</table>\n",
       "<p>2086079 rows × 6 columns</p>\n",
       "</div>"
      ],
      "text/plain": [
       "         obsHistID       _ra      _dec        expMJD filter  fiveSigmaDepth\n",
       "0                0  5.211615 -0.271831  60218.001806  lssty       22.546480\n",
       "1                1  5.184243 -0.229415  60218.002260  lssty       22.532127\n",
       "2                2  5.156032 -0.276708  60218.002715  lssty       22.546281\n",
       "3                3  6.218399 -0.892994  60218.004914  lsstr       23.128326\n",
       "4                4  0.002771 -0.927466  60218.005362  lsstr       23.075882\n",
       "...            ...       ...       ...           ...    ...             ...\n",
       "2086074    2086074  0.242628 -0.300568  63870.104316  lssty       21.765412\n",
       "2086075    2086075  0.286405 -0.337880  63870.104764  lssty       21.700841\n",
       "2086076    2086076  0.237859 -0.352882  63870.105213  lssty       21.743835\n",
       "2086077    2086077  0.193195 -0.316096  63870.105661  lssty       21.765063\n",
       "2086078    2086078  0.188766 -0.367150  63870.106108  lssty       21.787785\n",
       "\n",
       "[2086079 rows x 6 columns]"
      ]
     },
     "execution_count": 128,
     "metadata": {},
     "output_type": "execute_result"
    }
   ],
   "source": [
    "pointings_database"
   ]
  },
  {
   "cell_type": "code",
   "execution_count": 129,
   "metadata": {},
   "outputs": [
    {
     "data": {
      "text/plain": [
       "Text(0, 0.5, 'dec')"
      ]
     },
     "execution_count": 129,
     "metadata": {},
     "output_type": "execute_result"
    },
    {
     "data": {
      "image/png": "[encoded data removed]",
      "text/plain": [
       "<Figure size 640x480 with 1 Axes>"
      ]
     },
     "metadata": {},
     "output_type": "display_data"
    }
   ],
   "source": [
    "plt.scatter(pointings_database['_ra']*180/np.pi, pointings_database['_dec']*180/np.pi)\n",
    "plt.xlabel('ra')\n",
    "plt.ylabel('dec')"
   ]
  },
  {
   "cell_type": "code",
   "execution_count": 130,
   "metadata": {},
   "outputs": [
    {
     "name": "stdout",
     "output_type": "stream",
     "text": [
      "survey_radius:0.03050970776212563\n"
     ]
    }
   ],
   "source": [
    "survey_fov_sqdeg = 9.6\n",
    "survey_fov_sqrad = survey_fov_sqdeg*(np.pi/180.0)**2\n",
    "survey_radius = np.sqrt(survey_fov_sqrad/np.pi)\n",
    "print('survey_radius:' + str(survey_radius))"
   ]
  },
  {
   "cell_type": "code",
   "execution_count": 131,
   "metadata": {},
   "outputs": [],
   "source": [
    "parameters = pd.DataFrame(np.array([[0, 1, 2], [0.2813573, 1, 2], [-0.0978646, 1, 2]]).T,\n",
    "                   columns=['id', 'ra', 'dec'])\n",
    "\n",
    "parameters_deg = parameters.copy()\n",
    "\n",
    "parameters['ra'] = parameters_deg['ra'] * np.pi/180\n",
    "parameters['dec'] = parameters_deg['dec'] * np.pi/180\n",
    "\n",
    "time_space_overlap, transient_sky_pos_3D, pointings_sky_pos_3D = find_sky_overlaps(pointings_database, parameters)"
   ]
  },
  {
   "cell_type": "code",
   "execution_count": 142,
   "metadata": {},
   "outputs": [
    {
     "data": {
      "text/plain": [
       "array([60228.01939646, 60229.15751636, 60233.09121907, 60248.13913665,\n",
       "       60248.1400404 , 60264.06419325, 60285.03369158, 60292.04841646,\n",
       "       60438.42810582, 60438.43120199, 60442.42964177, 60442.43273505,\n",
       "       60492.399031  , 60502.37472491, 60531.405594  , 60546.2757241 ,\n",
       "       60565.18496973, 60565.19173363, 60566.22539358, 60566.22583997,\n",
       "       60579.15203075, 60579.15474916, 60587.17166363, 60587.17391098,\n",
       "       60588.14762193, 60607.0919349 , 60607.10323611, 60614.11615829,\n",
       "       60614.11705594, 60650.05767886, 60810.43036033, 60810.43346189,\n",
       "       60944.2378171 , 60961.1366425 , 60962.20779987, 60964.1499669 ,\n",
       "       60993.1732444 , 61243.38915629, 61243.38960408, 61261.39062001,\n",
       "       61262.29813764, 61265.37217378, 61270.40806052, 61293.27995131,\n",
       "       61297.20979724, 61298.22341508, 61305.1811942 , 61317.0354486 ,\n",
       "       61317.07602442, 61323.10967939, 61323.11148749, 61329.1281511 ,\n",
       "       61329.25398945, 61342.1945769 , 61345.1409437 , 61355.04274181,\n",
       "       61369.09134706, 61370.10990799, 61371.04937728, 61376.03342232,\n",
       "       61383.09161662, 61386.05494171, 61558.41671208, 61559.41451552,\n",
       "       61623.32902948, 61647.23663033, 61652.25573227, 61713.14690958,\n",
       "       61971.2967678 , 61973.3668892 , 61974.37561212, 62000.30639693,\n",
       "       62001.27766963, 62001.27857092, 62001.29962683, 62001.30321246,\n",
       "       62003.31491464, 62004.25867506, 62004.38769409, 62027.18726708,\n",
       "       62030.3079176 , 62031.14662803, 62059.11692832, 62060.06458925,\n",
       "       62060.06503605, 62060.24944015, 62060.25032946, 62061.18455986,\n",
       "       62065.22043165, 62066.24210934, 62087.15974812, 62088.06283929,\n",
       "       62089.08776341, 62091.05023522, 62093.07182681, 62096.09062754,\n",
       "       62096.0910763 , 62107.05117549, 62114.0599516 , 62120.03866886,\n",
       "       62121.03711167, 62123.03558268, 62123.03602938, 62125.04028971,\n",
       "       62324.38122332, 62326.40135265, 62326.40179999, 62360.361791  ,\n",
       "       62415.13958658, 62445.11067258, 62704.42279089, 62705.39057948,\n",
       "       62707.42710251, 62710.40082309, 62711.38793893, 62715.32241423,\n",
       "       62718.36256202, 62718.36439793, 62735.24472759, 62736.22371084,\n",
       "       62742.29899502, 62764.31518922, 62764.31608463, 62769.3001526 ,\n",
       "       62770.18982607, 62770.19253581, 62776.16787184, 62792.07160347,\n",
       "       62793.19793874, 62794.11915992, 62796.18875511, 62800.1250263 ,\n",
       "       62829.03829828, 62832.02220581, 62847.03794487, 62848.03618768,\n",
       "       62848.03752972, 62852.03950115, 62855.0402198 , 62856.05287169,\n",
       "       62863.05499805, 63011.43639777, 63117.24328353, 63121.33336423,\n",
       "       63152.21945241, 63154.12499155, 63157.09724339, 63187.06351341,\n",
       "       63444.39629704, 63448.34175748, 63450.32257989, 63456.3743905 ,\n",
       "       63478.26822209, 63486.31404571, 63498.24645912, 63508.01262567,\n",
       "       63510.17146909, 63512.13524202, 63526.14513323, 63530.02861005,\n",
       "       63531.13829788, 63532.07199523, 63545.03792556, 63545.04429314,\n",
       "       63558.03920651, 63558.04012292, 63559.09037124, 63561.02738765,\n",
       "       63562.06290057, 63565.02742216, 63567.04339877, 63570.0459058 ,\n",
       "       63571.14251127, 63573.07649879, 63585.03733425, 63722.42666484,\n",
       "       63722.4297774 , 63726.42704938, 63726.43017092, 63743.4068612 ,\n",
       "       63743.40954496, 63744.41121961, 63776.34670002, 63800.42200706,\n",
       "       63801.43603464, 63802.31952212, 63815.33743522, 63832.318203  ,\n",
       "       63834.21389895, 63859.24848392])"
      ]
     },
     "execution_count": 142,
     "metadata": {},
     "output_type": "execute_result"
    }
   ],
   "source": [
    "overlapping_database_iter = pointings_database.iloc[time_space_overlap[0]]\n",
    "single_filter_single_position = overlapping_database_iter[overlapping_database_iter['filter']=='lsstr']['expMJD']\n",
    "single_filter_single_position.values\n"
   ]
  },
  {
   "cell_type": "code",
   "execution_count": 141,
   "metadata": {},
   "outputs": [
    {
     "data": {
      "text/plain": [
       "array([60228.01939646, 60229.15751636, 60233.09121907, 60248.13913665,\n",
       "       60248.1400404 , 60264.06419325, 60285.03369158, 60292.04841646,\n",
       "       60438.42810582, 60438.43120199, 60442.42964177, 60442.43273505,\n",
       "       60492.399031  , 60502.37472491, 60531.405594  , 60546.2757241 ,\n",
       "       60565.18496973, 60565.19173363, 60566.22539358, 60566.22583997,\n",
       "       60579.15203075, 60579.15474916, 60587.17166363, 60587.17391098,\n",
       "       60588.14762193, 60607.0919349 , 60607.10323611, 60614.11615829,\n",
       "       60614.11705594, 60650.05767886, 60810.43036033, 60810.43346189,\n",
       "       60944.2378171 , 60961.1366425 , 60962.20779987, 60964.1499669 ,\n",
       "       60993.1732444 , 61243.38915629, 61243.38960408, 61261.39062001,\n",
       "       61262.29813764, 61265.37217378, 61270.40806052, 61293.27995131,\n",
       "       61297.20979724, 61298.22341508, 61305.1811942 , 61317.0354486 ,\n",
       "       61317.07602442, 61323.10967939, 61323.11148749, 61329.1281511 ,\n",
       "       61329.25398945, 61342.1945769 , 61345.1409437 , 61355.04274181,\n",
       "       61369.09134706, 61370.10990799, 61371.04937728, 61376.03342232,\n",
       "       61383.09161662, 61386.05494171, 61558.41671208, 61559.41451552,\n",
       "       61623.32902948, 61647.23663033, 61652.25573227, 61713.14690958,\n",
       "       61971.2967678 , 61973.3668892 , 61974.37561212, 62000.30639693,\n",
       "       62001.27766963, 62001.27857092, 62001.29962683, 62001.30321246,\n",
       "       62003.31491464, 62004.25867506, 62004.38769409, 62027.18726708,\n",
       "       62030.3079176 , 62031.14662803, 62059.11692832, 62060.06458925,\n",
       "       62060.06503605, 62060.24944015, 62060.25032946, 62061.18455986,\n",
       "       62065.22043165, 62066.24210934, 62087.15974812, 62088.06283929,\n",
       "       62089.08776341, 62091.05023522, 62093.07182681, 62096.09062754,\n",
       "       62096.0910763 , 62107.05117549, 62114.0599516 , 62120.03866886,\n",
       "       62121.03711167, 62123.03558268, 62123.03602938, 62125.04028971,\n",
       "       62324.38122332, 62326.40135265, 62326.40179999, 62360.361791  ,\n",
       "       62415.13958658, 62445.11067258, 62704.42279089, 62705.39057948,\n",
       "       62707.42710251, 62710.40082309, 62711.38793893, 62715.32241423,\n",
       "       62718.36256202, 62718.36439793, 62735.24472759, 62736.22371084,\n",
       "       62742.29899502, 62764.31518922, 62764.31608463, 62769.3001526 ,\n",
       "       62770.18982607, 62770.19253581, 62776.16787184, 62792.07160347,\n",
       "       62793.19793874, 62794.11915992, 62796.18875511, 62800.1250263 ,\n",
       "       62829.03829828, 62832.02220581, 62847.03794487, 62848.03618768,\n",
       "       62848.03752972, 62852.03950115, 62855.0402198 , 62856.05287169,\n",
       "       62863.05499805, 63011.43639777, 63117.24328353, 63121.33336423,\n",
       "       63152.21945241, 63154.12499155, 63157.09724339, 63187.06351341,\n",
       "       63444.39629704, 63448.34175748, 63450.32257989, 63456.3743905 ,\n",
       "       63478.26822209, 63486.31404571, 63498.24645912, 63508.01262567,\n",
       "       63510.17146909, 63512.13524202, 63526.14513323, 63530.02861005,\n",
       "       63531.13829788, 63532.07199523, 63545.03792556, 63545.04429314,\n",
       "       63558.03920651, 63558.04012292, 63559.09037124, 63561.02738765,\n",
       "       63562.06290057, 63565.02742216, 63567.04339877, 63570.0459058 ,\n",
       "       63571.14251127, 63573.07649879, 63585.03733425, 63722.42666484,\n",
       "       63722.4297774 , 63726.42704938, 63726.43017092, 63743.4068612 ,\n",
       "       63743.40954496, 63744.41121961, 63776.34670002, 63800.42200706,\n",
       "       63801.43603464, 63802.31952212, 63815.33743522, 63832.318203  ,\n",
       "       63834.21389895, 63859.24848392])"
      ]
     },
     "execution_count": 141,
     "metadata": {},
     "output_type": "execute_result"
    }
   ],
   "source": []
  },
  {
   "cell_type": "code",
   "execution_count": null,
   "metadata": {},
   "outputs": [],
   "source": []
  },
  {
   "cell_type": "markdown",
   "metadata": {},
   "source": [
    "# Analysis of real data (Tape Single Pixel)"
   ]
  },
  {
   "cell_type": "code",
   "execution_count": 2,
   "metadata": {},
   "outputs": [],
   "source": [
    "ens = Ensemble()  # initialize an ensemble object"
   ]
  },
  {
   "cell_type": "code",
   "execution_count": 3,
   "metadata": {},
   "outputs": [
    {
     "data": {
      "text/html": [
       "<div>\n",
       "    <div style=\"width: 24px; height: 24px; background-color: #e1e1e1; border: 3px solid #9D9D9D; border-radius: 5px; position: absolute;\"> </div>\n",
       "    <div style=\"margin-left: 48px;\">\n",
       "        <h3 style=\"margin-bottom: 0px;\">Client</h3>\n",
       "        <p style=\"color: #9D9D9D; margin-bottom: 0px;\">Client-600ddc59-66cf-11ee-b24e-b42e99a8502c</p>\n",
       "        <table style=\"width: 100%; text-align: left;\">\n",
       "\n",
       "        <tr>\n",
       "        \n",
       "            <td style=\"text-align: left;\"><strong>Connection method:</strong> Cluster object</td>\n",
       "            <td style=\"text-align: left;\"><strong>Cluster type:</strong> distributed.LocalCluster</td>\n",
       "        \n",
       "        </tr>\n",
       "\n",
       "        \n",
       "            <tr>\n",
       "                <td style=\"text-align: left;\">\n",
       "                    <strong>Dashboard: </strong> <a href=\"http://127.0.0.1:8787/status\" target=\"_blank\">http://127.0.0.1:8787/status</a>\n",
       "                </td>\n",
       "                <td style=\"text-align: left;\"></td>\n",
       "            </tr>\n",
       "        \n",
       "\n",
       "        </table>\n",
       "\n",
       "        \n",
       "\n",
       "        \n",
       "            <details>\n",
       "            <summary style=\"margin-bottom: 20px;\"><h3 style=\"display: inline;\">Cluster Info</h3></summary>\n",
       "            <div class=\"jp-RenderedHTMLCommon jp-RenderedHTML jp-mod-trusted jp-OutputArea-output\">\n",
       "    <div style=\"width: 24px; height: 24px; background-color: #e1e1e1; border: 3px solid #9D9D9D; border-radius: 5px; position: absolute;\">\n",
       "    </div>\n",
       "    <div style=\"margin-left: 48px;\">\n",
       "        <h3 style=\"margin-bottom: 0px; margin-top: 0px;\">LocalCluster</h3>\n",
       "        <p style=\"color: #9D9D9D; margin-bottom: 0px;\">92348c1b</p>\n",
       "        <table style=\"width: 100%; text-align: left;\">\n",
       "            <tr>\n",
       "                <td style=\"text-align: left;\">\n",
       "                    <strong>Dashboard:</strong> <a href=\"http://127.0.0.1:8787/status\" target=\"_blank\">http://127.0.0.1:8787/status</a>\n",
       "                </td>\n",
       "                <td style=\"text-align: left;\">\n",
       "                    <strong>Workers:</strong> 8\n",
       "                </td>\n",
       "            </tr>\n",
       "            <tr>\n",
       "                <td style=\"text-align: left;\">\n",
       "                    <strong>Total threads:</strong> 64\n",
       "                </td>\n",
       "                <td style=\"text-align: left;\">\n",
       "                    <strong>Total memory:</strong> 251.68 GiB\n",
       "                </td>\n",
       "            </tr>\n",
       "            \n",
       "            <tr>\n",
       "    <td style=\"text-align: left;\"><strong>Status:</strong> running</td>\n",
       "    <td style=\"text-align: left;\"><strong>Using processes:</strong> True</td>\n",
       "</tr>\n",
       "\n",
       "            \n",
       "        </table>\n",
       "\n",
       "        <details>\n",
       "            <summary style=\"margin-bottom: 20px;\">\n",
       "                <h3 style=\"display: inline;\">Scheduler Info</h3>\n",
       "            </summary>\n",
       "\n",
       "            <div style=\"\">\n",
       "    <div>\n",
       "        <div style=\"width: 24px; height: 24px; background-color: #FFF7E5; border: 3px solid #FF6132; border-radius: 5px; position: absolute;\"> </div>\n",
       "        <div style=\"margin-left: 48px;\">\n",
       "            <h3 style=\"margin-bottom: 0px;\">Scheduler</h3>\n",
       "            <p style=\"color: #9D9D9D; margin-bottom: 0px;\">Scheduler-13a82496-60b5-430b-8575-1bb7b3f66b45</p>\n",
       "            <table style=\"width: 100%; text-align: left;\">\n",
       "                <tr>\n",
       "                    <td style=\"text-align: left;\">\n",
       "                        <strong>Comm:</strong> tcp://127.0.0.1:46265\n",
       "                    </td>\n",
       "                    <td style=\"text-align: left;\">\n",
       "                        <strong>Workers:</strong> 8\n",
       "                    </td>\n",
       "                </tr>\n",
       "                <tr>\n",
       "                    <td style=\"text-align: left;\">\n",
       "                        <strong>Dashboard:</strong> <a href=\"http://127.0.0.1:8787/status\" target=\"_blank\">http://127.0.0.1:8787/status</a>\n",
       "                    </td>\n",
       "                    <td style=\"text-align: left;\">\n",
       "                        <strong>Total threads:</strong> 64\n",
       "                    </td>\n",
       "                </tr>\n",
       "                <tr>\n",
       "                    <td style=\"text-align: left;\">\n",
       "                        <strong>Started:</strong> Just now\n",
       "                    </td>\n",
       "                    <td style=\"text-align: left;\">\n",
       "                        <strong>Total memory:</strong> 251.68 GiB\n",
       "                    </td>\n",
       "                </tr>\n",
       "            </table>\n",
       "        </div>\n",
       "    </div>\n",
       "\n",
       "    <details style=\"margin-left: 48px;\">\n",
       "        <summary style=\"margin-bottom: 20px;\">\n",
       "            <h3 style=\"display: inline;\">Workers</h3>\n",
       "        </summary>\n",
       "\n",
       "        \n",
       "        <div style=\"margin-bottom: 20px;\">\n",
       "            <div style=\"width: 24px; height: 24px; background-color: #DBF5FF; border: 3px solid #4CC9FF; border-radius: 5px; position: absolute;\"> </div>\n",
       "            <div style=\"margin-left: 48px;\">\n",
       "            <details>\n",
       "                <summary>\n",
       "                    <h4 style=\"margin-bottom: 0px; display: inline;\">Worker: 0</h4>\n",
       "                </summary>\n",
       "                <table style=\"width: 100%; text-align: left;\">\n",
       "                    <tr>\n",
       "                        <td style=\"text-align: left;\">\n",
       "                            <strong>Comm: </strong> tcp://127.0.0.1:33424\n",
       "                        </td>\n",
       "                        <td style=\"text-align: left;\">\n",
       "                            <strong>Total threads: </strong> 8\n",
       "                        </td>\n",
       "                    </tr>\n",
       "                    <tr>\n",
       "                        <td style=\"text-align: left;\">\n",
       "                            <strong>Dashboard: </strong> <a href=\"http://127.0.0.1:33251/status\" target=\"_blank\">http://127.0.0.1:33251/status</a>\n",
       "                        </td>\n",
       "                        <td style=\"text-align: left;\">\n",
       "                            <strong>Memory: </strong> 31.46 GiB\n",
       "                        </td>\n",
       "                    </tr>\n",
       "                    <tr>\n",
       "                        <td style=\"text-align: left;\">\n",
       "                            <strong>Nanny: </strong> tcp://127.0.0.1:42290\n",
       "                        </td>\n",
       "                        <td style=\"text-align: left;\"></td>\n",
       "                    </tr>\n",
       "                    <tr>\n",
       "                        <td colspan=\"2\" style=\"text-align: left;\">\n",
       "                            <strong>Local directory: </strong> /tmp/dask-scratch-space/worker-pro5j4cr\n",
       "                        </td>\n",
       "                    </tr>\n",
       "\n",
       "                    \n",
       "                    <tr>\n",
       "                        <td style=\"text-align: left;\">\n",
       "                            <strong>GPU: </strong>NVIDIA GeForce RTX 2080 Ti\n",
       "                        </td>\n",
       "                        <td style=\"text-align: left;\">\n",
       "                            <strong>GPU memory: </strong> 11.00 GiB\n",
       "                        </td>\n",
       "                    </tr>\n",
       "                    \n",
       "\n",
       "                    \n",
       "\n",
       "                </table>\n",
       "            </details>\n",
       "            </div>\n",
       "        </div>\n",
       "        \n",
       "        <div style=\"margin-bottom: 20px;\">\n",
       "            <div style=\"width: 24px; height: 24px; background-color: #DBF5FF; border: 3px solid #4CC9FF; border-radius: 5px; position: absolute;\"> </div>\n",
       "            <div style=\"margin-left: 48px;\">\n",
       "            <details>\n",
       "                <summary>\n",
       "                    <h4 style=\"margin-bottom: 0px; display: inline;\">Worker: 1</h4>\n",
       "                </summary>\n",
       "                <table style=\"width: 100%; text-align: left;\">\n",
       "                    <tr>\n",
       "                        <td style=\"text-align: left;\">\n",
       "                            <strong>Comm: </strong> tcp://127.0.0.1:41864\n",
       "                        </td>\n",
       "                        <td style=\"text-align: left;\">\n",
       "                            <strong>Total threads: </strong> 8\n",
       "                        </td>\n",
       "                    </tr>\n",
       "                    <tr>\n",
       "                        <td style=\"text-align: left;\">\n",
       "                            <strong>Dashboard: </strong> <a href=\"http://127.0.0.1:43595/status\" target=\"_blank\">http://127.0.0.1:43595/status</a>\n",
       "                        </td>\n",
       "                        <td style=\"text-align: left;\">\n",
       "                            <strong>Memory: </strong> 31.46 GiB\n",
       "                        </td>\n",
       "                    </tr>\n",
       "                    <tr>\n",
       "                        <td style=\"text-align: left;\">\n",
       "                            <strong>Nanny: </strong> tcp://127.0.0.1:40373\n",
       "                        </td>\n",
       "                        <td style=\"text-align: left;\"></td>\n",
       "                    </tr>\n",
       "                    <tr>\n",
       "                        <td colspan=\"2\" style=\"text-align: left;\">\n",
       "                            <strong>Local directory: </strong> /tmp/dask-scratch-space/worker-yuc4z3i5\n",
       "                        </td>\n",
       "                    </tr>\n",
       "\n",
       "                    \n",
       "                    <tr>\n",
       "                        <td style=\"text-align: left;\">\n",
       "                            <strong>GPU: </strong>NVIDIA GeForce RTX 2080 Ti\n",
       "                        </td>\n",
       "                        <td style=\"text-align: left;\">\n",
       "                            <strong>GPU memory: </strong> 11.00 GiB\n",
       "                        </td>\n",
       "                    </tr>\n",
       "                    \n",
       "\n",
       "                    \n",
       "\n",
       "                </table>\n",
       "            </details>\n",
       "            </div>\n",
       "        </div>\n",
       "        \n",
       "        <div style=\"margin-bottom: 20px;\">\n",
       "            <div style=\"width: 24px; height: 24px; background-color: #DBF5FF; border: 3px solid #4CC9FF; border-radius: 5px; position: absolute;\"> </div>\n",
       "            <div style=\"margin-left: 48px;\">\n",
       "            <details>\n",
       "                <summary>\n",
       "                    <h4 style=\"margin-bottom: 0px; display: inline;\">Worker: 2</h4>\n",
       "                </summary>\n",
       "                <table style=\"width: 100%; text-align: left;\">\n",
       "                    <tr>\n",
       "                        <td style=\"text-align: left;\">\n",
       "                            <strong>Comm: </strong> tcp://127.0.0.1:44520\n",
       "                        </td>\n",
       "                        <td style=\"text-align: left;\">\n",
       "                            <strong>Total threads: </strong> 8\n",
       "                        </td>\n",
       "                    </tr>\n",
       "                    <tr>\n",
       "                        <td style=\"text-align: left;\">\n",
       "                            <strong>Dashboard: </strong> <a href=\"http://127.0.0.1:46374/status\" target=\"_blank\">http://127.0.0.1:46374/status</a>\n",
       "                        </td>\n",
       "                        <td style=\"text-align: left;\">\n",
       "                            <strong>Memory: </strong> 31.46 GiB\n",
       "                        </td>\n",
       "                    </tr>\n",
       "                    <tr>\n",
       "                        <td style=\"text-align: left;\">\n",
       "                            <strong>Nanny: </strong> tcp://127.0.0.1:44797\n",
       "                        </td>\n",
       "                        <td style=\"text-align: left;\"></td>\n",
       "                    </tr>\n",
       "                    <tr>\n",
       "                        <td colspan=\"2\" style=\"text-align: left;\">\n",
       "                            <strong>Local directory: </strong> /tmp/dask-scratch-space/worker-4_q0b3r2\n",
       "                        </td>\n",
       "                    </tr>\n",
       "\n",
       "                    \n",
       "                    <tr>\n",
       "                        <td style=\"text-align: left;\">\n",
       "                            <strong>GPU: </strong>NVIDIA GeForce RTX 2080 Ti\n",
       "                        </td>\n",
       "                        <td style=\"text-align: left;\">\n",
       "                            <strong>GPU memory: </strong> 11.00 GiB\n",
       "                        </td>\n",
       "                    </tr>\n",
       "                    \n",
       "\n",
       "                    \n",
       "\n",
       "                </table>\n",
       "            </details>\n",
       "            </div>\n",
       "        </div>\n",
       "        \n",
       "        <div style=\"margin-bottom: 20px;\">\n",
       "            <div style=\"width: 24px; height: 24px; background-color: #DBF5FF; border: 3px solid #4CC9FF; border-radius: 5px; position: absolute;\"> </div>\n",
       "            <div style=\"margin-left: 48px;\">\n",
       "            <details>\n",
       "                <summary>\n",
       "                    <h4 style=\"margin-bottom: 0px; display: inline;\">Worker: 3</h4>\n",
       "                </summary>\n",
       "                <table style=\"width: 100%; text-align: left;\">\n",
       "                    <tr>\n",
       "                        <td style=\"text-align: left;\">\n",
       "                            <strong>Comm: </strong> tcp://127.0.0.1:44738\n",
       "                        </td>\n",
       "                        <td style=\"text-align: left;\">\n",
       "                            <strong>Total threads: </strong> 8\n",
       "                        </td>\n",
       "                    </tr>\n",
       "                    <tr>\n",
       "                        <td style=\"text-align: left;\">\n",
       "                            <strong>Dashboard: </strong> <a href=\"http://127.0.0.1:42831/status\" target=\"_blank\">http://127.0.0.1:42831/status</a>\n",
       "                        </td>\n",
       "                        <td style=\"text-align: left;\">\n",
       "                            <strong>Memory: </strong> 31.46 GiB\n",
       "                        </td>\n",
       "                    </tr>\n",
       "                    <tr>\n",
       "                        <td style=\"text-align: left;\">\n",
       "                            <strong>Nanny: </strong> tcp://127.0.0.1:33997\n",
       "                        </td>\n",
       "                        <td style=\"text-align: left;\"></td>\n",
       "                    </tr>\n",
       "                    <tr>\n",
       "                        <td colspan=\"2\" style=\"text-align: left;\">\n",
       "                            <strong>Local directory: </strong> /tmp/dask-scratch-space/worker-f4_68tgn\n",
       "                        </td>\n",
       "                    </tr>\n",
       "\n",
       "                    \n",
       "                    <tr>\n",
       "                        <td style=\"text-align: left;\">\n",
       "                            <strong>GPU: </strong>NVIDIA GeForce RTX 2080 Ti\n",
       "                        </td>\n",
       "                        <td style=\"text-align: left;\">\n",
       "                            <strong>GPU memory: </strong> 11.00 GiB\n",
       "                        </td>\n",
       "                    </tr>\n",
       "                    \n",
       "\n",
       "                    \n",
       "\n",
       "                </table>\n",
       "            </details>\n",
       "            </div>\n",
       "        </div>\n",
       "        \n",
       "        <div style=\"margin-bottom: 20px;\">\n",
       "            <div style=\"width: 24px; height: 24px; background-color: #DBF5FF; border: 3px solid #4CC9FF; border-radius: 5px; position: absolute;\"> </div>\n",
       "            <div style=\"margin-left: 48px;\">\n",
       "            <details>\n",
       "                <summary>\n",
       "                    <h4 style=\"margin-bottom: 0px; display: inline;\">Worker: 4</h4>\n",
       "                </summary>\n",
       "                <table style=\"width: 100%; text-align: left;\">\n",
       "                    <tr>\n",
       "                        <td style=\"text-align: left;\">\n",
       "                            <strong>Comm: </strong> tcp://127.0.0.1:43750\n",
       "                        </td>\n",
       "                        <td style=\"text-align: left;\">\n",
       "                            <strong>Total threads: </strong> 8\n",
       "                        </td>\n",
       "                    </tr>\n",
       "                    <tr>\n",
       "                        <td style=\"text-align: left;\">\n",
       "                            <strong>Dashboard: </strong> <a href=\"http://127.0.0.1:39014/status\" target=\"_blank\">http://127.0.0.1:39014/status</a>\n",
       "                        </td>\n",
       "                        <td style=\"text-align: left;\">\n",
       "                            <strong>Memory: </strong> 31.46 GiB\n",
       "                        </td>\n",
       "                    </tr>\n",
       "                    <tr>\n",
       "                        <td style=\"text-align: left;\">\n",
       "                            <strong>Nanny: </strong> tcp://127.0.0.1:41119\n",
       "                        </td>\n",
       "                        <td style=\"text-align: left;\"></td>\n",
       "                    </tr>\n",
       "                    <tr>\n",
       "                        <td colspan=\"2\" style=\"text-align: left;\">\n",
       "                            <strong>Local directory: </strong> /tmp/dask-scratch-space/worker-d5wdebg6\n",
       "                        </td>\n",
       "                    </tr>\n",
       "\n",
       "                    \n",
       "                    <tr>\n",
       "                        <td style=\"text-align: left;\">\n",
       "                            <strong>GPU: </strong>NVIDIA GeForce RTX 2080 Ti\n",
       "                        </td>\n",
       "                        <td style=\"text-align: left;\">\n",
       "                            <strong>GPU memory: </strong> 11.00 GiB\n",
       "                        </td>\n",
       "                    </tr>\n",
       "                    \n",
       "\n",
       "                    \n",
       "\n",
       "                </table>\n",
       "            </details>\n",
       "            </div>\n",
       "        </div>\n",
       "        \n",
       "        <div style=\"margin-bottom: 20px;\">\n",
       "            <div style=\"width: 24px; height: 24px; background-color: #DBF5FF; border: 3px solid #4CC9FF; border-radius: 5px; position: absolute;\"> </div>\n",
       "            <div style=\"margin-left: 48px;\">\n",
       "            <details>\n",
       "                <summary>\n",
       "                    <h4 style=\"margin-bottom: 0px; display: inline;\">Worker: 5</h4>\n",
       "                </summary>\n",
       "                <table style=\"width: 100%; text-align: left;\">\n",
       "                    <tr>\n",
       "                        <td style=\"text-align: left;\">\n",
       "                            <strong>Comm: </strong> tcp://127.0.0.1:39977\n",
       "                        </td>\n",
       "                        <td style=\"text-align: left;\">\n",
       "                            <strong>Total threads: </strong> 8\n",
       "                        </td>\n",
       "                    </tr>\n",
       "                    <tr>\n",
       "                        <td style=\"text-align: left;\">\n",
       "                            <strong>Dashboard: </strong> <a href=\"http://127.0.0.1:35909/status\" target=\"_blank\">http://127.0.0.1:35909/status</a>\n",
       "                        </td>\n",
       "                        <td style=\"text-align: left;\">\n",
       "                            <strong>Memory: </strong> 31.46 GiB\n",
       "                        </td>\n",
       "                    </tr>\n",
       "                    <tr>\n",
       "                        <td style=\"text-align: left;\">\n",
       "                            <strong>Nanny: </strong> tcp://127.0.0.1:39969\n",
       "                        </td>\n",
       "                        <td style=\"text-align: left;\"></td>\n",
       "                    </tr>\n",
       "                    <tr>\n",
       "                        <td colspan=\"2\" style=\"text-align: left;\">\n",
       "                            <strong>Local directory: </strong> /tmp/dask-scratch-space/worker-2pgx97yb\n",
       "                        </td>\n",
       "                    </tr>\n",
       "\n",
       "                    \n",
       "                    <tr>\n",
       "                        <td style=\"text-align: left;\">\n",
       "                            <strong>GPU: </strong>NVIDIA GeForce RTX 2080 Ti\n",
       "                        </td>\n",
       "                        <td style=\"text-align: left;\">\n",
       "                            <strong>GPU memory: </strong> 11.00 GiB\n",
       "                        </td>\n",
       "                    </tr>\n",
       "                    \n",
       "\n",
       "                    \n",
       "\n",
       "                </table>\n",
       "            </details>\n",
       "            </div>\n",
       "        </div>\n",
       "        \n",
       "        <div style=\"margin-bottom: 20px;\">\n",
       "            <div style=\"width: 24px; height: 24px; background-color: #DBF5FF; border: 3px solid #4CC9FF; border-radius: 5px; position: absolute;\"> </div>\n",
       "            <div style=\"margin-left: 48px;\">\n",
       "            <details>\n",
       "                <summary>\n",
       "                    <h4 style=\"margin-bottom: 0px; display: inline;\">Worker: 6</h4>\n",
       "                </summary>\n",
       "                <table style=\"width: 100%; text-align: left;\">\n",
       "                    <tr>\n",
       "                        <td style=\"text-align: left;\">\n",
       "                            <strong>Comm: </strong> tcp://127.0.0.1:42778\n",
       "                        </td>\n",
       "                        <td style=\"text-align: left;\">\n",
       "                            <strong>Total threads: </strong> 8\n",
       "                        </td>\n",
       "                    </tr>\n",
       "                    <tr>\n",
       "                        <td style=\"text-align: left;\">\n",
       "                            <strong>Dashboard: </strong> <a href=\"http://127.0.0.1:35348/status\" target=\"_blank\">http://127.0.0.1:35348/status</a>\n",
       "                        </td>\n",
       "                        <td style=\"text-align: left;\">\n",
       "                            <strong>Memory: </strong> 31.46 GiB\n",
       "                        </td>\n",
       "                    </tr>\n",
       "                    <tr>\n",
       "                        <td style=\"text-align: left;\">\n",
       "                            <strong>Nanny: </strong> tcp://127.0.0.1:41570\n",
       "                        </td>\n",
       "                        <td style=\"text-align: left;\"></td>\n",
       "                    </tr>\n",
       "                    <tr>\n",
       "                        <td colspan=\"2\" style=\"text-align: left;\">\n",
       "                            <strong>Local directory: </strong> /tmp/dask-scratch-space/worker-joz620wz\n",
       "                        </td>\n",
       "                    </tr>\n",
       "\n",
       "                    \n",
       "                    <tr>\n",
       "                        <td style=\"text-align: left;\">\n",
       "                            <strong>GPU: </strong>NVIDIA GeForce RTX 2080 Ti\n",
       "                        </td>\n",
       "                        <td style=\"text-align: left;\">\n",
       "                            <strong>GPU memory: </strong> 11.00 GiB\n",
       "                        </td>\n",
       "                    </tr>\n",
       "                    \n",
       "\n",
       "                    \n",
       "\n",
       "                </table>\n",
       "            </details>\n",
       "            </div>\n",
       "        </div>\n",
       "        \n",
       "        <div style=\"margin-bottom: 20px;\">\n",
       "            <div style=\"width: 24px; height: 24px; background-color: #DBF5FF; border: 3px solid #4CC9FF; border-radius: 5px; position: absolute;\"> </div>\n",
       "            <div style=\"margin-left: 48px;\">\n",
       "            <details>\n",
       "                <summary>\n",
       "                    <h4 style=\"margin-bottom: 0px; display: inline;\">Worker: 7</h4>\n",
       "                </summary>\n",
       "                <table style=\"width: 100%; text-align: left;\">\n",
       "                    <tr>\n",
       "                        <td style=\"text-align: left;\">\n",
       "                            <strong>Comm: </strong> tcp://127.0.0.1:40523\n",
       "                        </td>\n",
       "                        <td style=\"text-align: left;\">\n",
       "                            <strong>Total threads: </strong> 8\n",
       "                        </td>\n",
       "                    </tr>\n",
       "                    <tr>\n",
       "                        <td style=\"text-align: left;\">\n",
       "                            <strong>Dashboard: </strong> <a href=\"http://127.0.0.1:37854/status\" target=\"_blank\">http://127.0.0.1:37854/status</a>\n",
       "                        </td>\n",
       "                        <td style=\"text-align: left;\">\n",
       "                            <strong>Memory: </strong> 31.46 GiB\n",
       "                        </td>\n",
       "                    </tr>\n",
       "                    <tr>\n",
       "                        <td style=\"text-align: left;\">\n",
       "                            <strong>Nanny: </strong> tcp://127.0.0.1:40062\n",
       "                        </td>\n",
       "                        <td style=\"text-align: left;\"></td>\n",
       "                    </tr>\n",
       "                    <tr>\n",
       "                        <td colspan=\"2\" style=\"text-align: left;\">\n",
       "                            <strong>Local directory: </strong> /tmp/dask-scratch-space/worker-fc_t7c10\n",
       "                        </td>\n",
       "                    </tr>\n",
       "\n",
       "                    \n",
       "                    <tr>\n",
       "                        <td style=\"text-align: left;\">\n",
       "                            <strong>GPU: </strong>NVIDIA GeForce RTX 2080 Ti\n",
       "                        </td>\n",
       "                        <td style=\"text-align: left;\">\n",
       "                            <strong>GPU memory: </strong> 11.00 GiB\n",
       "                        </td>\n",
       "                    </tr>\n",
       "                    \n",
       "\n",
       "                    \n",
       "\n",
       "                </table>\n",
       "            </details>\n",
       "            </div>\n",
       "        </div>\n",
       "        \n",
       "\n",
       "    </details>\n",
       "</div>\n",
       "\n",
       "        </details>\n",
       "    </div>\n",
       "</div>\n",
       "            </details>\n",
       "        \n",
       "\n",
       "    </div>\n",
       "</div>"
      ],
      "text/plain": [
       "<Client: 'tcp://127.0.0.1:46265' processes=8 threads=64, memory=251.68 GiB>"
      ]
     },
     "execution_count": 3,
     "metadata": {},
     "output_type": "execute_result"
    }
   ],
   "source": [
    "ens.client_info()"
   ]
  },
  {
   "cell_type": "code",
   "execution_count": 4,
   "metadata": {},
   "outputs": [
    {
     "name": "stderr",
     "output_type": "stream",
     "text": [
      "/astro/users/ncaplar/miniconda3/envs/lf_tape_dev/lib/python3.10/site-packages/dask/dataframe/core.py:5243: UserWarning: New index has same name as existing, this is a no-op.\n",
      "  warnings.warn(\n",
      "/astro/users/ncaplar/miniconda3/envs/lf_tape_dev/lib/python3.10/site-packages/dask/dataframe/core.py:5243: UserWarning: New index has same name as existing, this is a no-op.\n",
      "  warnings.warn(\n",
      "/astro/users/ncaplar/miniconda3/envs/lf_tape_dev/lib/python3.10/site-packages/dask/dataframe/methods.py:357: PerformanceWarning: DataFrame is highly fragmented.  This is usually the result of calling `frame.insert` many times, which has poor performance.  Consider joining all columns at once using pd.concat(axis=1) instead. To get a de-fragmented frame, use `newframe = frame.copy()`\n",
      "  df[name] = val\n",
      "/astro/users/ncaplar/miniconda3/envs/lf_tape_dev/lib/python3.10/site-packages/dask/dataframe/methods.py:357: PerformanceWarning: DataFrame is highly fragmented.  This is usually the result of calling `frame.insert` many times, which has poor performance.  Consider joining all columns at once using pd.concat(axis=1) instead. To get a de-fragmented frame, use `newframe = frame.copy()`\n",
      "  df[name] = val\n",
      "/astro/users/ncaplar/miniconda3/envs/lf_tape_dev/lib/python3.10/site-packages/dask/dataframe/methods.py:357: PerformanceWarning: DataFrame is highly fragmented.  This is usually the result of calling `frame.insert` many times, which has poor performance.  Consider joining all columns at once using pd.concat(axis=1) instead. To get a de-fragmented frame, use `newframe = frame.copy()`\n",
      "  df[name] = val\n",
      "/astro/users/ncaplar/miniconda3/envs/lf_tape_dev/lib/python3.10/site-packages/dask/dataframe/methods.py:357: PerformanceWarning: DataFrame is highly fragmented.  This is usually the result of calling `frame.insert` many times, which has poor performance.  Consider joining all columns at once using pd.concat(axis=1) instead. To get a de-fragmented frame, use `newframe = frame.copy()`\n",
      "  df[name] = val\n"
     ]
    },
    {
     "data": {
      "text/plain": [
       "<tape.ensemble.Ensemble at 0x7f3d8406c550>"
      ]
     },
     "execution_count": 4,
     "metadata": {},
     "output_type": "execute_result"
    }
   ],
   "source": [
    "# if running on baldur\n",
    "data_path = \"/astro/store/epyc/data3/hipscat/catalogs/tape_test/\"\n",
    "\n",
    "\"\"\"\n",
    "col_map = ColumnMapper(id_col=\"SDSS_NAME_dr16q_constant\",\n",
    "    time_col=\"mjd_ztf_source\",\n",
    "    flux_col=\"mag_ztf_source\",\n",
    "    err_col=\"magerr_ztf_source\",\n",
    "    band_col=\"band_ztf_source\")\n",
    "\"\"\"\n",
    "col_map = ColumnMapper(id_col=\"SDSS_NAME_dr16q_constant\", \n",
    "                       time_col=\"mjd_ztf_source\",\n",
    "                       flux_col=\"mag_ztf_source\", \n",
    "                       err_col=\"magerr_ztf_source\",\n",
    "                       band_col=\"band_ztf_source\")\n",
    "\n",
    "ens.from_hipscat(data_path,\n",
    "                 source_subdir=\"tape_test_sources\",\n",
    "                 object_subdir=\"tape_test_obj\",\n",
    "                 column_mapper=col_map,\n",
    "                 additional_cols=True,\n",
    "                 sync_tables=True)"
   ]
  },
  {
   "cell_type": "code",
   "execution_count": 11,
   "metadata": {},
   "outputs": [
    {
     "name": "stdout",
     "output_type": "stream",
     "text": [
      "\n"
     ]
    },
    {
     "data": {
      "text/plain": [
       "array(['DEC_dr16q_constant', 'Dir_dr16q_constant', 'Dir_ps1_otmo',\n",
       "       'EBV_dr16q_constant', 'FEII_OPT_EW_ERR_dr16q_constant',\n",
       "       'FEII_OPT_EW_dr16q_constant', 'FEII_UV_EW_ERR_dr16q_constant',\n",
       "       'FEII_UV_EW_dr16q_constant', 'FIBERID_dr16q_constant',\n",
       "       'IF_BOSS_SDSS_dr16q_constant', 'LOGL1350_ERR_dr16q_constant',\n",
       "       'LOGL1350_dr16q_constant', 'LOGL1700_ERR_dr16q_constant',\n",
       "       'LOGL1700_dr16q_constant', 'LOGL2500_ERR_dr16q_constant',\n",
       "       'LOGL2500_dr16q_constant', 'LOGL3000_ERR_dr16q_constant',\n",
       "       'LOGL3000_dr16q_constant', 'LOGL5100_ERR_dr16q_constant',\n",
       "       'LOGL5100_dr16q_constant', 'LOGLBOL_ERR_dr16q_constant',\n",
       "       'LOGLBOL_dr16q_constant', 'LOGLEDD_RATIO_ERR_dr16q_constant',\n",
       "       'LOGLEDD_RATIO_dr16q_constant', 'LOGMBH_CIV_ERR_dr16q_constant',\n",
       "       'LOGMBH_CIV_dr16q_constant', 'LOGMBH_ERR_dr16q_constant',\n",
       "       'LOGMBH_HB_ERR_dr16q_constant', 'LOGMBH_HB_dr16q_constant',\n",
       "       'LOGMBH_MGII_ERR_dr16q_constant', 'LOGMBH_MGII_dr16q_constant',\n",
       "       'LOGMBH_dr16q_constant', 'MJD_dr16q_constant',\n",
       "       'Norder_dr16q_constant', 'Norder_ps1_otmo', 'Npix_dr16q_constant',\n",
       "       'Npix_ps1_otmo', 'OBJID_dr16q_constant', 'PLATE_dr16q_constant',\n",
       "       'RA_dr16q_constant', 'SDSS_NAME_dr16q_constant',\n",
       "       'SN_MEDIAN_ALL_dr16q_constant', 'SOURCE_Z_DR16Q_dr16q_constant',\n",
       "       'Z_DR16Q_dr16q_constant', 'Z_FIT_dr16q_constant',\n",
       "       'Z_SYS_ERR_dr16q_constant', 'Z_SYS_dr16q_constant', '_DIST',\n",
       "       'decMeanErr_ps1_otmo', 'decMean_ps1_otmo', 'epochMean_ps1_otmo',\n",
       "       'gFlags_ps1_otmo', 'gMeanPSFMagErr_ps1_otmo',\n",
       "       'gMeanPSFMag_ps1_otmo', 'iFlags_ps1_otmo',\n",
       "       'iMeanPSFMagErr_ps1_otmo', 'iMeanPSFMag_ps1_otmo',\n",
       "       'nDetections_ps1_otmo', 'ng_ps1_otmo', 'ni_ps1_otmo',\n",
       "       'nr_ps1_otmo', 'ny_ps1_otmo', 'nz_ps1_otmo', 'objID_ps1_otmo',\n",
       "       'objInfoFlag_ps1_otmo', 'qualityFlag_ps1_otmo', 'rFlags_ps1_otmo',\n",
       "       'rMeanPSFMagErr_ps1_otmo', 'rMeanPSFMag_ps1_otmo',\n",
       "       'raMeanErr_ps1_otmo', 'raMean_ps1_otmo', 'surveyID_ps1_otmo',\n",
       "       'yFlags_ps1_otmo', 'yMeanPSFMagErr_ps1_otmo',\n",
       "       'yMeanPSFMag_ps1_otmo', 'zFlags_ps1_otmo',\n",
       "       'zMeanPSFMagErr_ps1_otmo', 'zMeanPSFMag_ps1_otmo'], dtype=object)"
      ]
     },
     "execution_count": 11,
     "metadata": {},
     "output_type": "execute_result"
    }
   ],
   "source": [
    "# I am loading all of them individual files just to visualize the distribution\n",
    "# I want to find the columns that are the same in both object and source catalog\n",
    "# This is because I want to find a column that I can use as index\n",
    "test_source_2 = pd.read_parquet(\"/astro/store/epyc/data3/hipscat/catalogs/tape_test/tape_test_sources/Norder=6/Dir=10000/Npix=17752.parquet\")\n",
    "test_source_3 = pd.read_parquet(\"/astro/store/epyc/data3/hipscat/catalogs/tape_test/tape_test_sources/Norder=6/Dir=10000/Npix=17753.parquet\")\n",
    "test_source_4= pd.read_parquet(\"/astro/store/epyc/data3/hipscat/catalogs/tape_test/tape_test_sources/Norder=6/Dir=10000/Npix=17754.parquet\")\n",
    "test_source_5 = pd.read_parquet(\"/astro/store/epyc/data3/hipscat/catalogs/tape_test/tape_test_sources/Norder=6/Dir=10000/Npix=17755.parquet\")\n",
    "test_object = pd.read_parquet(\"/astro/store/epyc/data3/hipscat/catalogs/tape_test/tape_test_obj/Norder=5/Dir=0/Npix=4438.parquet\")\n",
    "print()\n",
    "lst = np.intersect1d(test_object.columns,test_source_2.columns)\n",
    "lst[:]"
   ]
  },
  {
   "cell_type": "code",
   "execution_count": 7,
   "metadata": {},
   "outputs": [
    {
     "name": "stdout",
     "output_type": "stream",
     "text": [
      "191 189 164 165\n",
      "709\n",
      "758\n"
     ]
    }
   ],
   "source": [
    "print(len(np.unique(test_source_2.index)), len(np.unique(test_source_3.index)), \n",
    "      len(np.unique(test_source_4.index)), len(np.unique(test_source_5.index)))\n",
    "print(191+189+164+165)\n",
    "print(len(np.unique(test_object.index)))"
   ]
  },
  {
   "cell_type": "code",
   "execution_count": 9,
   "metadata": {},
   "outputs": [
    {
     "data": {
      "text/plain": [
       "<matplotlib.legend.Legend at 0x7f3b0d74a320>"
      ]
     },
     "execution_count": 9,
     "metadata": {},
     "output_type": "execute_result"
    },
    {
     "data": {
      "image/png": "[encoded data removed]",
      "text/plain": [
       "<Figure size 2000x1200 with 1 Axes>"
      ]
     },
     "metadata": {},
     "output_type": "display_data"
    }
   ],
   "source": [
    "plt.figure(figsize=(20,12))\n",
    "plt.scatter(test_object['RA_dr16q_constant'].values, test_object['DEC_dr16q_constant'].values, s = 100, label = 'objects')\n",
    "plt.scatter(test_source_2['RA_dr16q_constant'].values, test_source_2['DEC_dr16q_constant'].values, s = 15, label = 'sources 17752')\n",
    "plt.scatter(test_source_3['RA_dr16q_constant'].values, test_source_3['DEC_dr16q_constant'].values, s = 15, label = 'sources 17753')\n",
    "plt.scatter(test_source_4['RA_dr16q_constant'].values, test_source_4['DEC_dr16q_constant'].values, s = 15, label = 'sources 17754')\n",
    "plt.scatter(test_source_5['RA_dr16q_constant'].values, test_source_5['DEC_dr16q_constant'].values, s = 15, label = 'sources 17755')\n",
    "plt.xlabel('RA', fontsize=40)\n",
    "plt.ylabel('DEC', fontsize=40)\n",
    "plt.yticks(fontsize=20)\n",
    "plt.xticks(fontsize=20)\n",
    "plt.legend()"
   ]
  },
  {
   "cell_type": "code",
   "execution_count": 8,
   "metadata": {},
   "outputs": [
    {
     "data": {
      "text/html": [
       "<div>\n",
       "<style scoped>\n",
       "    .dataframe tbody tr th:only-of-type {\n",
       "        vertical-align: middle;\n",
       "    }\n",
       "\n",
       "    .dataframe tbody tr th {\n",
       "        vertical-align: top;\n",
       "    }\n",
       "\n",
       "    .dataframe thead th {\n",
       "        text-align: right;\n",
       "    }\n",
       "</style>\n",
       "<table border=\"1\" class=\"dataframe\">\n",
       "  <thead>\n",
       "    <tr style=\"text-align: right;\">\n",
       "      <th></th>\n",
       "      <th>_hipscat_index</th>\n",
       "      <th>PLATE_dr16q_constant</th>\n",
       "      <th>MJD_dr16q_constant</th>\n",
       "      <th>FIBERID_dr16q_constant</th>\n",
       "      <th>RA_dr16q_constant</th>\n",
       "      <th>DEC_dr16q_constant</th>\n",
       "      <th>OBJID_dr16q_constant</th>\n",
       "      <th>IF_BOSS_SDSS_dr16q_constant</th>\n",
       "      <th>Z_DR16Q_dr16q_constant</th>\n",
       "      <th>SOURCE_Z_DR16Q_dr16q_constant</th>\n",
       "      <th>...</th>\n",
       "      <th>zFlags_ps1_otmo</th>\n",
       "      <th>yMeanPSFMag_ps1_otmo</th>\n",
       "      <th>yMeanPSFMagErr_ps1_otmo</th>\n",
       "      <th>yFlags_ps1_otmo</th>\n",
       "      <th>Norder_ps1_otmo</th>\n",
       "      <th>Dir_ps1_otmo</th>\n",
       "      <th>Npix_ps1_otmo</th>\n",
       "      <th>_DIST</th>\n",
       "      <th>Norder</th>\n",
       "      <th>Dir</th>\n",
       "    </tr>\n",
       "    <tr>\n",
       "      <th>SDSS_NAME_dr16q_constant</th>\n",
       "      <th></th>\n",
       "      <th></th>\n",
       "      <th></th>\n",
       "      <th></th>\n",
       "      <th></th>\n",
       "      <th></th>\n",
       "      <th></th>\n",
       "      <th></th>\n",
       "      <th></th>\n",
       "      <th></th>\n",
       "      <th></th>\n",
       "      <th></th>\n",
       "      <th></th>\n",
       "      <th></th>\n",
       "      <th></th>\n",
       "      <th></th>\n",
       "      <th></th>\n",
       "      <th></th>\n",
       "      <th></th>\n",
       "      <th></th>\n",
       "      <th></th>\n",
       "    </tr>\n",
       "  </thead>\n",
       "  <tbody>\n",
       "    <tr>\n",
       "      <th>024311.71-010928.3</th>\n",
       "      <td>4996744218186612736</td>\n",
       "      <td>7337</td>\n",
       "      <td>56662</td>\n",
       "      <td>360</td>\n",
       "      <td>40.798814</td>\n",
       "      <td>-1.157879</td>\n",
       "      <td>7337-56662-0360</td>\n",
       "      <td>BOSS</td>\n",
       "      <td>0.778</td>\n",
       "      <td>VI</td>\n",
       "      <td>...</td>\n",
       "      <td>114720</td>\n",
       "      <td>-999.000000</td>\n",
       "      <td>-999.000000</td>\n",
       "      <td>16416</td>\n",
       "      <td>5</td>\n",
       "      <td>0</td>\n",
       "      <td>4438</td>\n",
       "      <td>0.000015</td>\n",
       "      <td>5</td>\n",
       "      <td>0</td>\n",
       "    </tr>\n",
       "    <tr>\n",
       "      <th>024321.81-010812.1</th>\n",
       "      <td>4996744985459032064</td>\n",
       "      <td>6782</td>\n",
       "      <td>56572</td>\n",
       "      <td>285</td>\n",
       "      <td>40.840898</td>\n",
       "      <td>-1.136720</td>\n",
       "      <td>6782-56572-0285</td>\n",
       "      <td>BOSS</td>\n",
       "      <td>1.628</td>\n",
       "      <td>VI</td>\n",
       "      <td>...</td>\n",
       "      <td>115000</td>\n",
       "      <td>-999.000000</td>\n",
       "      <td>-999.000000</td>\n",
       "      <td>16416</td>\n",
       "      <td>5</td>\n",
       "      <td>0</td>\n",
       "      <td>4438</td>\n",
       "      <td>0.000010</td>\n",
       "      <td>5</td>\n",
       "      <td>0</td>\n",
       "    </tr>\n",
       "    <tr>\n",
       "      <th>024315.98-010433.7</th>\n",
       "      <td>4996747488372195328</td>\n",
       "      <td>4240</td>\n",
       "      <td>55455</td>\n",
       "      <td>202</td>\n",
       "      <td>40.816592</td>\n",
       "      <td>-1.076055</td>\n",
       "      <td>4240-55455-0202</td>\n",
       "      <td>BOSS</td>\n",
       "      <td>1.774</td>\n",
       "      <td>VI</td>\n",
       "      <td>...</td>\n",
       "      <td>115000</td>\n",
       "      <td>-999.000000</td>\n",
       "      <td>-999.000000</td>\n",
       "      <td>114720</td>\n",
       "      <td>5</td>\n",
       "      <td>0</td>\n",
       "      <td>4438</td>\n",
       "      <td>0.000017</td>\n",
       "      <td>5</td>\n",
       "      <td>0</td>\n",
       "    </tr>\n",
       "    <tr>\n",
       "      <th>024328.22-010352.7</th>\n",
       "      <td>4996749076859977728</td>\n",
       "      <td>6782</td>\n",
       "      <td>56572</td>\n",
       "      <td>298</td>\n",
       "      <td>40.867601</td>\n",
       "      <td>-1.064654</td>\n",
       "      <td>6782-56572-0298</td>\n",
       "      <td>BOSS</td>\n",
       "      <td>1.868</td>\n",
       "      <td>VI</td>\n",
       "      <td>...</td>\n",
       "      <td>115000</td>\n",
       "      <td>-999.000000</td>\n",
       "      <td>-999.000000</td>\n",
       "      <td>114720</td>\n",
       "      <td>5</td>\n",
       "      <td>0</td>\n",
       "      <td>4438</td>\n",
       "      <td>0.000005</td>\n",
       "      <td>5</td>\n",
       "      <td>0</td>\n",
       "    </tr>\n",
       "    <tr>\n",
       "      <th>024341.05-010243.3</th>\n",
       "      <td>4996749735944519680</td>\n",
       "      <td>4240</td>\n",
       "      <td>55455</td>\n",
       "      <td>178</td>\n",
       "      <td>40.921044</td>\n",
       "      <td>-1.045386</td>\n",
       "      <td>4240-55455-0178</td>\n",
       "      <td>BOSS</td>\n",
       "      <td>2.369</td>\n",
       "      <td>VI</td>\n",
       "      <td>...</td>\n",
       "      <td>115000</td>\n",
       "      <td>19.193501</td>\n",
       "      <td>0.039844</td>\n",
       "      <td>115000</td>\n",
       "      <td>5</td>\n",
       "      <td>0</td>\n",
       "      <td>4438</td>\n",
       "      <td>0.000016</td>\n",
       "      <td>5</td>\n",
       "      <td>0</td>\n",
       "    </tr>\n",
       "  </tbody>\n",
       "</table>\n",
       "<p>5 rows × 80 columns</p>\n",
       "</div>"
      ],
      "text/plain": [
       "                               _hipscat_index  PLATE_dr16q_constant  \\\n",
       "SDSS_NAME_dr16q_constant                                              \n",
       "024311.71-010928.3        4996744218186612736                  7337   \n",
       "024321.81-010812.1        4996744985459032064                  6782   \n",
       "024315.98-010433.7        4996747488372195328                  4240   \n",
       "024328.22-010352.7        4996749076859977728                  6782   \n",
       "024341.05-010243.3        4996749735944519680                  4240   \n",
       "\n",
       "                          MJD_dr16q_constant  FIBERID_dr16q_constant  \\\n",
       "SDSS_NAME_dr16q_constant                                               \n",
       "024311.71-010928.3                     56662                     360   \n",
       "024321.81-010812.1                     56572                     285   \n",
       "024315.98-010433.7                     55455                     202   \n",
       "024328.22-010352.7                     56572                     298   \n",
       "024341.05-010243.3                     55455                     178   \n",
       "\n",
       "                          RA_dr16q_constant  DEC_dr16q_constant  \\\n",
       "SDSS_NAME_dr16q_constant                                          \n",
       "024311.71-010928.3                40.798814           -1.157879   \n",
       "024321.81-010812.1                40.840898           -1.136720   \n",
       "024315.98-010433.7                40.816592           -1.076055   \n",
       "024328.22-010352.7                40.867601           -1.064654   \n",
       "024341.05-010243.3                40.921044           -1.045386   \n",
       "\n",
       "                         OBJID_dr16q_constant IF_BOSS_SDSS_dr16q_constant  \\\n",
       "SDSS_NAME_dr16q_constant                                                    \n",
       "024311.71-010928.3            7337-56662-0360                        BOSS   \n",
       "024321.81-010812.1            6782-56572-0285                        BOSS   \n",
       "024315.98-010433.7            4240-55455-0202                        BOSS   \n",
       "024328.22-010352.7            6782-56572-0298                        BOSS   \n",
       "024341.05-010243.3            4240-55455-0178                        BOSS   \n",
       "\n",
       "                          Z_DR16Q_dr16q_constant  \\\n",
       "SDSS_NAME_dr16q_constant                           \n",
       "024311.71-010928.3                         0.778   \n",
       "024321.81-010812.1                         1.628   \n",
       "024315.98-010433.7                         1.774   \n",
       "024328.22-010352.7                         1.868   \n",
       "024341.05-010243.3                         2.369   \n",
       "\n",
       "                         SOURCE_Z_DR16Q_dr16q_constant  ...  zFlags_ps1_otmo  \\\n",
       "SDSS_NAME_dr16q_constant                                ...                    \n",
       "024311.71-010928.3                                  VI  ...           114720   \n",
       "024321.81-010812.1                                  VI  ...           115000   \n",
       "024315.98-010433.7                                  VI  ...           115000   \n",
       "024328.22-010352.7                                  VI  ...           115000   \n",
       "024341.05-010243.3                                  VI  ...           115000   \n",
       "\n",
       "                          yMeanPSFMag_ps1_otmo  yMeanPSFMagErr_ps1_otmo  \\\n",
       "SDSS_NAME_dr16q_constant                                                  \n",
       "024311.71-010928.3                 -999.000000              -999.000000   \n",
       "024321.81-010812.1                 -999.000000              -999.000000   \n",
       "024315.98-010433.7                 -999.000000              -999.000000   \n",
       "024328.22-010352.7                 -999.000000              -999.000000   \n",
       "024341.05-010243.3                   19.193501                 0.039844   \n",
       "\n",
       "                          yFlags_ps1_otmo  Norder_ps1_otmo  Dir_ps1_otmo  \\\n",
       "SDSS_NAME_dr16q_constant                                                   \n",
       "024311.71-010928.3                  16416                5             0   \n",
       "024321.81-010812.1                  16416                5             0   \n",
       "024315.98-010433.7                 114720                5             0   \n",
       "024328.22-010352.7                 114720                5             0   \n",
       "024341.05-010243.3                 115000                5             0   \n",
       "\n",
       "                          Npix_ps1_otmo     _DIST  Norder  Dir  \n",
       "SDSS_NAME_dr16q_constant                                        \n",
       "024311.71-010928.3                 4438  0.000015       5    0  \n",
       "024321.81-010812.1                 4438  0.000010       5    0  \n",
       "024315.98-010433.7                 4438  0.000017       5    0  \n",
       "024328.22-010352.7                 4438  0.000005       5    0  \n",
       "024341.05-010243.3                 4438  0.000016       5    0  \n",
       "\n",
       "[5 rows x 80 columns]"
      ]
     },
     "execution_count": 8,
     "metadata": {},
     "output_type": "execute_result"
    }
   ],
   "source": [
    "# we inspect object catalog \n",
    "ens.head(\"object\")"
   ]
  },
  {
   "cell_type": "code",
   "execution_count": null,
   "metadata": {},
   "outputs": [],
   "source": []
  },
  {
   "cell_type": "code",
   "execution_count": 9,
   "metadata": {},
   "outputs": [
    {
     "data": {
      "text/html": [
       "<div>\n",
       "<style scoped>\n",
       "    .dataframe tbody tr th:only-of-type {\n",
       "        vertical-align: middle;\n",
       "    }\n",
       "\n",
       "    .dataframe tbody tr th {\n",
       "        vertical-align: top;\n",
       "    }\n",
       "\n",
       "    .dataframe thead th {\n",
       "        text-align: right;\n",
       "    }\n",
       "</style>\n",
       "<table border=\"1\" class=\"dataframe\">\n",
       "  <thead>\n",
       "    <tr style=\"text-align: right;\">\n",
       "      <th></th>\n",
       "      <th>_hipscat_index</th>\n",
       "      <th>PLATE_dr16q_constant</th>\n",
       "      <th>MJD_dr16q_constant</th>\n",
       "      <th>FIBERID_dr16q_constant</th>\n",
       "      <th>RA_dr16q_constant</th>\n",
       "      <th>DEC_dr16q_constant</th>\n",
       "      <th>OBJID_dr16q_constant</th>\n",
       "      <th>IF_BOSS_SDSS_dr16q_constant</th>\n",
       "      <th>Z_DR16Q_dr16q_constant</th>\n",
       "      <th>SOURCE_Z_DR16Q_dr16q_constant</th>\n",
       "      <th>...</th>\n",
       "      <th>kronFluxErr_ps_source</th>\n",
       "      <th>infoFlag_ps_source</th>\n",
       "      <th>infoFlag2_ps_source</th>\n",
       "      <th>infoFlag3_ps_source</th>\n",
       "      <th>Norder_ps_source</th>\n",
       "      <th>Dir_ps_source</th>\n",
       "      <th>Npix_ps_source</th>\n",
       "      <th>Norder</th>\n",
       "      <th>Dir</th>\n",
       "      <th>provenance</th>\n",
       "    </tr>\n",
       "    <tr>\n",
       "      <th>SDSS_NAME_dr16q_constant</th>\n",
       "      <th></th>\n",
       "      <th></th>\n",
       "      <th></th>\n",
       "      <th></th>\n",
       "      <th></th>\n",
       "      <th></th>\n",
       "      <th></th>\n",
       "      <th></th>\n",
       "      <th></th>\n",
       "      <th></th>\n",
       "      <th></th>\n",
       "      <th></th>\n",
       "      <th></th>\n",
       "      <th></th>\n",
       "      <th></th>\n",
       "      <th></th>\n",
       "      <th></th>\n",
       "      <th></th>\n",
       "      <th></th>\n",
       "      <th></th>\n",
       "      <th></th>\n",
       "    </tr>\n",
       "  </thead>\n",
       "  <tbody>\n",
       "    <tr>\n",
       "      <th>024311.71-010928.3</th>\n",
       "      <td>4996744218186612736</td>\n",
       "      <td>7337</td>\n",
       "      <td>56662</td>\n",
       "      <td>360</td>\n",
       "      <td>40.798814</td>\n",
       "      <td>-1.157879</td>\n",
       "      <td>7337-56662-0360</td>\n",
       "      <td>BOSS</td>\n",
       "      <td>0.778</td>\n",
       "      <td>VI</td>\n",
       "      <td>...</td>\n",
       "      <td>NaN</td>\n",
       "      <td>NaN</td>\n",
       "      <td>NaN</td>\n",
       "      <td>NaN</td>\n",
       "      <td>NaN</td>\n",
       "      <td>NaN</td>\n",
       "      <td>NaN</td>\n",
       "      <td>6</td>\n",
       "      <td>10000</td>\n",
       "      <td>survey_1</td>\n",
       "    </tr>\n",
       "    <tr>\n",
       "      <th>024311.71-010928.3</th>\n",
       "      <td>4996744218186612736</td>\n",
       "      <td>7337</td>\n",
       "      <td>56662</td>\n",
       "      <td>360</td>\n",
       "      <td>40.798814</td>\n",
       "      <td>-1.157879</td>\n",
       "      <td>7337-56662-0360</td>\n",
       "      <td>BOSS</td>\n",
       "      <td>0.778</td>\n",
       "      <td>VI</td>\n",
       "      <td>...</td>\n",
       "      <td>NaN</td>\n",
       "      <td>NaN</td>\n",
       "      <td>NaN</td>\n",
       "      <td>NaN</td>\n",
       "      <td>NaN</td>\n",
       "      <td>NaN</td>\n",
       "      <td>NaN</td>\n",
       "      <td>6</td>\n",
       "      <td>10000</td>\n",
       "      <td>survey_1</td>\n",
       "    </tr>\n",
       "    <tr>\n",
       "      <th>024311.71-010928.3</th>\n",
       "      <td>4996744218186612736</td>\n",
       "      <td>7337</td>\n",
       "      <td>56662</td>\n",
       "      <td>360</td>\n",
       "      <td>40.798814</td>\n",
       "      <td>-1.157879</td>\n",
       "      <td>7337-56662-0360</td>\n",
       "      <td>BOSS</td>\n",
       "      <td>0.778</td>\n",
       "      <td>VI</td>\n",
       "      <td>...</td>\n",
       "      <td>NaN</td>\n",
       "      <td>NaN</td>\n",
       "      <td>NaN</td>\n",
       "      <td>NaN</td>\n",
       "      <td>NaN</td>\n",
       "      <td>NaN</td>\n",
       "      <td>NaN</td>\n",
       "      <td>6</td>\n",
       "      <td>10000</td>\n",
       "      <td>survey_1</td>\n",
       "    </tr>\n",
       "    <tr>\n",
       "      <th>024311.71-010928.3</th>\n",
       "      <td>4996744218186612736</td>\n",
       "      <td>7337</td>\n",
       "      <td>56662</td>\n",
       "      <td>360</td>\n",
       "      <td>40.798814</td>\n",
       "      <td>-1.157879</td>\n",
       "      <td>7337-56662-0360</td>\n",
       "      <td>BOSS</td>\n",
       "      <td>0.778</td>\n",
       "      <td>VI</td>\n",
       "      <td>...</td>\n",
       "      <td>NaN</td>\n",
       "      <td>NaN</td>\n",
       "      <td>NaN</td>\n",
       "      <td>NaN</td>\n",
       "      <td>NaN</td>\n",
       "      <td>NaN</td>\n",
       "      <td>NaN</td>\n",
       "      <td>6</td>\n",
       "      <td>10000</td>\n",
       "      <td>survey_1</td>\n",
       "    </tr>\n",
       "    <tr>\n",
       "      <th>024311.71-010928.3</th>\n",
       "      <td>4996744218186612736</td>\n",
       "      <td>7337</td>\n",
       "      <td>56662</td>\n",
       "      <td>360</td>\n",
       "      <td>40.798814</td>\n",
       "      <td>-1.157879</td>\n",
       "      <td>7337-56662-0360</td>\n",
       "      <td>BOSS</td>\n",
       "      <td>0.778</td>\n",
       "      <td>VI</td>\n",
       "      <td>...</td>\n",
       "      <td>NaN</td>\n",
       "      <td>NaN</td>\n",
       "      <td>NaN</td>\n",
       "      <td>NaN</td>\n",
       "      <td>NaN</td>\n",
       "      <td>NaN</td>\n",
       "      <td>NaN</td>\n",
       "      <td>6</td>\n",
       "      <td>10000</td>\n",
       "      <td>survey_1</td>\n",
       "    </tr>\n",
       "  </tbody>\n",
       "</table>\n",
       "<p>5 rows × 127 columns</p>\n",
       "</div>"
      ],
      "text/plain": [
       "                               _hipscat_index  PLATE_dr16q_constant  \\\n",
       "SDSS_NAME_dr16q_constant                                              \n",
       "024311.71-010928.3        4996744218186612736                  7337   \n",
       "024311.71-010928.3        4996744218186612736                  7337   \n",
       "024311.71-010928.3        4996744218186612736                  7337   \n",
       "024311.71-010928.3        4996744218186612736                  7337   \n",
       "024311.71-010928.3        4996744218186612736                  7337   \n",
       "\n",
       "                          MJD_dr16q_constant  FIBERID_dr16q_constant  \\\n",
       "SDSS_NAME_dr16q_constant                                               \n",
       "024311.71-010928.3                     56662                     360   \n",
       "024311.71-010928.3                     56662                     360   \n",
       "024311.71-010928.3                     56662                     360   \n",
       "024311.71-010928.3                     56662                     360   \n",
       "024311.71-010928.3                     56662                     360   \n",
       "\n",
       "                          RA_dr16q_constant  DEC_dr16q_constant  \\\n",
       "SDSS_NAME_dr16q_constant                                          \n",
       "024311.71-010928.3                40.798814           -1.157879   \n",
       "024311.71-010928.3                40.798814           -1.157879   \n",
       "024311.71-010928.3                40.798814           -1.157879   \n",
       "024311.71-010928.3                40.798814           -1.157879   \n",
       "024311.71-010928.3                40.798814           -1.157879   \n",
       "\n",
       "                         OBJID_dr16q_constant IF_BOSS_SDSS_dr16q_constant  \\\n",
       "SDSS_NAME_dr16q_constant                                                    \n",
       "024311.71-010928.3            7337-56662-0360                        BOSS   \n",
       "024311.71-010928.3            7337-56662-0360                        BOSS   \n",
       "024311.71-010928.3            7337-56662-0360                        BOSS   \n",
       "024311.71-010928.3            7337-56662-0360                        BOSS   \n",
       "024311.71-010928.3            7337-56662-0360                        BOSS   \n",
       "\n",
       "                          Z_DR16Q_dr16q_constant  \\\n",
       "SDSS_NAME_dr16q_constant                           \n",
       "024311.71-010928.3                         0.778   \n",
       "024311.71-010928.3                         0.778   \n",
       "024311.71-010928.3                         0.778   \n",
       "024311.71-010928.3                         0.778   \n",
       "024311.71-010928.3                         0.778   \n",
       "\n",
       "                         SOURCE_Z_DR16Q_dr16q_constant  ...  \\\n",
       "SDSS_NAME_dr16q_constant                                ...   \n",
       "024311.71-010928.3                                  VI  ...   \n",
       "024311.71-010928.3                                  VI  ...   \n",
       "024311.71-010928.3                                  VI  ...   \n",
       "024311.71-010928.3                                  VI  ...   \n",
       "024311.71-010928.3                                  VI  ...   \n",
       "\n",
       "                          kronFluxErr_ps_source  infoFlag_ps_source  \\\n",
       "SDSS_NAME_dr16q_constant                                              \n",
       "024311.71-010928.3                          NaN                 NaN   \n",
       "024311.71-010928.3                          NaN                 NaN   \n",
       "024311.71-010928.3                          NaN                 NaN   \n",
       "024311.71-010928.3                          NaN                 NaN   \n",
       "024311.71-010928.3                          NaN                 NaN   \n",
       "\n",
       "                          infoFlag2_ps_source  infoFlag3_ps_source  \\\n",
       "SDSS_NAME_dr16q_constant                                             \n",
       "024311.71-010928.3                        NaN                  NaN   \n",
       "024311.71-010928.3                        NaN                  NaN   \n",
       "024311.71-010928.3                        NaN                  NaN   \n",
       "024311.71-010928.3                        NaN                  NaN   \n",
       "024311.71-010928.3                        NaN                  NaN   \n",
       "\n",
       "                          Norder_ps_source  Dir_ps_source  Npix_ps_source  \\\n",
       "SDSS_NAME_dr16q_constant                                                    \n",
       "024311.71-010928.3                     NaN            NaN             NaN   \n",
       "024311.71-010928.3                     NaN            NaN             NaN   \n",
       "024311.71-010928.3                     NaN            NaN             NaN   \n",
       "024311.71-010928.3                     NaN            NaN             NaN   \n",
       "024311.71-010928.3                     NaN            NaN             NaN   \n",
       "\n",
       "                          Norder    Dir  provenance  \n",
       "SDSS_NAME_dr16q_constant                             \n",
       "024311.71-010928.3             6  10000    survey_1  \n",
       "024311.71-010928.3             6  10000    survey_1  \n",
       "024311.71-010928.3             6  10000    survey_1  \n",
       "024311.71-010928.3             6  10000    survey_1  \n",
       "024311.71-010928.3             6  10000    survey_1  \n",
       "\n",
       "[5 rows x 127 columns]"
      ]
     },
     "execution_count": 9,
     "metadata": {},
     "output_type": "execute_result"
    }
   ],
   "source": [
    "# we inspect source catalog \n",
    "ens.head(\"source\") "
   ]
  },
  {
   "cell_type": "code",
   "execution_count": 10,
   "metadata": {},
   "outputs": [
    {
     "data": {
      "text/plain": [
       "array(['023744.13+000118.5', '023759.13-000228.7', '023759.19+000044.2',\n",
       "       '023800.94-000433.2', '023811.26-000403.4'], dtype=object)"
      ]
     },
     "execution_count": 10,
     "metadata": {},
     "output_type": "execute_result"
    }
   ],
   "source": [
    "# names of all of the lightcurves that are avaliable\n",
    "# is this really the best way to get the names of the lightcurves?\n",
    "ts_index = np.unique(ens._object.index.compute())\n",
    "ts_index[:5]"
   ]
  },
  {
   "cell_type": "code",
   "execution_count": 11,
   "metadata": {},
   "outputs": [
    {
     "name": "stdout",
     "output_type": "stream",
     "text": [
      "709\n",
      "709\n"
     ]
    }
   ],
   "source": [
    "# number of lightcurves\n",
    "print(len(np.unique(ens._object.index.compute())))\n",
    "print(len(np.unique(ens._source.index.compute())))"
   ]
  },
  {
   "cell_type": "code",
   "execution_count": 12,
   "metadata": {},
   "outputs": [
    {
     "data": {
      "text/plain": [
       "\"\\nsingle_ts_name = ts_index[5]\\nts = ens.to_timeseries('023811.26-000403.4') # provided a target object id\\nts.data['mjd_ztf_source']\\n\""
      ]
     },
     "execution_count": 12,
     "metadata": {},
     "output_type": "execute_result"
    }
   ],
   "source": [
    "# are the times in order - they are obviously not in the order\n",
    "# hm, why does this now work anymore?\n",
    "\"\"\"\n",
    "single_ts_name = ts_index[5]\n",
    "ts = ens.to_timeseries('023811.26-000403.4') # provided a target object id\n",
    "ts.data['mjd_ztf_source']\n",
    "\"\"\""
   ]
  },
  {
   "cell_type": "code",
   "execution_count": 13,
   "metadata": {},
   "outputs": [
    {
     "data": {
      "text/plain": [
       "<tape.ensemble.Ensemble at 0x7f841beea950>"
      ]
     },
     "execution_count": 13,
     "metadata": {},
     "output_type": "execute_result"
    }
   ],
   "source": [
    "ens.query(\"band_ztf_source == 'g'\", table = 'source')"
   ]
  },
  {
   "cell_type": "code",
   "execution_count": 14,
   "metadata": {},
   "outputs": [
    {
     "name": "stdout",
     "output_type": "stream",
     "text": [
      "603\n",
      "709\n"
     ]
    }
   ],
   "source": [
    "print(len(np.unique(ens._source.compute().index)))\n",
    "print(len(np.unique(ens._object.compute().index)))\n",
    "# need refactor ticket to update"
   ]
  },
  {
   "cell_type": "code",
   "execution_count": 15,
   "metadata": {},
   "outputs": [],
   "source": [
    "# select only the g band of ztf survey\n",
    "# ens._source = ens._source[ens._source['band_ztf_source']=='g']\n",
    "# ens._source.compute()"
   ]
  },
  {
   "cell_type": "code",
   "execution_count": 16,
   "metadata": {},
   "outputs": [],
   "source": [
    "# at the moment, to hotfix the problem, sort the whole table in time\n",
    "# but this below does not work....\n",
    "#ens._source = ens._source.sort_values('mjd_ztf_source')"
   ]
  },
  {
   "cell_type": "code",
   "execution_count": 17,
   "metadata": {},
   "outputs": [
    {
     "data": {
      "text/plain": [
       "<module 'JaxPeriodDrwFit' from '/astro/users/ncaplar/github/JaxPeriodDrwFit/JaxPeriodDrwFit.py'>"
      ]
     },
     "execution_count": 17,
     "metadata": {},
     "output_type": "execute_result"
    }
   ],
   "source": [
    "import importlib\n",
    "importlib.reload(JaxPeriodDrwFit)"
   ]
  },
  {
   "cell_type": "code",
   "execution_count": 18,
   "metadata": {},
   "outputs": [
    {
     "name": "stderr",
     "output_type": "stream",
     "text": [
      "An NVIDIA GPU may be present on this machine, but a CUDA-enabled jaxlib is not installed. Falling back to cpu.\n",
      "An NVIDIA GPU may be present on this machine, but a CUDA-enabled jaxlib is not installed. Falling back to cpu.\n",
      "An NVIDIA GPU may be present on this machine, but a CUDA-enabled jaxlib is not installed. Falling back to cpu.\n",
      "An NVIDIA GPU may be present on this machine, but a CUDA-enabled jaxlib is not installed. Falling back to cpu.\n"
     ]
    }
   ],
   "source": [
    "# 6min, 17 sec on baldur, for 603 sources \n",
    "JaxPeriodDrwFit_instance = JaxPeriodDrwFit.JaxPeriodDrwFit()\n",
    "res = ens.batch(JaxPeriodDrwFit_instance.optimize_map, 'mjd_ztf_source', \"mag_ztf_source\", \"magerr_ztf_source\",\n",
    "                compute=True, meta=None, n_init=100)\n",
    "# UnfilteredStackTrace: jaxlib.xla_extension.XlaRuntimeError: INTERNAL: Generated function failed: CpuCallback error: ValueError: Input coordinates must be sorted in order to use the QuasisepSolve"
   ]
  },
  {
   "cell_type": "code",
   "execution_count": 19,
   "metadata": {},
   "outputs": [
    {
     "data": {
      "text/plain": [
       "SDSS_NAME_dr16q_constant\n",
       "024048.22-003429.0    [7.0415189839399535, 4.915187749780587, -4.867...\n",
       "024049.96-004044.9    [2.774598138418049, 4.448066696866833, -3.7067...\n",
       "024050.36-003109.0    [39.08398224442753, 3.0885003171467984, -0.715...\n",
       "024052.82-004110.9    [-35.15677216784658, -12.49334964398287, -10.9...\n",
       "024053.68-002900.7    [34.059112950141994, -0.2890146267372002, -5.6...\n",
       "                                            ...                        \n",
       "024507.75+003549.3    [13.040226803724861, -0.04314045114480827, -4....\n",
       "024508.67+003710.6    [4.380748641637005, 2.1205548111206114, -1.061...\n",
       "024514.80+003923.3    [20.29904029167756, -14.615262771867126, -5.71...\n",
       "024524.39+003423.3    [8.111300485561, 0.9674504916644041, -7.685683...\n",
       "024536.42+003704.2    [35.0508210940623, -15.645026433296477, -6.950...\n",
       "Name: SDSS_NAME_dr16q_constant, Length: 603, dtype: object"
      ]
     },
     "execution_count": 19,
     "metadata": {},
     "output_type": "execute_result"
    }
   ],
   "source": [
    "res"
   ]
  },
  {
   "cell_type": "code",
   "execution_count": 42,
   "metadata": {},
   "outputs": [
    {
     "data": {
      "text/plain": [
       "[<matplotlib.lines.Line2D at 0x7f6bb842c700>]"
      ]
     },
     "execution_count": 42,
     "metadata": {},
     "output_type": "execute_result"
    },
    {
     "data": {
      "image/png": "[encoded data removed]",
      "text/plain": [
       "<Figure size 640x480 with 1 Axes>"
      ]
     },
     "metadata": {},
     "output_type": "display_data"
    }
   ],
   "source": [
    "        sorted_indices = np.argsort(t_single)\n",
    "\n",
    "        # Use these indices to sort y and yerr\n",
    "        t = t_single.iloc[sorted_indices]\n",
    "        plt.plot(t.values)"
   ]
  },
  {
   "cell_type": "code",
   "execution_count": 43,
   "metadata": {},
   "outputs": [],
   "source": [
    "test_single_lc_res = JaxPeriodDrwFit_instance.optimize_map(t_single, y_single, y_err_single,\n",
    "                                                            n_init=100)"
   ]
  },
  {
   "cell_type": "code",
   "execution_count": 44,
   "metadata": {},
   "outputs": [
    {
     "data": {
      "text/plain": [
       "array([ 3.36144996e+05, -5.15595426e+00, -1.41928081e-02,  3.80449048e+00,\n",
       "       -2.83203920e-01])"
      ]
     },
     "execution_count": 44,
     "metadata": {},
     "output_type": "execute_result"
    }
   ],
   "source": [
    "test_single_lc_res"
   ]
  },
  {
   "cell_type": "code",
   "execution_count": 20,
   "metadata": {},
   "outputs": [
    {
     "data": {
      "text/plain": [
       "'024311.71-010928.3'"
      ]
     },
     "execution_count": 20,
     "metadata": {},
     "output_type": "execute_result"
    }
   ],
   "source": [
    "ens_it.index[0]"
   ]
  }
 ],
 "metadata": {
  "kernelspec": {
   "display_name": "tiny_lsst",
   "language": "python",
   "name": "python3"
  },
  "language_info": {
   "codemirror_mode": {
    "name": "ipython",
    "version": 3
   },
   "file_extension": ".py",
   "mimetype": "text/x-python",
   "name": "python",
   "nbconvert_exporter": "python",
   "pygments_lexer": "ipython3",
   "version": "3.10.13"
  },
  "orig_nbformat": 4
 },
 "nbformat": 4,
 "nbformat_minor": 2
}
