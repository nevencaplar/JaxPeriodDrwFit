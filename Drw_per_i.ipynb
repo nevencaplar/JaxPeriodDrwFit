{
 "cells": [
  {
   "cell_type": "code",
   "execution_count": 1,
   "metadata": {},
   "outputs": [],
   "source": [
    "#!/usr/bin/env python3\n",
    "import numpy as np\n",
    "import time\n",
    "import JaxPeriodDrwFit\n",
    "import pandas as pd\n",
    "# import dill as pickle\n",
    "import cloudpickle as pickle\n",
    "from scipy.spatial import KDTree\n",
    "import matplotlib.pyplot as plt\n",
    "\n",
    "from tape.ensemble import Ensemble\n",
    "from tape.utils import ColumnMapper\n",
    "\n"
   ]
  },
  {
   "cell_type": "markdown",
   "metadata": {},
   "source": [
    "# Init analysis "
   ]
  },
  {
   "cell_type": "code",
   "execution_count": 2,
   "metadata": {},
   "outputs": [],
   "source": [
    "# generated in create_data script, to avoid epyc failure\n",
    "t_multi = np.load('/astro/users/ncaplar/data/t_multi.npy')\n",
    "y_multi = np.load('/astro/users/ncaplar/data/y_multi.npy')\n",
    "yerr_multi = np.load('/astro/users/ncaplar/data/yerr_multi.npy')"
   ]
  },
  {
   "cell_type": "code",
   "execution_count": 5,
   "metadata": {},
   "outputs": [
    {
     "name": "stderr",
     "output_type": "stream",
     "text": [
      "/astro/users/ncaplar/miniconda3/envs/tiny_lsst/lib/python3.10/site-packages/distributed/node.py:182: UserWarning: Port 8787 is already in use.\n",
      "Perhaps you already have a cluster running?\n",
      "Hosting the HTTP server on port 33111 instead\n",
      "  warnings.warn(\n",
      "INFO:distributed.scheduler:State start\n",
      "INFO:distributed.scheduler:  Scheduler at:     tcp://127.0.0.1:45433\n",
      "INFO:distributed.scheduler:  dashboard at:  http://127.0.0.1:33111/status\n",
      "INFO:distributed.nanny:        Start Nanny at: 'tcp://127.0.0.1:36501'\n",
      "INFO:distributed.nanny:        Start Nanny at: 'tcp://127.0.0.1:40385'\n",
      "INFO:distributed.nanny:        Start Nanny at: 'tcp://127.0.0.1:39963'\n",
      "INFO:distributed.nanny:        Start Nanny at: 'tcp://127.0.0.1:43357'\n",
      "INFO:distributed.nanny:        Start Nanny at: 'tcp://127.0.0.1:34079'\n",
      "INFO:distributed.nanny:        Start Nanny at: 'tcp://127.0.0.1:41804'\n",
      "INFO:distributed.nanny:        Start Nanny at: 'tcp://127.0.0.1:35388'\n",
      "INFO:distributed.nanny:        Start Nanny at: 'tcp://127.0.0.1:42303'\n",
      "INFO:distributed.scheduler:Register worker <WorkerState 'tcp://127.0.0.1:43897', name: 5, status: init, memory: 0, processing: 0>\n",
      "INFO:distributed.scheduler:Starting worker compute stream, tcp://127.0.0.1:43897\n",
      "INFO:distributed.core:Starting established connection to tcp://127.0.0.1:52378\n",
      "INFO:distributed.scheduler:Register worker <WorkerState 'tcp://127.0.0.1:41831', name: 3, status: init, memory: 0, processing: 0>\n",
      "INFO:distributed.scheduler:Starting worker compute stream, tcp://127.0.0.1:41831\n",
      "INFO:distributed.core:Starting established connection to tcp://127.0.0.1:52366\n",
      "INFO:distributed.scheduler:Register worker <WorkerState 'tcp://127.0.0.1:36317', name: 2, status: init, memory: 0, processing: 0>\n",
      "INFO:distributed.scheduler:Starting worker compute stream, tcp://127.0.0.1:36317\n",
      "INFO:distributed.core:Starting established connection to tcp://127.0.0.1:52364\n",
      "INFO:distributed.scheduler:Register worker <WorkerState 'tcp://127.0.0.1:39362', name: 4, status: init, memory: 0, processing: 0>\n",
      "INFO:distributed.scheduler:Starting worker compute stream, tcp://127.0.0.1:39362\n",
      "INFO:distributed.core:Starting established connection to tcp://127.0.0.1:52372\n",
      "INFO:distributed.scheduler:Register worker <WorkerState 'tcp://127.0.0.1:42103', name: 6, status: init, memory: 0, processing: 0>\n",
      "INFO:distributed.scheduler:Starting worker compute stream, tcp://127.0.0.1:42103\n",
      "INFO:distributed.core:Starting established connection to tcp://127.0.0.1:52368\n",
      "INFO:distributed.scheduler:Register worker <WorkerState 'tcp://127.0.0.1:35177', name: 0, status: init, memory: 0, processing: 0>\n",
      "INFO:distributed.scheduler:Starting worker compute stream, tcp://127.0.0.1:35177\n",
      "INFO:distributed.core:Starting established connection to tcp://127.0.0.1:52376\n",
      "INFO:distributed.scheduler:Register worker <WorkerState 'tcp://127.0.0.1:37133', name: 7, status: init, memory: 0, processing: 0>\n",
      "INFO:distributed.scheduler:Starting worker compute stream, tcp://127.0.0.1:37133\n",
      "INFO:distributed.core:Starting established connection to tcp://127.0.0.1:52370\n",
      "INFO:distributed.scheduler:Register worker <WorkerState 'tcp://127.0.0.1:35615', name: 1, status: init, memory: 0, processing: 0>\n",
      "INFO:distributed.scheduler:Starting worker compute stream, tcp://127.0.0.1:35615\n",
      "INFO:distributed.core:Starting established connection to tcp://127.0.0.1:52374\n",
      "INFO:distributed.scheduler:Receive client connection: Client-74a0cf41-4c0b-11ee-8cf2-b42e99a8502c\n",
      "INFO:distributed.core:Starting established connection to tcp://127.0.0.1:52380\n",
      "INFO:distributed.nanny:Closing Nanny at 'tcp://127.0.0.1:42480'. Reason: nanny-close\n",
      "INFO:distributed.nanny:Nanny asking worker to close. Reason: nanny-close\n",
      "INFO:distributed.nanny:Closing Nanny at 'tcp://127.0.0.1:44287'. Reason: nanny-close\n",
      "INFO:distributed.nanny:Nanny asking worker to close. Reason: nanny-close\n",
      "INFO:distributed.nanny:Closing Nanny at 'tcp://127.0.0.1:46276'. Reason: nanny-close\n",
      "INFO:distributed.nanny:Nanny asking worker to close. Reason: nanny-close\n",
      "INFO:distributed.nanny:Closing Nanny at 'tcp://127.0.0.1:35380'. Reason: nanny-close\n",
      "INFO:distributed.nanny:Nanny asking worker to close. Reason: nanny-close\n",
      "INFO:distributed.nanny:Closing Nanny at 'tcp://127.0.0.1:40399'. Reason: nanny-close\n",
      "INFO:distributed.nanny:Nanny asking worker to close. Reason: nanny-close\n",
      "INFO:distributed.nanny:Closing Nanny at 'tcp://127.0.0.1:36374'. Reason: nanny-close\n",
      "INFO:distributed.nanny:Nanny asking worker to close. Reason: nanny-close\n",
      "INFO:distributed.nanny:Closing Nanny at 'tcp://127.0.0.1:41187'. Reason: nanny-close\n",
      "INFO:distributed.nanny:Nanny asking worker to close. Reason: nanny-close\n",
      "INFO:distributed.nanny:Closing Nanny at 'tcp://127.0.0.1:39924'. Reason: nanny-close\n",
      "INFO:distributed.nanny:Nanny asking worker to close. Reason: nanny-close\n",
      "INFO:distributed.core:Received 'close-stream' from tcp://127.0.0.1:52550; closing.\n",
      "INFO:distributed.core:Received 'close-stream' from tcp://127.0.0.1:52554; closing.\n",
      "INFO:distributed.core:Received 'close-stream' from tcp://127.0.0.1:52544; closing.\n",
      "INFO:distributed.core:Received 'close-stream' from tcp://127.0.0.1:52548; closing.\n",
      "INFO:distributed.core:Received 'close-stream' from tcp://127.0.0.1:52556; closing.\n",
      "INFO:distributed.core:Received 'close-stream' from tcp://127.0.0.1:52546; closing.\n",
      "INFO:distributed.core:Received 'close-stream' from tcp://127.0.0.1:52558; closing.\n",
      "INFO:distributed.scheduler:Remove worker <WorkerState 'tcp://127.0.0.1:40751', name: 0, status: closing, memory: 0, processing: 0>\n",
      "INFO:distributed.core:Removing comms to tcp://127.0.0.1:40751\n",
      "INFO:distributed.scheduler:Remove worker <WorkerState 'tcp://127.0.0.1:35373', name: 1, status: closing, memory: 0, processing: 0>\n",
      "INFO:distributed.core:Removing comms to tcp://127.0.0.1:35373\n",
      "INFO:distributed.scheduler:Remove worker <WorkerState 'tcp://127.0.0.1:45116', name: 2, status: closing, memory: 0, processing: 0>\n",
      "INFO:distributed.core:Removing comms to tcp://127.0.0.1:45116\n",
      "INFO:distributed.scheduler:Remove worker <WorkerState 'tcp://127.0.0.1:44766', name: 3, status: closing, memory: 0, processing: 0>\n",
      "INFO:distributed.core:Removing comms to tcp://127.0.0.1:44766\n",
      "INFO:distributed.scheduler:Remove worker <WorkerState 'tcp://127.0.0.1:46437', name: 4, status: closing, memory: 0, processing: 0>\n",
      "INFO:distributed.core:Removing comms to tcp://127.0.0.1:46437\n",
      "INFO:distributed.scheduler:Remove worker <WorkerState 'tcp://127.0.0.1:45953', name: 5, status: closing, memory: 0, processing: 0>\n",
      "INFO:distributed.core:Removing comms to tcp://127.0.0.1:45953\n",
      "INFO:distributed.scheduler:Remove worker <WorkerState 'tcp://127.0.0.1:39614', name: 6, status: closing, memory: 0, processing: 0>\n",
      "INFO:distributed.core:Removing comms to tcp://127.0.0.1:39614\n",
      "INFO:distributed.core:Received 'close-stream' from tcp://127.0.0.1:52552; closing.\n",
      "INFO:distributed.scheduler:Remove worker <WorkerState 'tcp://127.0.0.1:45175', name: 7, status: closing, memory: 0, processing: 0>\n",
      "INFO:distributed.core:Removing comms to tcp://127.0.0.1:45175\n",
      "INFO:distributed.scheduler:Lost all workers\n",
      "INFO:distributed.scheduler:Scheduler closing...\n",
      "INFO:distributed.scheduler:Scheduler closing all comms\n"
     ]
    }
   ],
   "source": [
    "\n",
    "id, t, y, yerr, filter = np.array([]), np.array([]), np.array([]), np.array([]), np.array([])\n",
    "\n",
    "for i in range(100):\n",
    "    # data = data_all[()].get(i)\n",
    "\n",
    "    # get time for a single lightcurve\n",
    "    t_true = t_multi[i]\n",
    "    # sample 100 points from 200\n",
    "    downsample_int = np.sort(np.random.choice(np.arange(len(t_true)), 100))\n",
    "    # extract 100 times from 200\n",
    "    t_single = t_true[downsample_int]\n",
    "\n",
    "    id = np.append(id, np.full(len(downsample_int), i))\n",
    "    filter_single = np.full(len(t_single), 'r')\n",
    "    t = np.append(t, t_single)\n",
    "    filter = np.append(filter, filter_single)\n",
    "\n",
    "    # create custom errors\n",
    "    y_err_single = np.full(len(t_single), 0.001)\n",
    "    yerr = np.append(yerr, np.full(len(t_single), 0.001))\n",
    "\n",
    "    # extract measurements; 100 from each lightcurve\n",
    "    # y_pre = data['y_tot'][downsample_int]\n",
    "    y_pre = y_multi[i][downsample_int]\n",
    "\n",
    "    # create noise and add to lightcurves\n",
    "    noise = np.random.normal(0, y_err_single)\n",
    "    y = np.append(y, y_pre + noise)\n",
    "\n",
    "# columns assigned manually\n",
    "manual_colmap = ColumnMapper().assign(\n",
    "    id_col=\"id\", time_col=\"t\", flux_col=\"y\", err_col=\"yerr\", band_col=\"filter\"\n",
    ")\n",
    "\n",
    "# ens = Ensemble(silence_logs='error')\n",
    "ens = Ensemble()\n",
    "ens.from_source_dict({'id': id, \"t\": t, 'y': y, 'yerr': yerr, 'filter': filter},\n",
    "                        column_mapper=manual_colmap)\n",
    "single_lc = ens.compute(\"source\")[id == 0]\n",
    "# comment out line below if trying to run ensamble.batch\n",
    "# ens.client.close()\n",
    "##########\n",
    "\n"
   ]
  },
  {
   "cell_type": "code",
   "execution_count": 6,
   "metadata": {},
   "outputs": [],
   "source": [
    "JaxPeriodDrwFit_instance = JaxPeriodDrwFit.JaxPeriodDrwFit()"
   ]
  },
  {
   "cell_type": "code",
   "execution_count": 7,
   "metadata": {},
   "outputs": [
    {
     "data": {
      "text/html": [
       "<div>\n",
       "<style scoped>\n",
       "    .dataframe tbody tr th:only-of-type {\n",
       "        vertical-align: middle;\n",
       "    }\n",
       "\n",
       "    .dataframe tbody tr th {\n",
       "        vertical-align: top;\n",
       "    }\n",
       "\n",
       "    .dataframe thead th {\n",
       "        text-align: right;\n",
       "    }\n",
       "</style>\n",
       "<table border=\"1\" class=\"dataframe\">\n",
       "  <thead>\n",
       "    <tr style=\"text-align: right;\">\n",
       "      <th>filter</th>\n",
       "      <th>nobs_r</th>\n",
       "      <th>nobs_total</th>\n",
       "    </tr>\n",
       "    <tr>\n",
       "      <th>id</th>\n",
       "      <th></th>\n",
       "      <th></th>\n",
       "    </tr>\n",
       "  </thead>\n",
       "  <tbody>\n",
       "    <tr>\n",
       "      <th>0.0</th>\n",
       "      <td>100</td>\n",
       "      <td>100</td>\n",
       "    </tr>\n",
       "    <tr>\n",
       "      <th>1.0</th>\n",
       "      <td>100</td>\n",
       "      <td>100</td>\n",
       "    </tr>\n",
       "    <tr>\n",
       "      <th>2.0</th>\n",
       "      <td>100</td>\n",
       "      <td>100</td>\n",
       "    </tr>\n",
       "    <tr>\n",
       "      <th>3.0</th>\n",
       "      <td>100</td>\n",
       "      <td>100</td>\n",
       "    </tr>\n",
       "    <tr>\n",
       "      <th>4.0</th>\n",
       "      <td>100</td>\n",
       "      <td>100</td>\n",
       "    </tr>\n",
       "  </tbody>\n",
       "</table>\n",
       "</div>"
      ],
      "text/plain": [
       "filter  nobs_r  nobs_total\n",
       "id                        \n",
       "0.0        100         100\n",
       "1.0        100         100\n",
       "2.0        100         100\n",
       "3.0        100         100\n",
       "4.0        100         100"
      ]
     },
     "execution_count": 7,
     "metadata": {},
     "output_type": "execute_result"
    }
   ],
   "source": [
    "ens.head(\"object\", 5)"
   ]
  },
  {
   "cell_type": "code",
   "execution_count": 8,
   "metadata": {},
   "outputs": [
    {
     "data": {
      "text/html": [
       "<div>\n",
       "<style scoped>\n",
       "    .dataframe tbody tr th:only-of-type {\n",
       "        vertical-align: middle;\n",
       "    }\n",
       "\n",
       "    .dataframe tbody tr th {\n",
       "        vertical-align: top;\n",
       "    }\n",
       "\n",
       "    .dataframe thead th {\n",
       "        text-align: right;\n",
       "    }\n",
       "</style>\n",
       "<table border=\"1\" class=\"dataframe\">\n",
       "  <thead>\n",
       "    <tr style=\"text-align: right;\">\n",
       "      <th></th>\n",
       "      <th>t</th>\n",
       "      <th>y</th>\n",
       "      <th>yerr</th>\n",
       "      <th>filter</th>\n",
       "    </tr>\n",
       "    <tr>\n",
       "      <th>id</th>\n",
       "      <th></th>\n",
       "      <th></th>\n",
       "      <th></th>\n",
       "      <th></th>\n",
       "    </tr>\n",
       "  </thead>\n",
       "  <tbody>\n",
       "    <tr>\n",
       "      <th>0.0</th>\n",
       "      <td>104.035404</td>\n",
       "      <td>-0.178309</td>\n",
       "      <td>0.001</td>\n",
       "      <td>r</td>\n",
       "    </tr>\n",
       "    <tr>\n",
       "      <th>0.0</th>\n",
       "      <td>110.606061</td>\n",
       "      <td>-0.114827</td>\n",
       "      <td>0.001</td>\n",
       "      <td>r</td>\n",
       "    </tr>\n",
       "    <tr>\n",
       "      <th>0.0</th>\n",
       "      <td>136.523652</td>\n",
       "      <td>-0.119349</td>\n",
       "      <td>0.001</td>\n",
       "      <td>r</td>\n",
       "    </tr>\n",
       "    <tr>\n",
       "      <th>0.0</th>\n",
       "      <td>148.569857</td>\n",
       "      <td>0.029500</td>\n",
       "      <td>0.001</td>\n",
       "      <td>r</td>\n",
       "    </tr>\n",
       "    <tr>\n",
       "      <th>0.0</th>\n",
       "      <td>150.760076</td>\n",
       "      <td>0.053097</td>\n",
       "      <td>0.001</td>\n",
       "      <td>r</td>\n",
       "    </tr>\n",
       "  </tbody>\n",
       "</table>\n",
       "</div>"
      ],
      "text/plain": [
       "              t         y   yerr filter\n",
       "id                                     \n",
       "0.0  104.035404 -0.178309  0.001      r\n",
       "0.0  110.606061 -0.114827  0.001      r\n",
       "0.0  136.523652 -0.119349  0.001      r\n",
       "0.0  148.569857  0.029500  0.001      r\n",
       "0.0  150.760076  0.053097  0.001      r"
      ]
     },
     "execution_count": 8,
     "metadata": {},
     "output_type": "execute_result"
    }
   ],
   "source": [
    "ens.head(\"source\", 5)"
   ]
  },
  {
   "cell_type": "code",
   "execution_count": 9,
   "metadata": {},
   "outputs": [
    {
     "name": "stderr",
     "output_type": "stream",
     "text": [
      "WARNING:jax._src.lib.xla_bridge:No GPU/TPU found, falling back to CPU. (Set TF_CPP_MIN_LOG_LEVEL=0 and rerun for more info.)\n"
     ]
    },
    {
     "name": "stdout",
     "output_type": "stream",
     "text": [
      "id\n",
      "0.0     [-129.8543171310671, 2.2952704672830704, -0.77...\n",
      "1.0     [-125.06774239793788, 2.2454832550376214, -0.6...\n",
      "2.0     [-129.19153581396438, 2.0109551037342817, -0.8...\n",
      "3.0     [-113.93138087222452, 1.664258493219286, -0.83...\n",
      "4.0     [-124.25437066957599, 2.3919998011020134, -0.6...\n",
      "                              ...                        \n",
      "95.0    [-123.59434269083566, 2.2617468727321612, -0.7...\n",
      "96.0    [-134.95465378350644, 1.7851771511631847, -0.8...\n",
      "97.0    [-126.45339674303835, 2.0249693391299366, -0.7...\n",
      "98.0    [-129.96935212915713, 1.5254637793727104, -0.9...\n",
      "99.0    [-106.14477313607473, 2.0904558534035984, -0.6...\n",
      "Name: id, Length: 100, dtype: object\n"
     ]
    }
   ],
   "source": [
    "# 20.6 second\n",
    "res = ens.batch(JaxPeriodDrwFit_instance.optimize_map, 't', 'y', 'yerr',\n",
    "                 compute=True, meta=None, n_init=100)\n",
    "print(res)"
   ]
  },
  {
   "cell_type": "code",
   "execution_count": 10,
   "metadata": {},
   "outputs": [
    {
     "name": "stderr",
     "output_type": "stream",
     "text": [
      "INFO:distributed.nanny:Closing Nanny at 'tcp://127.0.0.1:36501'. Reason: nanny-close\n",
      "INFO:distributed.nanny:Nanny asking worker to close. Reason: nanny-close\n",
      "INFO:distributed.nanny:Closing Nanny at 'tcp://127.0.0.1:40385'. Reason: nanny-close\n",
      "INFO:distributed.nanny:Nanny asking worker to close. Reason: nanny-close\n",
      "INFO:distributed.nanny:Closing Nanny at 'tcp://127.0.0.1:39963'. Reason: nanny-close\n",
      "INFO:distributed.nanny:Nanny asking worker to close. Reason: nanny-close\n",
      "INFO:distributed.nanny:Closing Nanny at 'tcp://127.0.0.1:43357'. Reason: nanny-close\n",
      "INFO:distributed.nanny:Nanny asking worker to close. Reason: nanny-close\n",
      "INFO:distributed.nanny:Closing Nanny at 'tcp://127.0.0.1:34079'. Reason: nanny-close\n",
      "INFO:distributed.nanny:Nanny asking worker to close. Reason: nanny-close\n",
      "INFO:distributed.nanny:Closing Nanny at 'tcp://127.0.0.1:41804'. Reason: nanny-close\n",
      "INFO:distributed.nanny:Nanny asking worker to close. Reason: nanny-close\n",
      "INFO:distributed.nanny:Closing Nanny at 'tcp://127.0.0.1:35388'. Reason: nanny-close\n",
      "INFO:distributed.nanny:Nanny asking worker to close. Reason: nanny-close\n",
      "INFO:distributed.nanny:Closing Nanny at 'tcp://127.0.0.1:42303'. Reason: nanny-close\n",
      "INFO:distributed.nanny:Nanny asking worker to close. Reason: nanny-close\n",
      "INFO:distributed.core:Received 'close-stream' from tcp://127.0.0.1:52376; closing.\n",
      "INFO:distributed.core:Received 'close-stream' from tcp://127.0.0.1:52374; closing.\n",
      "INFO:distributed.core:Received 'close-stream' from tcp://127.0.0.1:52364; closing.\n",
      "INFO:distributed.core:Received 'close-stream' from tcp://127.0.0.1:52366; closing.\n",
      "INFO:distributed.core:Received 'close-stream' from tcp://127.0.0.1:52372; closing.\n",
      "INFO:distributed.core:Received 'close-stream' from tcp://127.0.0.1:52378; closing.\n",
      "INFO:distributed.scheduler:Remove worker <WorkerState 'tcp://127.0.0.1:35177', name: 0, status: closing, memory: 0, processing: 0>\n",
      "INFO:distributed.core:Removing comms to tcp://127.0.0.1:35177\n",
      "INFO:distributed.scheduler:Remove worker <WorkerState 'tcp://127.0.0.1:35615', name: 1, status: closing, memory: 0, processing: 0>\n",
      "INFO:distributed.core:Removing comms to tcp://127.0.0.1:35615\n",
      "INFO:distributed.scheduler:Remove worker <WorkerState 'tcp://127.0.0.1:36317', name: 2, status: closing, memory: 0, processing: 0>\n",
      "INFO:distributed.core:Removing comms to tcp://127.0.0.1:36317\n",
      "INFO:distributed.scheduler:Remove worker <WorkerState 'tcp://127.0.0.1:41831', name: 3, status: closing, memory: 0, processing: 0>\n",
      "INFO:distributed.core:Removing comms to tcp://127.0.0.1:41831\n",
      "INFO:distributed.scheduler:Remove worker <WorkerState 'tcp://127.0.0.1:39362', name: 4, status: closing, memory: 0, processing: 0>\n",
      "INFO:distributed.core:Removing comms to tcp://127.0.0.1:39362\n",
      "INFO:distributed.scheduler:Remove worker <WorkerState 'tcp://127.0.0.1:43897', name: 5, status: closing, memory: 0, processing: 0>\n",
      "INFO:distributed.core:Removing comms to tcp://127.0.0.1:43897\n",
      "INFO:distributed.core:Received 'close-stream' from tcp://127.0.0.1:52368; closing.\n",
      "INFO:distributed.scheduler:Remove worker <WorkerState 'tcp://127.0.0.1:42103', name: 6, status: closing, memory: 0, processing: 0>\n",
      "INFO:distributed.core:Removing comms to tcp://127.0.0.1:42103\n",
      "INFO:distributed.core:Received 'close-stream' from tcp://127.0.0.1:52370; closing.\n",
      "INFO:distributed.scheduler:Remove worker <WorkerState 'tcp://127.0.0.1:37133', name: 7, status: closing, memory: 0, processing: 0>\n",
      "INFO:distributed.core:Removing comms to tcp://127.0.0.1:37133\n",
      "INFO:distributed.scheduler:Lost all workers\n",
      "INFO:distributed.batched:Batched Comm Closed <TCP (closed) Scheduler connection to worker local=tcp://127.0.0.1:45433 remote=tcp://127.0.0.1:52368>\n",
      "Traceback (most recent call last):\n",
      "  File \"/astro/users/ncaplar/miniconda3/envs/tiny_lsst/lib/python3.10/site-packages/distributed/batched.py\", line 115, in _background_send\n",
      "    nbytes = yield coro\n",
      "  File \"/astro/users/ncaplar/miniconda3/envs/tiny_lsst/lib/python3.10/site-packages/tornado/gen.py\", line 769, in run\n",
      "    value = future.result()\n",
      "  File \"/astro/users/ncaplar/miniconda3/envs/tiny_lsst/lib/python3.10/site-packages/distributed/comm/tcp.py\", line 269, in write\n",
      "    raise CommClosedError()\n",
      "distributed.comm.core.CommClosedError\n",
      "INFO:distributed.scheduler:Scheduler closing...\n",
      "INFO:distributed.scheduler:Scheduler closing all comms\n"
     ]
    }
   ],
   "source": [
    "ens.client.close()"
   ]
  },
  {
   "cell_type": "markdown",
   "metadata": {},
   "source": [
    "# Redback - exploring degrading lightcurve to ZTF cadence"
   ]
  },
  {
   "cell_type": "code",
   "execution_count": 11,
   "metadata": {},
   "outputs": [
    {
     "name": "stderr",
     "output_type": "stream",
     "text": [
      "WARNING:jax._src.lib.xla_bridge:No GPU/TPU found, falling back to CPU. (Set TF_CPP_MIN_LOG_LEVEL=0 and rerun for more info.)\n"
     ]
    },
    {
     "name": "stdout",
     "output_type": "stream",
     "text": [
      "Execution time for single lc is 4.026710748672485 sec\n",
      "Best result is:[-129.85431713    2.29527047   -0.77088343    1.42985345   -1.39499854]\n",
      "Execution time for second run with single lc is 0.1607820987701416 sec\n",
      "Best result is:[-129.85431713    2.29527047   -0.77088343    1.42985345   -1.39499854]\n"
     ]
    }
   ],
   "source": [
    "t = single_lc['t'].values\n",
    "y = single_lc['y'].values\n",
    "yerr = single_lc['yerr'].values\n",
    "\n",
    "# This block shows that the code works on a single lightcurve\n",
    "# And it is faster second time\n",
    "t1 = time.time()\n",
    "test_single_lc_res = JaxPeriodDrwFit_instance.optimize_map(t, y, yerr, n_init=100)\n",
    "t2 = time.time()\n",
    "print(f'Execution time for single lc is {t2 - t1} sec')\n",
    "print('Best result is:' + str(test_single_lc_res))\n",
    "t1 = time.time()\n",
    "test_single_lc_res = JaxPeriodDrwFit_instance.optimize_map(t, y, yerr, n_init=100)\n",
    "t2 = time.time()\n",
    "print(f'Execution time for second run with single lc is {t2 - t1} sec')\n",
    "print('Best result is:' + str(test_single_lc_res))"
   ]
  },
  {
   "cell_type": "code",
   "execution_count": 12,
   "metadata": {},
   "outputs": [],
   "source": [
    "datadir = '/astro/users/ncaplar/github/redback/redback/tables'\n",
    "pointings_database_name = 'ztf.tar.gz'"
   ]
  },
  {
   "cell_type": "code",
   "execution_count": 13,
   "metadata": {},
   "outputs": [],
   "source": [
    "pointings_database = pd.read_csv(datadir + \"/\" + pointings_database_name, compression='gzip')"
   ]
  },
  {
   "cell_type": "code",
   "execution_count": 14,
   "metadata": {},
   "outputs": [
    {
     "data": {
      "text/plain": [
       "array([58288.17 , 58288.176, 58288.18 , ..., 59822.51 , 59822.516,\n",
       "       59822.52 ])"
      ]
     },
     "execution_count": 14,
     "metadata": {},
     "output_type": "execute_result"
    }
   ],
   "source": [
    "# 58288.17 = June-19-2018\n",
    "# 59822.52 = August-31-2022\n",
    "np.sort(pointings_database['expMJD'].values)"
   ]
  },
  {
   "cell_type": "code",
   "execution_count": 15,
   "metadata": {},
   "outputs": [
    {
     "data": {
      "text/plain": [
       "0         3.822735\n",
       "1         4.436831\n",
       "2         3.560472\n",
       "3         3.355396\n",
       "4         3.520526\n",
       "            ...   \n",
       "106643    1.984300\n",
       "106644    2.114880\n",
       "106645    2.039341\n",
       "106646    2.114880\n",
       "106647    0.923487\n",
       "Name: _ra, Length: 106648, dtype: float64"
      ]
     },
     "execution_count": 15,
     "metadata": {},
     "output_type": "execute_result"
    }
   ],
   "source": [
    "pointings_database['_ra']"
   ]
  },
  {
   "cell_type": "code",
   "execution_count": 26,
   "metadata": {},
   "outputs": [
    {
     "name": "stdout",
     "output_type": "stream",
     "text": [
      "survey_radius:0.05908179503018386\n"
     ]
    }
   ],
   "source": [
    "survey_fov_sqdeg = 36\n",
    "survey_fov_sqrad = survey_fov_sqdeg*(np.pi/180.0)**2\n",
    "survey_radius = np.sqrt(survey_fov_sqrad/np.pi)\n",
    "print('survey_radius:' + str(survey_radius))\n",
    "\n",
    "def find_sky_overlaps(pointings_databasem, parameters):\n",
    "    \"\"\"\n",
    "    Find the sky indices of the pointings database that overlap with the transient.\n",
    "    \"\"\"\n",
    "    pointings_sky_pos = np.column_stack((pointings_database['_ra'].values, pointings_database['_dec'].values))\n",
    "    transient_sky_pos = np.column_stack((parameters['ra'].values, parameters['dec'].values))\n",
    "\n",
    "    transient_sky_pos_3D = np.vstack([np.cos(transient_sky_pos[:,0]) * np.cos(transient_sky_pos[:,1]),\n",
    "                                        np.sin(transient_sky_pos[:,0]) * np.cos(transient_sky_pos[:,1]),\n",
    "                                        np.sin(transient_sky_pos[:,1])]).T\n",
    "    pointings_sky_pos_3D = np.vstack([np.cos(pointings_sky_pos[:, 0]) * np.cos(pointings_sky_pos[:,1]),\n",
    "                                        np.sin(pointings_sky_pos[:,0]) * np.cos(pointings_sky_pos[:,1]),\n",
    "                                        np.sin(pointings_sky_pos[:,1])]).T\n",
    "    # law of cosines to compute 3D distance\n",
    "    max_3D_dist = np.sqrt(2. - 2. * np.cos(survey_radius))\n",
    "    survey_tree = KDTree(pointings_sky_pos_3D)\n",
    "    overlap_indices = survey_tree.query_ball_point(x=transient_sky_pos_3D, r=max_3D_dist)\n",
    "\n",
    "    return overlap_indices, transient_sky_pos_3D, pointings_sky_pos_3D"
   ]
  },
  {
   "cell_type": "code",
   "execution_count": 27,
   "metadata": {},
   "outputs": [
    {
     "data": {
      "text/plain": [
       "0.005986237404172219"
      ]
     },
     "execution_count": 27,
     "metadata": {},
     "output_type": "execute_result"
    }
   ],
   "source": [
    "np.sqrt(36/np.pi)/(np.pi*180)"
   ]
  },
  {
   "cell_type": "code",
   "execution_count": 28,
   "metadata": {},
   "outputs": [
    {
     "data": {
      "text/plain": [
       "0.05908179503018386"
      ]
     },
     "execution_count": 28,
     "metadata": {},
     "output_type": "execute_result"
    }
   ],
   "source": [
    "survey_fov_sqrad\n",
    "survey_radius"
   ]
  },
  {
   "cell_type": "code",
   "execution_count": 40,
   "metadata": {},
   "outputs": [],
   "source": [
    "parameters = pd.DataFrame(np.array([[0, 1, 2], [0.2813573, 1, 2], [-0.0978646, 1, 2]]).T,\n",
    "                   columns=['id', 'ra', 'dec'])\n",
    "\n",
    "parameters_deg = parameters.copy()\n",
    "\n",
    "parameters['ra'] = parameters_deg['ra'] * np.pi/180\n",
    "parameters['dec'] = parameters_deg['dec'] * np.pi/180"
   ]
  },
  {
   "cell_type": "code",
   "execution_count": 41,
   "metadata": {},
   "outputs": [
    {
     "data": {
      "text/html": [
       "<div>\n",
       "<style scoped>\n",
       "    .dataframe tbody tr th:only-of-type {\n",
       "        vertical-align: middle;\n",
       "    }\n",
       "\n",
       "    .dataframe tbody tr th {\n",
       "        vertical-align: top;\n",
       "    }\n",
       "\n",
       "    .dataframe thead th {\n",
       "        text-align: right;\n",
       "    }\n",
       "</style>\n",
       "<table border=\"1\" class=\"dataframe\">\n",
       "  <thead>\n",
       "    <tr style=\"text-align: right;\">\n",
       "      <th></th>\n",
       "      <th>id</th>\n",
       "      <th>ra</th>\n",
       "      <th>dec</th>\n",
       "    </tr>\n",
       "  </thead>\n",
       "  <tbody>\n",
       "    <tr>\n",
       "      <th>0</th>\n",
       "      <td>0.0</td>\n",
       "      <td>0.281357</td>\n",
       "      <td>-0.097865</td>\n",
       "    </tr>\n",
       "    <tr>\n",
       "      <th>1</th>\n",
       "      <td>1.0</td>\n",
       "      <td>1.000000</td>\n",
       "      <td>1.000000</td>\n",
       "    </tr>\n",
       "    <tr>\n",
       "      <th>2</th>\n",
       "      <td>2.0</td>\n",
       "      <td>2.000000</td>\n",
       "      <td>2.000000</td>\n",
       "    </tr>\n",
       "  </tbody>\n",
       "</table>\n",
       "</div>"
      ],
      "text/plain": [
       "    id        ra       dec\n",
       "0  0.0  0.281357 -0.097865\n",
       "1  1.0  1.000000  1.000000\n",
       "2  2.0  2.000000  2.000000"
      ]
     },
     "execution_count": 41,
     "metadata": {},
     "output_type": "execute_result"
    }
   ],
   "source": [
    "parameters_deg"
   ]
  },
  {
   "cell_type": "code",
   "execution_count": 57,
   "metadata": {},
   "outputs": [],
   "source": [
    "time_space_overlap, transient_sky_pos_3D, pointings_sky_pos_3D = find_sky_overlaps(pointings_database, parameters)"
   ]
  },
  {
   "cell_type": "code",
   "execution_count": 67,
   "metadata": {},
   "outputs": [
    {
     "data": {
      "text/plain": [
       "array([list([1197, 6218, 6747, 26673, 53966, 59013, 63142, 72220, 89371, 90141, 104257]),\n",
       "       list([53966, 89371]),\n",
       "       list([6440, 8696, 28612, 29057, 53966, 84899, 88721, 89371, 89849, 90726])],\n",
       "      dtype=object)"
      ]
     },
     "execution_count": 67,
     "metadata": {},
     "output_type": "execute_result"
    }
   ],
   "source": [
    "time_space_overlap"
   ]
  },
  {
   "cell_type": "code",
   "execution_count": 58,
   "metadata": {},
   "outputs": [
    {
     "data": {
      "text/plain": [
       "array([[ 0.99998648,  0.00491058, -0.00170806],\n",
       "       [ 0.99969541,  0.01744975,  0.01745241],\n",
       "       [ 0.99878203,  0.03487824,  0.0348995 ]])"
      ]
     },
     "execution_count": 58,
     "metadata": {},
     "output_type": "execute_result"
    }
   ],
   "source": [
    "transient_sky_pos_3D"
   ]
  },
  {
   "cell_type": "code",
   "execution_count": 64,
   "metadata": {},
   "outputs": [
    {
     "data": {
      "text/plain": [
       "array([[ 0.99998648,  0.00491058, -0.00170806],\n",
       "       [ 0.99969541,  0.01744975,  0.01745241],\n",
       "       [ 0.99878203,  0.03487824,  0.0348995 ]])"
      ]
     },
     "execution_count": 64,
     "metadata": {},
     "output_type": "execute_result"
    }
   ],
   "source": [
    "transient_sky_pos_3D"
   ]
  },
  {
   "cell_type": "code",
   "execution_count": 66,
   "metadata": {},
   "outputs": [
    {
     "data": {
      "text/plain": [
       "array([[-0.7744059 , -0.62769611,  0.07932904],\n",
       "       [-0.2442343 , -0.8637784 ,  0.44072268],\n",
       "       [-0.32216947, -0.14343914,  0.93575213],\n",
       "       ...,\n",
       "       [-0.42711299,  0.84386997,  0.32474292],\n",
       "       [-0.4646512 ,  0.76802525,  0.44072268],\n",
       "       [ 0.54983123,  0.72732088, -0.41071884]])"
      ]
     },
     "execution_count": 66,
     "metadata": {},
     "output_type": "execute_result"
    }
   ],
   "source": [
    "pointings_sky_pos_3D"
   ]
  },
  {
   "cell_type": "code",
   "execution_count": 55,
   "metadata": {},
   "outputs": [],
   "source": [
    "overlapping_database_iter = pointings_database.iloc[time_space_overlap[0]]"
   ]
  },
  {
   "cell_type": "code",
   "execution_count": 56,
   "metadata": {},
   "outputs": [
    {
     "data": {
      "text/html": [
       "<div>\n",
       "<style scoped>\n",
       "    .dataframe tbody tr th:only-of-type {\n",
       "        vertical-align: middle;\n",
       "    }\n",
       "\n",
       "    .dataframe tbody tr th {\n",
       "        vertical-align: top;\n",
       "    }\n",
       "\n",
       "    .dataframe thead th {\n",
       "        text-align: right;\n",
       "    }\n",
       "</style>\n",
       "<table border=\"1\" class=\"dataframe\">\n",
       "  <thead>\n",
       "    <tr style=\"text-align: right;\">\n",
       "      <th></th>\n",
       "      <th>expMJD</th>\n",
       "      <th>filter</th>\n",
       "      <th>fiveSigmaDepth</th>\n",
       "      <th>_ra</th>\n",
       "      <th>_dec</th>\n",
       "    </tr>\n",
       "  </thead>\n",
       "  <tbody>\n",
       "    <tr>\n",
       "      <th>1197</th>\n",
       "      <td>58302.480</td>\n",
       "      <td>ztfi</td>\n",
       "      <td>20.223915</td>\n",
       "      <td>0.029788</td>\n",
       "      <td>-0.046251</td>\n",
       "    </tr>\n",
       "    <tr>\n",
       "      <th>6218</th>\n",
       "      <td>58364.293</td>\n",
       "      <td>ztfg</td>\n",
       "      <td>21.521942</td>\n",
       "      <td>6.251594</td>\n",
       "      <td>-0.046251</td>\n",
       "    </tr>\n",
       "    <tr>\n",
       "      <th>6747</th>\n",
       "      <td>58369.380</td>\n",
       "      <td>ztfr</td>\n",
       "      <td>21.425386</td>\n",
       "      <td>0.030956</td>\n",
       "      <td>-0.046251</td>\n",
       "    </tr>\n",
       "    <tr>\n",
       "      <th>26673</th>\n",
       "      <td>58697.438</td>\n",
       "      <td>ztfi</td>\n",
       "      <td>20.487064</td>\n",
       "      <td>0.029788</td>\n",
       "      <td>-0.046251</td>\n",
       "    </tr>\n",
       "    <tr>\n",
       "      <th>53966</th>\n",
       "      <td>59056.460</td>\n",
       "      <td>ztfr</td>\n",
       "      <td>21.695518</td>\n",
       "      <td>0.060614</td>\n",
       "      <td>0.016581</td>\n",
       "    </tr>\n",
       "    <tr>\n",
       "      <th>59013</th>\n",
       "      <td>59116.312</td>\n",
       "      <td>ztfr</td>\n",
       "      <td>21.050300</td>\n",
       "      <td>0.029788</td>\n",
       "      <td>-0.046251</td>\n",
       "    </tr>\n",
       "    <tr>\n",
       "      <th>63142</th>\n",
       "      <td>59156.223</td>\n",
       "      <td>ztfg</td>\n",
       "      <td>20.242613</td>\n",
       "      <td>6.250925</td>\n",
       "      <td>-0.046251</td>\n",
       "    </tr>\n",
       "    <tr>\n",
       "      <th>72220</th>\n",
       "      <td>59256.098</td>\n",
       "      <td>ztfr</td>\n",
       "      <td>19.394804</td>\n",
       "      <td>0.029788</td>\n",
       "      <td>-0.046251</td>\n",
       "    </tr>\n",
       "    <tr>\n",
       "      <th>89371</th>\n",
       "      <td>59483.340</td>\n",
       "      <td>ztfr</td>\n",
       "      <td>20.635460</td>\n",
       "      <td>0.060614</td>\n",
       "      <td>0.016581</td>\n",
       "    </tr>\n",
       "    <tr>\n",
       "      <th>90141</th>\n",
       "      <td>59491.316</td>\n",
       "      <td>ztfi</td>\n",
       "      <td>20.690083</td>\n",
       "      <td>0.029788</td>\n",
       "      <td>-0.046251</td>\n",
       "    </tr>\n",
       "    <tr>\n",
       "      <th>104257</th>\n",
       "      <td>59789.418</td>\n",
       "      <td>ztfg</td>\n",
       "      <td>21.390000</td>\n",
       "      <td>0.029788</td>\n",
       "      <td>-0.046251</td>\n",
       "    </tr>\n",
       "  </tbody>\n",
       "</table>\n",
       "</div>"
      ],
      "text/plain": [
       "           expMJD filter  fiveSigmaDepth       _ra      _dec\n",
       "1197    58302.480   ztfi       20.223915  0.029788 -0.046251\n",
       "6218    58364.293   ztfg       21.521942  6.251594 -0.046251\n",
       "6747    58369.380   ztfr       21.425386  0.030956 -0.046251\n",
       "26673   58697.438   ztfi       20.487064  0.029788 -0.046251\n",
       "53966   59056.460   ztfr       21.695518  0.060614  0.016581\n",
       "59013   59116.312   ztfr       21.050300  0.029788 -0.046251\n",
       "63142   59156.223   ztfg       20.242613  6.250925 -0.046251\n",
       "72220   59256.098   ztfr       19.394804  0.029788 -0.046251\n",
       "89371   59483.340   ztfr       20.635460  0.060614  0.016581\n",
       "90141   59491.316   ztfi       20.690083  0.029788 -0.046251\n",
       "104257  59789.418   ztfg       21.390000  0.029788 -0.046251"
      ]
     },
     "execution_count": 56,
     "metadata": {},
     "output_type": "execute_result"
    }
   ],
   "source": [
    "overlapping_database_iter"
   ]
  },
  {
   "cell_type": "code",
   "execution_count": 68,
   "metadata": {},
   "outputs": [
    {
     "data": {
      "text/html": [
       "<div>\n",
       "<style scoped>\n",
       "    .dataframe tbody tr th:only-of-type {\n",
       "        vertical-align: middle;\n",
       "    }\n",
       "\n",
       "    .dataframe tbody tr th {\n",
       "        vertical-align: top;\n",
       "    }\n",
       "\n",
       "    .dataframe thead th {\n",
       "        text-align: right;\n",
       "    }\n",
       "</style>\n",
       "<table border=\"1\" class=\"dataframe\">\n",
       "  <thead>\n",
       "    <tr style=\"text-align: right;\">\n",
       "      <th></th>\n",
       "      <th>expMJD</th>\n",
       "      <th>filter</th>\n",
       "      <th>fiveSigmaDepth</th>\n",
       "      <th>_ra</th>\n",
       "      <th>_dec</th>\n",
       "    </tr>\n",
       "  </thead>\n",
       "  <tbody>\n",
       "    <tr>\n",
       "      <th>1197</th>\n",
       "      <td>58302.480</td>\n",
       "      <td>ztfi</td>\n",
       "      <td>20.223915</td>\n",
       "      <td>0.029788</td>\n",
       "      <td>-0.046251</td>\n",
       "    </tr>\n",
       "    <tr>\n",
       "      <th>6218</th>\n",
       "      <td>58364.293</td>\n",
       "      <td>ztfg</td>\n",
       "      <td>21.521942</td>\n",
       "      <td>6.251594</td>\n",
       "      <td>-0.046251</td>\n",
       "    </tr>\n",
       "    <tr>\n",
       "      <th>6747</th>\n",
       "      <td>58369.380</td>\n",
       "      <td>ztfr</td>\n",
       "      <td>21.425386</td>\n",
       "      <td>0.030956</td>\n",
       "      <td>-0.046251</td>\n",
       "    </tr>\n",
       "    <tr>\n",
       "      <th>26673</th>\n",
       "      <td>58697.438</td>\n",
       "      <td>ztfi</td>\n",
       "      <td>20.487064</td>\n",
       "      <td>0.029788</td>\n",
       "      <td>-0.046251</td>\n",
       "    </tr>\n",
       "    <tr>\n",
       "      <th>53966</th>\n",
       "      <td>59056.460</td>\n",
       "      <td>ztfr</td>\n",
       "      <td>21.695518</td>\n",
       "      <td>0.060614</td>\n",
       "      <td>0.016581</td>\n",
       "    </tr>\n",
       "    <tr>\n",
       "      <th>59013</th>\n",
       "      <td>59116.312</td>\n",
       "      <td>ztfr</td>\n",
       "      <td>21.050300</td>\n",
       "      <td>0.029788</td>\n",
       "      <td>-0.046251</td>\n",
       "    </tr>\n",
       "    <tr>\n",
       "      <th>63142</th>\n",
       "      <td>59156.223</td>\n",
       "      <td>ztfg</td>\n",
       "      <td>20.242613</td>\n",
       "      <td>6.250925</td>\n",
       "      <td>-0.046251</td>\n",
       "    </tr>\n",
       "    <tr>\n",
       "      <th>72220</th>\n",
       "      <td>59256.098</td>\n",
       "      <td>ztfr</td>\n",
       "      <td>19.394804</td>\n",
       "      <td>0.029788</td>\n",
       "      <td>-0.046251</td>\n",
       "    </tr>\n",
       "    <tr>\n",
       "      <th>89371</th>\n",
       "      <td>59483.340</td>\n",
       "      <td>ztfr</td>\n",
       "      <td>20.635460</td>\n",
       "      <td>0.060614</td>\n",
       "      <td>0.016581</td>\n",
       "    </tr>\n",
       "    <tr>\n",
       "      <th>90141</th>\n",
       "      <td>59491.316</td>\n",
       "      <td>ztfi</td>\n",
       "      <td>20.690083</td>\n",
       "      <td>0.029788</td>\n",
       "      <td>-0.046251</td>\n",
       "    </tr>\n",
       "    <tr>\n",
       "      <th>104257</th>\n",
       "      <td>59789.418</td>\n",
       "      <td>ztfg</td>\n",
       "      <td>21.390000</td>\n",
       "      <td>0.029788</td>\n",
       "      <td>-0.046251</td>\n",
       "    </tr>\n",
       "  </tbody>\n",
       "</table>\n",
       "</div>"
      ],
      "text/plain": [
       "           expMJD filter  fiveSigmaDepth       _ra      _dec\n",
       "1197    58302.480   ztfi       20.223915  0.029788 -0.046251\n",
       "6218    58364.293   ztfg       21.521942  6.251594 -0.046251\n",
       "6747    58369.380   ztfr       21.425386  0.030956 -0.046251\n",
       "26673   58697.438   ztfi       20.487064  0.029788 -0.046251\n",
       "53966   59056.460   ztfr       21.695518  0.060614  0.016581\n",
       "59013   59116.312   ztfr       21.050300  0.029788 -0.046251\n",
       "63142   59156.223   ztfg       20.242613  6.250925 -0.046251\n",
       "72220   59256.098   ztfr       19.394804  0.029788 -0.046251\n",
       "89371   59483.340   ztfr       20.635460  0.060614  0.016581\n",
       "90141   59491.316   ztfi       20.690083  0.029788 -0.046251\n",
       "104257  59789.418   ztfg       21.390000  0.029788 -0.046251"
      ]
     },
     "execution_count": 68,
     "metadata": {},
     "output_type": "execute_result"
    }
   ],
   "source": [
    "overlapping_database_iter"
   ]
  },
  {
   "cell_type": "code",
   "execution_count": 51,
   "metadata": {},
   "outputs": [
    {
     "data": {
      "text/plain": [
       "Text(0, 0.5, 'dec')"
      ]
     },
     "execution_count": 51,
     "metadata": {},
     "output_type": "execute_result"
    },
    {
     "data": {
      "image/png": "[encoded data removed]",
      "text/plain": [
       "<Figure size 640x480 with 1 Axes>"
      ]
     },
     "metadata": {},
     "output_type": "display_data"
    }
   ],
   "source": [
    "plt.scatter(overlapping_database_iter['_ra']*180/np.pi, overlapping_database_iter['_dec']*180/np.pi)\n",
    "plt.xlabel('ra')\n",
    "plt.ylabel('dec')"
   ]
  },
  {
   "cell_type": "code",
   "execution_count": 78,
   "metadata": {},
   "outputs": [
    {
     "data": {
      "text/plain": [
       "Text(0, 0.5, 'dec [deg]')"
      ]
     },
     "execution_count": 78,
     "metadata": {},
     "output_type": "execute_result"
    },
    {
     "data": {
      "image/png": "[encoded data removed]",
      "text/plain": [
       "<Figure size 640x480 with 1 Axes>"
      ]
     },
     "metadata": {},
     "output_type": "display_data"
    }
   ],
   "source": [
    "plt.scatter(pointings_database['_ra']*180/np.pi, pointings_database['_dec']*180/np.pi)\n",
    "plt.xlim(0.2813573 - 3.38, 0.2813573 + 3.38)\n",
    "plt.ylim(-0.097865 - 3.38, -0.097865 + 3.38)\n",
    "plt.xlabel('ra [deg]')\n",
    "plt.ylabel('dec [deg]')\n"
   ]
  },
  {
   "cell_type": "code",
   "execution_count": 84,
   "metadata": {},
   "outputs": [],
   "source": [
    "a = (pointings_database['_ra']*180/np.pi < 3.38) \n",
    "b = (pointings_database['_ra']*180/np.pi > - 3.38) \n",
    "c = (pointings_database['_dec']*180/np.pi < 3.38) \n",
    "d = (pointings_database['_dec']*180/np.pi > - 3.38)"
   ]
  },
  {
   "cell_type": "code",
   "execution_count": 90,
   "metadata": {},
   "outputs": [
    {
     "data": {
      "text/html": [
       "<div>\n",
       "<style scoped>\n",
       "    .dataframe tbody tr th:only-of-type {\n",
       "        vertical-align: middle;\n",
       "    }\n",
       "\n",
       "    .dataframe tbody tr th {\n",
       "        vertical-align: top;\n",
       "    }\n",
       "\n",
       "    .dataframe thead th {\n",
       "        text-align: right;\n",
       "    }\n",
       "</style>\n",
       "<table border=\"1\" class=\"dataframe\">\n",
       "  <thead>\n",
       "    <tr style=\"text-align: right;\">\n",
       "      <th></th>\n",
       "      <th>expMJD</th>\n",
       "      <th>filter</th>\n",
       "      <th>fiveSigmaDepth</th>\n",
       "      <th>_ra</th>\n",
       "      <th>_dec</th>\n",
       "    </tr>\n",
       "  </thead>\n",
       "  <tbody>\n",
       "    <tr>\n",
       "      <th>1197</th>\n",
       "      <td>58302.480</td>\n",
       "      <td>ztfi</td>\n",
       "      <td>20.223915</td>\n",
       "      <td>0.029788</td>\n",
       "      <td>-0.046251</td>\n",
       "    </tr>\n",
       "    <tr>\n",
       "      <th>6747</th>\n",
       "      <td>58369.380</td>\n",
       "      <td>ztfr</td>\n",
       "      <td>21.425386</td>\n",
       "      <td>0.030956</td>\n",
       "      <td>-0.046251</td>\n",
       "    </tr>\n",
       "    <tr>\n",
       "      <th>26673</th>\n",
       "      <td>58697.438</td>\n",
       "      <td>ztfi</td>\n",
       "      <td>20.487064</td>\n",
       "      <td>0.029788</td>\n",
       "      <td>-0.046251</td>\n",
       "    </tr>\n",
       "    <tr>\n",
       "      <th>59013</th>\n",
       "      <td>59116.312</td>\n",
       "      <td>ztfr</td>\n",
       "      <td>21.050300</td>\n",
       "      <td>0.029788</td>\n",
       "      <td>-0.046251</td>\n",
       "    </tr>\n",
       "    <tr>\n",
       "      <th>72220</th>\n",
       "      <td>59256.098</td>\n",
       "      <td>ztfr</td>\n",
       "      <td>19.394804</td>\n",
       "      <td>0.029788</td>\n",
       "      <td>-0.046251</td>\n",
       "    </tr>\n",
       "    <tr>\n",
       "      <th>90141</th>\n",
       "      <td>59491.316</td>\n",
       "      <td>ztfi</td>\n",
       "      <td>20.690083</td>\n",
       "      <td>0.029788</td>\n",
       "      <td>-0.046251</td>\n",
       "    </tr>\n",
       "    <tr>\n",
       "      <th>104257</th>\n",
       "      <td>59789.418</td>\n",
       "      <td>ztfg</td>\n",
       "      <td>21.390000</td>\n",
       "      <td>0.029788</td>\n",
       "      <td>-0.046251</td>\n",
       "    </tr>\n",
       "  </tbody>\n",
       "</table>\n",
       "</div>"
      ],
      "text/plain": [
       "           expMJD filter  fiveSigmaDepth       _ra      _dec\n",
       "1197    58302.480   ztfi       20.223915  0.029788 -0.046251\n",
       "6747    58369.380   ztfr       21.425386  0.030956 -0.046251\n",
       "26673   58697.438   ztfi       20.487064  0.029788 -0.046251\n",
       "59013   59116.312   ztfr       21.050300  0.029788 -0.046251\n",
       "72220   59256.098   ztfr       19.394804  0.029788 -0.046251\n",
       "90141   59491.316   ztfi       20.690083  0.029788 -0.046251\n",
       "104257  59789.418   ztfg       21.390000  0.029788 -0.046251"
      ]
     },
     "execution_count": 90,
     "metadata": {},
     "output_type": "execute_result"
    }
   ],
   "source": [
    "ab = np.logical_and(a, b)\n",
    "cd = np.logical_and(c, d)\n",
    "abcd = np.logical_and(ab, cd)\n",
    "pointings_database[abcd]"
   ]
  },
  {
   "cell_type": "code",
   "execution_count": 74,
   "metadata": {},
   "outputs": [
    {
     "data": {
      "text/plain": [
       "[<matplotlib.lines.Line2D at 0x7fb85b6d6e60>]"
      ]
     },
     "execution_count": 74,
     "metadata": {},
     "output_type": "execute_result"
    },
    {
     "data": {
      "image/png": "[encoded data removed]",
      "text/plain": [
       "<Figure size 640x480 with 1 Axes>"
      ]
     },
     "metadata": {},
     "output_type": "display_data"
    }
   ],
   "source": [
    "plt.plot(pointings_database['expMJD'],np.arange(len(pointings_database)))"
   ]
  },
  {
   "cell_type": "code",
   "execution_count": 89,
   "metadata": {},
   "outputs": [],
   "source": [
    "survey_fov_sqdeg = 41253\n",
    "survey_fov_sqrad = survey_fov_sqdeg*(np.pi/180.0)**2\n",
    "survey_radius = np.sqrt(survey_fov_sqrad/np.pi)"
   ]
  },
  {
   "cell_type": "code",
   "execution_count": 100,
   "metadata": {},
   "outputs": [
    {
     "data": {
      "text/plain": [
       "58288"
      ]
     },
     "execution_count": 100,
     "metadata": {},
     "output_type": "execute_result"
    }
   ],
   "source": [
    "int(np.min(pointings_database['expMJD']))"
   ]
  },
  {
   "cell_type": "code",
   "execution_count": 103,
   "metadata": {},
   "outputs": [],
   "source": [
    "# 30 sec exposure\n",
    "exp_count_per_night=[]\n",
    "for i in range(int(np.min(pointings_database['expMJD'])), int(np.max(pointings_database['expMJD']))):\n",
    "\n",
    "    ab = np.logical_and(pointings_database['expMJD']>i, pointings_database['expMJD']<(i+1))\n",
    "    exp_count_per_night.append(len(pointings_database[ab]))\n",
    "    \n",
    "exp_count_per_night = np.array(exp_count_per_night)"
   ]
  },
  {
   "cell_type": "code",
   "execution_count": 125,
   "metadata": {},
   "outputs": [
    {
     "data": {
      "text/plain": [
       "92.0"
      ]
     },
     "execution_count": 125,
     "metadata": {},
     "output_type": "execute_result"
    }
   ],
   "source": [
    "np.median(exp_count_per_night[exp_count_per_night>0])"
   ]
  },
  {
   "cell_type": "code",
   "execution_count": 106,
   "metadata": {},
   "outputs": [
    {
     "data": {
      "text/plain": [
       "(array([ 28.,  27.,  40.,  40.,  50., 181., 337., 187., 154., 122.]),\n",
       " array([  1. ,  14.9,  28.8,  42.7,  56.6,  70.5,  84.4,  98.3, 112.2,\n",
       "        126.1, 140. ]),\n",
       " <BarContainer object of 10 artists>)"
      ]
     },
     "execution_count": 106,
     "metadata": {},
     "output_type": "execute_result"
    },
    {
     "data": {
      "image/png": "[encoded data removed]",
      "text/plain": [
       "<Figure size 640x480 with 1 Axes>"
      ]
     },
     "metadata": {},
     "output_type": "display_data"
    }
   ],
   "source": [
    "plt.hist(exp_count_per_night[exp_count_per_night>0])"
   ]
  },
  {
   "cell_type": "code",
   "execution_count": 109,
   "metadata": {},
   "outputs": [
    {
     "data": {
      "text/plain": [
       "58288"
      ]
     },
     "execution_count": 109,
     "metadata": {},
     "output_type": "execute_result"
    }
   ],
   "source": [
    "int(np.min(pointings_database['expMJD']))\n",
    "# Mar - 19 - 2022"
   ]
  },
  {
   "cell_type": "code",
   "execution_count": 108,
   "metadata": {},
   "outputs": [
    {
     "data": {
      "text/plain": [
       "59822"
      ]
     },
     "execution_count": 108,
     "metadata": {},
     "output_type": "execute_result"
    }
   ],
   "source": [
    "int(np.max(pointings_database['expMJD']))\n",
    "# Aug - 31 - 2022"
   ]
  },
  {
   "cell_type": "code",
   "execution_count": 112,
   "metadata": {},
   "outputs": [
    {
     "data": {
      "text/html": [
       "<div>\n",
       "<style scoped>\n",
       "    .dataframe tbody tr th:only-of-type {\n",
       "        vertical-align: middle;\n",
       "    }\n",
       "\n",
       "    .dataframe tbody tr th {\n",
       "        vertical-align: top;\n",
       "    }\n",
       "\n",
       "    .dataframe thead th {\n",
       "        text-align: right;\n",
       "    }\n",
       "</style>\n",
       "<table border=\"1\" class=\"dataframe\">\n",
       "  <thead>\n",
       "    <tr style=\"text-align: right;\">\n",
       "      <th></th>\n",
       "      <th>expMJD</th>\n",
       "      <th>filter</th>\n",
       "      <th>fiveSigmaDepth</th>\n",
       "      <th>_ra</th>\n",
       "      <th>_dec</th>\n",
       "    </tr>\n",
       "  </thead>\n",
       "  <tbody>\n",
       "    <tr>\n",
       "      <th>0</th>\n",
       "      <td>58288.170</td>\n",
       "      <td>ztfi</td>\n",
       "      <td>19.931356</td>\n",
       "      <td>3.822735</td>\n",
       "      <td>0.079412</td>\n",
       "    </tr>\n",
       "    <tr>\n",
       "      <th>1</th>\n",
       "      <td>58288.176</td>\n",
       "      <td>ztfi</td>\n",
       "      <td>20.210491</td>\n",
       "      <td>4.436831</td>\n",
       "      <td>0.456404</td>\n",
       "    </tr>\n",
       "    <tr>\n",
       "      <th>2</th>\n",
       "      <td>58288.180</td>\n",
       "      <td>ztfi</td>\n",
       "      <td>20.540510</td>\n",
       "      <td>3.560472</td>\n",
       "      <td>1.210386</td>\n",
       "    </tr>\n",
       "    <tr>\n",
       "      <th>3</th>\n",
       "      <td>58288.184</td>\n",
       "      <td>ztfi</td>\n",
       "      <td>20.345324</td>\n",
       "      <td>3.355396</td>\n",
       "      <td>0.582067</td>\n",
       "    </tr>\n",
       "    <tr>\n",
       "      <th>4</th>\n",
       "      <td>58288.188</td>\n",
       "      <td>ztfi</td>\n",
       "      <td>20.411247</td>\n",
       "      <td>3.520526</td>\n",
       "      <td>0.330740</td>\n",
       "    </tr>\n",
       "    <tr>\n",
       "      <th>...</th>\n",
       "      <td>...</td>\n",
       "      <td>...</td>\n",
       "      <td>...</td>\n",
       "      <td>...</td>\n",
       "      <td>...</td>\n",
       "    </tr>\n",
       "    <tr>\n",
       "      <th>76</th>\n",
       "      <td>58288.465</td>\n",
       "      <td>ztfr</td>\n",
       "      <td>19.961952</td>\n",
       "      <td>0.400126</td>\n",
       "      <td>0.267908</td>\n",
       "    </tr>\n",
       "    <tr>\n",
       "      <th>77</th>\n",
       "      <td>58288.470</td>\n",
       "      <td>ztfr</td>\n",
       "      <td>20.274796</td>\n",
       "      <td>0.491055</td>\n",
       "      <td>0.959058</td>\n",
       "    </tr>\n",
       "    <tr>\n",
       "      <th>78</th>\n",
       "      <td>58288.473</td>\n",
       "      <td>ztfr</td>\n",
       "      <td>20.703732</td>\n",
       "      <td>5.834386</td>\n",
       "      <td>1.084722</td>\n",
       "    </tr>\n",
       "    <tr>\n",
       "      <th>79</th>\n",
       "      <td>58288.477</td>\n",
       "      <td>ztfr</td>\n",
       "      <td>20.915184</td>\n",
       "      <td>6.045699</td>\n",
       "      <td>0.519235</td>\n",
       "    </tr>\n",
       "    <tr>\n",
       "      <th>80</th>\n",
       "      <td>58288.480</td>\n",
       "      <td>ztfr</td>\n",
       "      <td>20.557556</td>\n",
       "      <td>5.643236</td>\n",
       "      <td>0.456404</td>\n",
       "    </tr>\n",
       "  </tbody>\n",
       "</table>\n",
       "<p>81 rows × 5 columns</p>\n",
       "</div>"
      ],
      "text/plain": [
       "       expMJD filter  fiveSigmaDepth       _ra      _dec\n",
       "0   58288.170   ztfi       19.931356  3.822735  0.079412\n",
       "1   58288.176   ztfi       20.210491  4.436831  0.456404\n",
       "2   58288.180   ztfi       20.540510  3.560472  1.210386\n",
       "3   58288.184   ztfi       20.345324  3.355396  0.582067\n",
       "4   58288.188   ztfi       20.411247  3.520526  0.330740\n",
       "..        ...    ...             ...       ...       ...\n",
       "76  58288.465   ztfr       19.961952  0.400126  0.267908\n",
       "77  58288.470   ztfr       20.274796  0.491055  0.959058\n",
       "78  58288.473   ztfr       20.703732  5.834386  1.084722\n",
       "79  58288.477   ztfr       20.915184  6.045699  0.519235\n",
       "80  58288.480   ztfr       20.557556  5.643236  0.456404\n",
       "\n",
       "[81 rows x 5 columns]"
      ]
     },
     "execution_count": 112,
     "metadata": {},
     "output_type": "execute_result"
    }
   ],
   "source": [
    "a = (pointings_database['expMJD'] < 58289) \n",
    "b = (pointings_database['expMJD'] > 58288) \n",
    "pointings_database[np.logical_and(a,b)]"
   ]
  },
  {
   "cell_type": "code",
   "execution_count": 115,
   "metadata": {},
   "outputs": [
    {
     "data": {
      "text/plain": [
       "259.1999997384846"
      ]
     },
     "execution_count": 115,
     "metadata": {},
     "output_type": "execute_result"
    }
   ],
   "source": [
    "(58288.176 - 58288.173)*24*3600"
   ]
  },
  {
   "cell_type": "code",
   "execution_count": 121,
   "metadata": {},
   "outputs": [
    {
     "data": {
      "text/plain": [
       "345.600000070408"
      ]
     },
     "execution_count": 121,
     "metadata": {},
     "output_type": "execute_result"
    }
   ],
   "source": [
    "np.median(np.diff(pointings_database['expMJD'])*24*3600)"
   ]
  },
  {
   "cell_type": "code",
   "execution_count": 123,
   "metadata": {},
   "outputs": [
    {
     "data": {
      "text/plain": [
       "0.004000000000814907"
      ]
     },
     "execution_count": 123,
     "metadata": {},
     "output_type": "execute_result"
    }
   ],
   "source": [
    "np.median(np.diff(pointings_database['expMJD']))"
   ]
  },
  {
   "cell_type": "markdown",
   "metadata": {},
   "source": [
    "# Redback - exploring degrading lightcurve to LSST cadence "
   ]
  },
  {
   "cell_type": "code",
   "execution_count": 126,
   "metadata": {},
   "outputs": [],
   "source": [
    "datadir = '/astro/users/ncaplar/github/redback/redback/tables'\n",
    "pointings_database_name = 'rubin_baseline_v3.0_10yrs.tar.gz'"
   ]
  },
  {
   "cell_type": "code",
   "execution_count": 127,
   "metadata": {},
   "outputs": [],
   "source": [
    "pointings_database = pd.read_csv(datadir + \"/\" + pointings_database_name, compression='gzip')"
   ]
  },
  {
   "cell_type": "code",
   "execution_count": 128,
   "metadata": {},
   "outputs": [
    {
     "data": {
      "text/html": [
       "<div>\n",
       "<style scoped>\n",
       "    .dataframe tbody tr th:only-of-type {\n",
       "        vertical-align: middle;\n",
       "    }\n",
       "\n",
       "    .dataframe tbody tr th {\n",
       "        vertical-align: top;\n",
       "    }\n",
       "\n",
       "    .dataframe thead th {\n",
       "        text-align: right;\n",
       "    }\n",
       "</style>\n",
       "<table border=\"1\" class=\"dataframe\">\n",
       "  <thead>\n",
       "    <tr style=\"text-align: right;\">\n",
       "      <th></th>\n",
       "      <th>obsHistID</th>\n",
       "      <th>_ra</th>\n",
       "      <th>_dec</th>\n",
       "      <th>expMJD</th>\n",
       "      <th>filter</th>\n",
       "      <th>fiveSigmaDepth</th>\n",
       "    </tr>\n",
       "  </thead>\n",
       "  <tbody>\n",
       "    <tr>\n",
       "      <th>0</th>\n",
       "      <td>0</td>\n",
       "      <td>5.211615</td>\n",
       "      <td>-0.271831</td>\n",
       "      <td>60218.001806</td>\n",
       "      <td>lssty</td>\n",
       "      <td>22.546480</td>\n",
       "    </tr>\n",
       "    <tr>\n",
       "      <th>1</th>\n",
       "      <td>1</td>\n",
       "      <td>5.184243</td>\n",
       "      <td>-0.229415</td>\n",
       "      <td>60218.002260</td>\n",
       "      <td>lssty</td>\n",
       "      <td>22.532127</td>\n",
       "    </tr>\n",
       "    <tr>\n",
       "      <th>2</th>\n",
       "      <td>2</td>\n",
       "      <td>5.156032</td>\n",
       "      <td>-0.276708</td>\n",
       "      <td>60218.002715</td>\n",
       "      <td>lssty</td>\n",
       "      <td>22.546281</td>\n",
       "    </tr>\n",
       "    <tr>\n",
       "      <th>3</th>\n",
       "      <td>3</td>\n",
       "      <td>6.218399</td>\n",
       "      <td>-0.892994</td>\n",
       "      <td>60218.004914</td>\n",
       "      <td>lsstr</td>\n",
       "      <td>23.128326</td>\n",
       "    </tr>\n",
       "    <tr>\n",
       "      <th>4</th>\n",
       "      <td>4</td>\n",
       "      <td>0.002771</td>\n",
       "      <td>-0.927466</td>\n",
       "      <td>60218.005362</td>\n",
       "      <td>lsstr</td>\n",
       "      <td>23.075882</td>\n",
       "    </tr>\n",
       "    <tr>\n",
       "      <th>...</th>\n",
       "      <td>...</td>\n",
       "      <td>...</td>\n",
       "      <td>...</td>\n",
       "      <td>...</td>\n",
       "      <td>...</td>\n",
       "      <td>...</td>\n",
       "    </tr>\n",
       "    <tr>\n",
       "      <th>2086074</th>\n",
       "      <td>2086074</td>\n",
       "      <td>0.242628</td>\n",
       "      <td>-0.300568</td>\n",
       "      <td>63870.104316</td>\n",
       "      <td>lssty</td>\n",
       "      <td>21.765412</td>\n",
       "    </tr>\n",
       "    <tr>\n",
       "      <th>2086075</th>\n",
       "      <td>2086075</td>\n",
       "      <td>0.286405</td>\n",
       "      <td>-0.337880</td>\n",
       "      <td>63870.104764</td>\n",
       "      <td>lssty</td>\n",
       "      <td>21.700841</td>\n",
       "    </tr>\n",
       "    <tr>\n",
       "      <th>2086076</th>\n",
       "      <td>2086076</td>\n",
       "      <td>0.237859</td>\n",
       "      <td>-0.352882</td>\n",
       "      <td>63870.105213</td>\n",
       "      <td>lssty</td>\n",
       "      <td>21.743835</td>\n",
       "    </tr>\n",
       "    <tr>\n",
       "      <th>2086077</th>\n",
       "      <td>2086077</td>\n",
       "      <td>0.193195</td>\n",
       "      <td>-0.316096</td>\n",
       "      <td>63870.105661</td>\n",
       "      <td>lssty</td>\n",
       "      <td>21.765063</td>\n",
       "    </tr>\n",
       "    <tr>\n",
       "      <th>2086078</th>\n",
       "      <td>2086078</td>\n",
       "      <td>0.188766</td>\n",
       "      <td>-0.367150</td>\n",
       "      <td>63870.106108</td>\n",
       "      <td>lssty</td>\n",
       "      <td>21.787785</td>\n",
       "    </tr>\n",
       "  </tbody>\n",
       "</table>\n",
       "<p>2086079 rows × 6 columns</p>\n",
       "</div>"
      ],
      "text/plain": [
       "         obsHistID       _ra      _dec        expMJD filter  fiveSigmaDepth\n",
       "0                0  5.211615 -0.271831  60218.001806  lssty       22.546480\n",
       "1                1  5.184243 -0.229415  60218.002260  lssty       22.532127\n",
       "2                2  5.156032 -0.276708  60218.002715  lssty       22.546281\n",
       "3                3  6.218399 -0.892994  60218.004914  lsstr       23.128326\n",
       "4                4  0.002771 -0.927466  60218.005362  lsstr       23.075882\n",
       "...            ...       ...       ...           ...    ...             ...\n",
       "2086074    2086074  0.242628 -0.300568  63870.104316  lssty       21.765412\n",
       "2086075    2086075  0.286405 -0.337880  63870.104764  lssty       21.700841\n",
       "2086076    2086076  0.237859 -0.352882  63870.105213  lssty       21.743835\n",
       "2086077    2086077  0.193195 -0.316096  63870.105661  lssty       21.765063\n",
       "2086078    2086078  0.188766 -0.367150  63870.106108  lssty       21.787785\n",
       "\n",
       "[2086079 rows x 6 columns]"
      ]
     },
     "execution_count": 128,
     "metadata": {},
     "output_type": "execute_result"
    }
   ],
   "source": [
    "pointings_database"
   ]
  },
  {
   "cell_type": "code",
   "execution_count": 129,
   "metadata": {},
   "outputs": [
    {
     "data": {
      "text/plain": [
       "Text(0, 0.5, 'dec')"
      ]
     },
     "execution_count": 129,
     "metadata": {},
     "output_type": "execute_result"
    },
    {
     "data": {
      "image/png": "[encoded data removed]",
      "text/plain": [
       "<Figure size 640x480 with 1 Axes>"
      ]
     },
     "metadata": {},
     "output_type": "display_data"
    }
   ],
   "source": [
    "plt.scatter(pointings_database['_ra']*180/np.pi, pointings_database['_dec']*180/np.pi)\n",
    "plt.xlabel('ra')\n",
    "plt.ylabel('dec')"
   ]
  },
  {
   "cell_type": "code",
   "execution_count": 130,
   "metadata": {},
   "outputs": [
    {
     "name": "stdout",
     "output_type": "stream",
     "text": [
      "survey_radius:0.03050970776212563\n"
     ]
    }
   ],
   "source": [
    "survey_fov_sqdeg = 9.6\n",
    "survey_fov_sqrad = survey_fov_sqdeg*(np.pi/180.0)**2\n",
    "survey_radius = np.sqrt(survey_fov_sqrad/np.pi)\n",
    "print('survey_radius:' + str(survey_radius))"
   ]
  },
  {
   "cell_type": "code",
   "execution_count": 131,
   "metadata": {},
   "outputs": [],
   "source": [
    "parameters = pd.DataFrame(np.array([[0, 1, 2], [0.2813573, 1, 2], [-0.0978646, 1, 2]]).T,\n",
    "                   columns=['id', 'ra', 'dec'])\n",
    "\n",
    "parameters_deg = parameters.copy()\n",
    "\n",
    "parameters['ra'] = parameters_deg['ra'] * np.pi/180\n",
    "parameters['dec'] = parameters_deg['dec'] * np.pi/180\n",
    "\n",
    "time_space_overlap, transient_sky_pos_3D, pointings_sky_pos_3D = find_sky_overlaps(pointings_database, parameters)"
   ]
  },
  {
   "cell_type": "code",
   "execution_count": 142,
   "metadata": {},
   "outputs": [
    {
     "data": {
      "text/plain": [
       "array([60228.01939646, 60229.15751636, 60233.09121907, 60248.13913665,\n",
       "       60248.1400404 , 60264.06419325, 60285.03369158, 60292.04841646,\n",
       "       60438.42810582, 60438.43120199, 60442.42964177, 60442.43273505,\n",
       "       60492.399031  , 60502.37472491, 60531.405594  , 60546.2757241 ,\n",
       "       60565.18496973, 60565.19173363, 60566.22539358, 60566.22583997,\n",
       "       60579.15203075, 60579.15474916, 60587.17166363, 60587.17391098,\n",
       "       60588.14762193, 60607.0919349 , 60607.10323611, 60614.11615829,\n",
       "       60614.11705594, 60650.05767886, 60810.43036033, 60810.43346189,\n",
       "       60944.2378171 , 60961.1366425 , 60962.20779987, 60964.1499669 ,\n",
       "       60993.1732444 , 61243.38915629, 61243.38960408, 61261.39062001,\n",
       "       61262.29813764, 61265.37217378, 61270.40806052, 61293.27995131,\n",
       "       61297.20979724, 61298.22341508, 61305.1811942 , 61317.0354486 ,\n",
       "       61317.07602442, 61323.10967939, 61323.11148749, 61329.1281511 ,\n",
       "       61329.25398945, 61342.1945769 , 61345.1409437 , 61355.04274181,\n",
       "       61369.09134706, 61370.10990799, 61371.04937728, 61376.03342232,\n",
       "       61383.09161662, 61386.05494171, 61558.41671208, 61559.41451552,\n",
       "       61623.32902948, 61647.23663033, 61652.25573227, 61713.14690958,\n",
       "       61971.2967678 , 61973.3668892 , 61974.37561212, 62000.30639693,\n",
       "       62001.27766963, 62001.27857092, 62001.29962683, 62001.30321246,\n",
       "       62003.31491464, 62004.25867506, 62004.38769409, 62027.18726708,\n",
       "       62030.3079176 , 62031.14662803, 62059.11692832, 62060.06458925,\n",
       "       62060.06503605, 62060.24944015, 62060.25032946, 62061.18455986,\n",
       "       62065.22043165, 62066.24210934, 62087.15974812, 62088.06283929,\n",
       "       62089.08776341, 62091.05023522, 62093.07182681, 62096.09062754,\n",
       "       62096.0910763 , 62107.05117549, 62114.0599516 , 62120.03866886,\n",
       "       62121.03711167, 62123.03558268, 62123.03602938, 62125.04028971,\n",
       "       62324.38122332, 62326.40135265, 62326.40179999, 62360.361791  ,\n",
       "       62415.13958658, 62445.11067258, 62704.42279089, 62705.39057948,\n",
       "       62707.42710251, 62710.40082309, 62711.38793893, 62715.32241423,\n",
       "       62718.36256202, 62718.36439793, 62735.24472759, 62736.22371084,\n",
       "       62742.29899502, 62764.31518922, 62764.31608463, 62769.3001526 ,\n",
       "       62770.18982607, 62770.19253581, 62776.16787184, 62792.07160347,\n",
       "       62793.19793874, 62794.11915992, 62796.18875511, 62800.1250263 ,\n",
       "       62829.03829828, 62832.02220581, 62847.03794487, 62848.03618768,\n",
       "       62848.03752972, 62852.03950115, 62855.0402198 , 62856.05287169,\n",
       "       62863.05499805, 63011.43639777, 63117.24328353, 63121.33336423,\n",
       "       63152.21945241, 63154.12499155, 63157.09724339, 63187.06351341,\n",
       "       63444.39629704, 63448.34175748, 63450.32257989, 63456.3743905 ,\n",
       "       63478.26822209, 63486.31404571, 63498.24645912, 63508.01262567,\n",
       "       63510.17146909, 63512.13524202, 63526.14513323, 63530.02861005,\n",
       "       63531.13829788, 63532.07199523, 63545.03792556, 63545.04429314,\n",
       "       63558.03920651, 63558.04012292, 63559.09037124, 63561.02738765,\n",
       "       63562.06290057, 63565.02742216, 63567.04339877, 63570.0459058 ,\n",
       "       63571.14251127, 63573.07649879, 63585.03733425, 63722.42666484,\n",
       "       63722.4297774 , 63726.42704938, 63726.43017092, 63743.4068612 ,\n",
       "       63743.40954496, 63744.41121961, 63776.34670002, 63800.42200706,\n",
       "       63801.43603464, 63802.31952212, 63815.33743522, 63832.318203  ,\n",
       "       63834.21389895, 63859.24848392])"
      ]
     },
     "execution_count": 142,
     "metadata": {},
     "output_type": "execute_result"
    }
   ],
   "source": [
    "overlapping_database_iter = pointings_database.iloc[time_space_overlap[0]]\n",
    "single_filter_single_position = overlapping_database_iter[overlapping_database_iter['filter']=='lsstr']['expMJD']\n",
    "single_filter_single_position.values\n"
   ]
  },
  {
   "cell_type": "code",
   "execution_count": 141,
   "metadata": {},
   "outputs": [
    {
     "data": {
      "text/plain": [
       "array([60228.01939646, 60229.15751636, 60233.09121907, 60248.13913665,\n",
       "       60248.1400404 , 60264.06419325, 60285.03369158, 60292.04841646,\n",
       "       60438.42810582, 60438.43120199, 60442.42964177, 60442.43273505,\n",
       "       60492.399031  , 60502.37472491, 60531.405594  , 60546.2757241 ,\n",
       "       60565.18496973, 60565.19173363, 60566.22539358, 60566.22583997,\n",
       "       60579.15203075, 60579.15474916, 60587.17166363, 60587.17391098,\n",
       "       60588.14762193, 60607.0919349 , 60607.10323611, 60614.11615829,\n",
       "       60614.11705594, 60650.05767886, 60810.43036033, 60810.43346189,\n",
       "       60944.2378171 , 60961.1366425 , 60962.20779987, 60964.1499669 ,\n",
       "       60993.1732444 , 61243.38915629, 61243.38960408, 61261.39062001,\n",
       "       61262.29813764, 61265.37217378, 61270.40806052, 61293.27995131,\n",
       "       61297.20979724, 61298.22341508, 61305.1811942 , 61317.0354486 ,\n",
       "       61317.07602442, 61323.10967939, 61323.11148749, 61329.1281511 ,\n",
       "       61329.25398945, 61342.1945769 , 61345.1409437 , 61355.04274181,\n",
       "       61369.09134706, 61370.10990799, 61371.04937728, 61376.03342232,\n",
       "       61383.09161662, 61386.05494171, 61558.41671208, 61559.41451552,\n",
       "       61623.32902948, 61647.23663033, 61652.25573227, 61713.14690958,\n",
       "       61971.2967678 , 61973.3668892 , 61974.37561212, 62000.30639693,\n",
       "       62001.27766963, 62001.27857092, 62001.29962683, 62001.30321246,\n",
       "       62003.31491464, 62004.25867506, 62004.38769409, 62027.18726708,\n",
       "       62030.3079176 , 62031.14662803, 62059.11692832, 62060.06458925,\n",
       "       62060.06503605, 62060.24944015, 62060.25032946, 62061.18455986,\n",
       "       62065.22043165, 62066.24210934, 62087.15974812, 62088.06283929,\n",
       "       62089.08776341, 62091.05023522, 62093.07182681, 62096.09062754,\n",
       "       62096.0910763 , 62107.05117549, 62114.0599516 , 62120.03866886,\n",
       "       62121.03711167, 62123.03558268, 62123.03602938, 62125.04028971,\n",
       "       62324.38122332, 62326.40135265, 62326.40179999, 62360.361791  ,\n",
       "       62415.13958658, 62445.11067258, 62704.42279089, 62705.39057948,\n",
       "       62707.42710251, 62710.40082309, 62711.38793893, 62715.32241423,\n",
       "       62718.36256202, 62718.36439793, 62735.24472759, 62736.22371084,\n",
       "       62742.29899502, 62764.31518922, 62764.31608463, 62769.3001526 ,\n",
       "       62770.18982607, 62770.19253581, 62776.16787184, 62792.07160347,\n",
       "       62793.19793874, 62794.11915992, 62796.18875511, 62800.1250263 ,\n",
       "       62829.03829828, 62832.02220581, 62847.03794487, 62848.03618768,\n",
       "       62848.03752972, 62852.03950115, 62855.0402198 , 62856.05287169,\n",
       "       62863.05499805, 63011.43639777, 63117.24328353, 63121.33336423,\n",
       "       63152.21945241, 63154.12499155, 63157.09724339, 63187.06351341,\n",
       "       63444.39629704, 63448.34175748, 63450.32257989, 63456.3743905 ,\n",
       "       63478.26822209, 63486.31404571, 63498.24645912, 63508.01262567,\n",
       "       63510.17146909, 63512.13524202, 63526.14513323, 63530.02861005,\n",
       "       63531.13829788, 63532.07199523, 63545.03792556, 63545.04429314,\n",
       "       63558.03920651, 63558.04012292, 63559.09037124, 63561.02738765,\n",
       "       63562.06290057, 63565.02742216, 63567.04339877, 63570.0459058 ,\n",
       "       63571.14251127, 63573.07649879, 63585.03733425, 63722.42666484,\n",
       "       63722.4297774 , 63726.42704938, 63726.43017092, 63743.4068612 ,\n",
       "       63743.40954496, 63744.41121961, 63776.34670002, 63800.42200706,\n",
       "       63801.43603464, 63802.31952212, 63815.33743522, 63832.318203  ,\n",
       "       63834.21389895, 63859.24848392])"
      ]
     },
     "execution_count": 141,
     "metadata": {},
     "output_type": "execute_result"
    }
   ],
   "source": []
  },
  {
   "cell_type": "code",
   "execution_count": null,
   "metadata": {},
   "outputs": [],
   "source": []
  },
  {
   "cell_type": "markdown",
   "metadata": {},
   "source": [
    "# EYPC lets go"
   ]
  },
  {
   "cell_type": "code",
   "execution_count": 1,
   "metadata": {},
   "outputs": [],
   "source": [
    "import numpy as np\n",
    "import pandas as pd\n",
    "from tape.ensemble import Ensemble\n",
    "from tape.utils import ColumnMapper\n",
    "\n",
    "import JaxPeriodDrwFit"
   ]
  },
  {
   "cell_type": "code",
   "execution_count": 2,
   "metadata": {},
   "outputs": [],
   "source": [
    "ens = Ensemble()  # initialize an ensemble object"
   ]
  },
  {
   "cell_type": "code",
   "execution_count": 3,
   "metadata": {},
   "outputs": [
    {
     "data": {
      "text/plain": [
       "array(['DEC_dr16q_constant', 'Dir_dr16q_constant', 'Dir_ps1_otmo',\n",
       "       'EBV_dr16q_constant', 'FEII_OPT_EW_ERR_dr16q_constant',\n",
       "       'FEII_OPT_EW_dr16q_constant', 'FEII_UV_EW_ERR_dr16q_constant',\n",
       "       'FEII_UV_EW_dr16q_constant', 'FIBERID_dr16q_constant',\n",
       "       'IF_BOSS_SDSS_dr16q_constant', 'LOGL1350_ERR_dr16q_constant',\n",
       "       'LOGL1350_dr16q_constant', 'LOGL1700_ERR_dr16q_constant',\n",
       "       'LOGL1700_dr16q_constant', 'LOGL2500_ERR_dr16q_constant',\n",
       "       'LOGL2500_dr16q_constant', 'LOGL3000_ERR_dr16q_constant',\n",
       "       'LOGL3000_dr16q_constant', 'LOGL5100_ERR_dr16q_constant',\n",
       "       'LOGL5100_dr16q_constant', 'LOGLBOL_ERR_dr16q_constant',\n",
       "       'LOGLBOL_dr16q_constant', 'LOGLEDD_RATIO_ERR_dr16q_constant',\n",
       "       'LOGLEDD_RATIO_dr16q_constant', 'LOGMBH_CIV_ERR_dr16q_constant',\n",
       "       'LOGMBH_CIV_dr16q_constant', 'LOGMBH_ERR_dr16q_constant',\n",
       "       'LOGMBH_HB_ERR_dr16q_constant', 'LOGMBH_HB_dr16q_constant',\n",
       "       'LOGMBH_MGII_ERR_dr16q_constant', 'LOGMBH_MGII_dr16q_constant',\n",
       "       'LOGMBH_dr16q_constant', 'MJD_dr16q_constant',\n",
       "       'Norder_dr16q_constant', 'Norder_ps1_otmo', 'Npix_dr16q_constant',\n",
       "       'Npix_ps1_otmo', 'OBJID_dr16q_constant', 'PLATE_dr16q_constant',\n",
       "       'RA_dr16q_constant', 'SDSS_NAME_dr16q_constant',\n",
       "       'SN_MEDIAN_ALL_dr16q_constant', 'SOURCE_Z_DR16Q_dr16q_constant',\n",
       "       'Z_DR16Q_dr16q_constant', 'Z_FIT_dr16q_constant',\n",
       "       'Z_SYS_ERR_dr16q_constant', 'Z_SYS_dr16q_constant', '_DIST',\n",
       "       'decMeanErr_ps1_otmo', 'decMean_ps1_otmo', 'epochMean_ps1_otmo',\n",
       "       'gFlags_ps1_otmo', 'gMeanPSFMagErr_ps1_otmo',\n",
       "       'gMeanPSFMag_ps1_otmo', 'iFlags_ps1_otmo',\n",
       "       'iMeanPSFMagErr_ps1_otmo', 'iMeanPSFMag_ps1_otmo',\n",
       "       'nDetections_ps1_otmo', 'ng_ps1_otmo', 'ni_ps1_otmo',\n",
       "       'nr_ps1_otmo', 'ny_ps1_otmo', 'nz_ps1_otmo', 'objID_ps1_otmo',\n",
       "       'objInfoFlag_ps1_otmo', 'qualityFlag_ps1_otmo', 'rFlags_ps1_otmo',\n",
       "       'rMeanPSFMagErr_ps1_otmo', 'rMeanPSFMag_ps1_otmo',\n",
       "       'raMeanErr_ps1_otmo', 'raMean_ps1_otmo', 'surveyID_ps1_otmo',\n",
       "       'yFlags_ps1_otmo', 'yMeanPSFMagErr_ps1_otmo',\n",
       "       'yMeanPSFMag_ps1_otmo', 'zFlags_ps1_otmo',\n",
       "       'zMeanPSFMagErr_ps1_otmo', 'zMeanPSFMag_ps1_otmo'], dtype=object)"
      ]
     },
     "execution_count": 3,
     "metadata": {},
     "output_type": "execute_result"
    }
   ],
   "source": [
    "# columns that are the same\n",
    "test_source = pd.read_parquet(\"/astro/store/epyc/data3/hipscat/catalogs/tape_test/tape_test_sources/Norder=6/Dir=10000/Npix=17752.parquet\")\n",
    "test_object = pd.read_parquet(\"/astro/store/epyc/data3/hipscat/catalogs/tape_test/tape_test_obj/Norder=5/Dir=0/Npix=4438.parquet\")\n",
    "lst = np.intersect1d(test_object.columns,test_source.columns)\n",
    "lst"
   ]
  },
  {
   "cell_type": "code",
   "execution_count": 4,
   "metadata": {},
   "outputs": [
    {
     "data": {
      "text/plain": [
       "<tape.ensemble.Ensemble at 0x7f5b6302af50>"
      ]
     },
     "execution_count": 4,
     "metadata": {},
     "output_type": "execute_result"
    }
   ],
   "source": [
    "col_map = ColumnMapper(id_col=\"SDSS_NAME_dr16q_constant\",\n",
    "    time_col=\"mjd_ztf_source\",\n",
    "    flux_col=\"mag_ztf_source\",\n",
    "    err_col=\"magerr_ztf_source\",\n",
    "    band_col=\"band_ztf_source\")\n",
    "\n",
    "ens.from_parquet(object_file = '/astro/store/epyc/data3/hipscat/catalogs/tape_test/tape_test_obj/Norder=5/Dir=0/Npix=4438.parquet',\n",
    "                 source_file=\"/astro/store/epyc/data3/hipscat/catalogs/tape_test/tape_test_sources/Norder=6/Dir=10000/Npix=17752.parquet\",\n",
    "                 column_mapper=col_map)"
   ]
  },
  {
   "cell_type": "code",
   "execution_count": 5,
   "metadata": {},
   "outputs": [
    {
     "data": {
      "text/html": [
       "<div>\n",
       "<style scoped>\n",
       "    .dataframe tbody tr th:only-of-type {\n",
       "        vertical-align: middle;\n",
       "    }\n",
       "\n",
       "    .dataframe tbody tr th {\n",
       "        vertical-align: top;\n",
       "    }\n",
       "\n",
       "    .dataframe thead th {\n",
       "        text-align: right;\n",
       "    }\n",
       "</style>\n",
       "<table border=\"1\" class=\"dataframe\">\n",
       "  <thead>\n",
       "    <tr style=\"text-align: right;\">\n",
       "      <th></th>\n",
       "      <th>nobs_g</th>\n",
       "      <th>nobs_i</th>\n",
       "      <th>nobs_r</th>\n",
       "      <th>nobs_total</th>\n",
       "      <th>_hipscat_index</th>\n",
       "      <th>PLATE_dr16q_constant</th>\n",
       "      <th>MJD_dr16q_constant</th>\n",
       "      <th>FIBERID_dr16q_constant</th>\n",
       "      <th>RA_dr16q_constant</th>\n",
       "      <th>DEC_dr16q_constant</th>\n",
       "      <th>...</th>\n",
       "      <th>zFlags_ps1_otmo</th>\n",
       "      <th>yMeanPSFMag_ps1_otmo</th>\n",
       "      <th>yMeanPSFMagErr_ps1_otmo</th>\n",
       "      <th>yFlags_ps1_otmo</th>\n",
       "      <th>Norder_ps1_otmo</th>\n",
       "      <th>Dir_ps1_otmo</th>\n",
       "      <th>Npix_ps1_otmo</th>\n",
       "      <th>_DIST</th>\n",
       "      <th>Norder</th>\n",
       "      <th>Dir</th>\n",
       "    </tr>\n",
       "    <tr>\n",
       "      <th>SDSS_NAME_dr16q_constant</th>\n",
       "      <th></th>\n",
       "      <th></th>\n",
       "      <th></th>\n",
       "      <th></th>\n",
       "      <th></th>\n",
       "      <th></th>\n",
       "      <th></th>\n",
       "      <th></th>\n",
       "      <th></th>\n",
       "      <th></th>\n",
       "      <th></th>\n",
       "      <th></th>\n",
       "      <th></th>\n",
       "      <th></th>\n",
       "      <th></th>\n",
       "      <th></th>\n",
       "      <th></th>\n",
       "      <th></th>\n",
       "      <th></th>\n",
       "      <th></th>\n",
       "      <th></th>\n",
       "    </tr>\n",
       "  </thead>\n",
       "  <tbody>\n",
       "    <tr>\n",
       "      <th>b'024048.22-003429.0'</th>\n",
       "      <td>15</td>\n",
       "      <td>0</td>\n",
       "      <td>34</td>\n",
       "      <td>49</td>\n",
       "      <td>4996930622631968768</td>\n",
       "      <td>6781</td>\n",
       "      <td>56575</td>\n",
       "      <td>24</td>\n",
       "      <td>40.200929</td>\n",
       "      <td>-0.574726</td>\n",
       "      <td>...</td>\n",
       "      <td>115000</td>\n",
       "      <td>-999.000000</td>\n",
       "      <td>-999.000000</td>\n",
       "      <td>16416</td>\n",
       "      <td>5</td>\n",
       "      <td>0</td>\n",
       "      <td>4438</td>\n",
       "      <td>0.000007</td>\n",
       "      <td>5</td>\n",
       "      <td>0</td>\n",
       "    </tr>\n",
       "    <tr>\n",
       "      <th>b'024049.96-004044.9'</th>\n",
       "      <td>5</td>\n",
       "      <td>0</td>\n",
       "      <td>4</td>\n",
       "      <td>9</td>\n",
       "      <td>4996922167439392768</td>\n",
       "      <td>6782</td>\n",
       "      <td>56572</td>\n",
       "      <td>422</td>\n",
       "      <td>40.208194</td>\n",
       "      <td>-0.679158</td>\n",
       "      <td>...</td>\n",
       "      <td>115000</td>\n",
       "      <td>-999.000000</td>\n",
       "      <td>-999.000000</td>\n",
       "      <td>114720</td>\n",
       "      <td>5</td>\n",
       "      <td>0</td>\n",
       "      <td>4438</td>\n",
       "      <td>0.000005</td>\n",
       "      <td>5</td>\n",
       "      <td>0</td>\n",
       "    </tr>\n",
       "    <tr>\n",
       "      <th>b'024050.36-003109.0'</th>\n",
       "      <td>212</td>\n",
       "      <td>23</td>\n",
       "      <td>260</td>\n",
       "      <td>495</td>\n",
       "      <td>4996935929655459840</td>\n",
       "      <td>6781</td>\n",
       "      <td>56274</td>\n",
       "      <td>23</td>\n",
       "      <td>40.209848</td>\n",
       "      <td>-0.519187</td>\n",
       "      <td>...</td>\n",
       "      <td>115000</td>\n",
       "      <td>19.773600</td>\n",
       "      <td>0.175873</td>\n",
       "      <td>115000</td>\n",
       "      <td>5</td>\n",
       "      <td>0</td>\n",
       "      <td>4438</td>\n",
       "      <td>0.000007</td>\n",
       "      <td>5</td>\n",
       "      <td>0</td>\n",
       "    </tr>\n",
       "    <tr>\n",
       "      <th>b'024052.82-004110.9'</th>\n",
       "      <td>52</td>\n",
       "      <td>0</td>\n",
       "      <td>49</td>\n",
       "      <td>101</td>\n",
       "      <td>4996922031703326720</td>\n",
       "      <td>7825</td>\n",
       "      <td>57030</td>\n",
       "      <td>143</td>\n",
       "      <td>40.220118</td>\n",
       "      <td>-0.686367</td>\n",
       "      <td>...</td>\n",
       "      <td>16892216</td>\n",
       "      <td>17.373301</td>\n",
       "      <td>0.015488</td>\n",
       "      <td>16892216</td>\n",
       "      <td>5</td>\n",
       "      <td>0</td>\n",
       "      <td>4438</td>\n",
       "      <td>0.000009</td>\n",
       "      <td>5</td>\n",
       "      <td>0</td>\n",
       "    </tr>\n",
       "    <tr>\n",
       "      <th>b'024053.68-002900.7'</th>\n",
       "      <td>276</td>\n",
       "      <td>29</td>\n",
       "      <td>387</td>\n",
       "      <td>692</td>\n",
       "      <td>4996936918106112000</td>\n",
       "      <td>6781</td>\n",
       "      <td>56274</td>\n",
       "      <td>29</td>\n",
       "      <td>40.223684</td>\n",
       "      <td>-0.483536</td>\n",
       "      <td>...</td>\n",
       "      <td>115000</td>\n",
       "      <td>19.814301</td>\n",
       "      <td>0.008519</td>\n",
       "      <td>115000</td>\n",
       "      <td>5</td>\n",
       "      <td>0</td>\n",
       "      <td>4438</td>\n",
       "      <td>0.000009</td>\n",
       "      <td>5</td>\n",
       "      <td>0</td>\n",
       "    </tr>\n",
       "  </tbody>\n",
       "</table>\n",
       "<p>5 rows × 84 columns</p>\n",
       "</div>"
      ],
      "text/plain": [
       "                          nobs_g  nobs_i  nobs_r  nobs_total  \\\n",
       "SDSS_NAME_dr16q_constant                                       \n",
       "b'024048.22-003429.0'         15       0      34          49   \n",
       "b'024049.96-004044.9'          5       0       4           9   \n",
       "b'024050.36-003109.0'        212      23     260         495   \n",
       "b'024052.82-004110.9'         52       0      49         101   \n",
       "b'024053.68-002900.7'        276      29     387         692   \n",
       "\n",
       "                               _hipscat_index  PLATE_dr16q_constant  \\\n",
       "SDSS_NAME_dr16q_constant                                              \n",
       "b'024048.22-003429.0'     4996930622631968768                  6781   \n",
       "b'024049.96-004044.9'     4996922167439392768                  6782   \n",
       "b'024050.36-003109.0'     4996935929655459840                  6781   \n",
       "b'024052.82-004110.9'     4996922031703326720                  7825   \n",
       "b'024053.68-002900.7'     4996936918106112000                  6781   \n",
       "\n",
       "                          MJD_dr16q_constant  FIBERID_dr16q_constant  \\\n",
       "SDSS_NAME_dr16q_constant                                               \n",
       "b'024048.22-003429.0'                  56575                      24   \n",
       "b'024049.96-004044.9'                  56572                     422   \n",
       "b'024050.36-003109.0'                  56274                      23   \n",
       "b'024052.82-004110.9'                  57030                     143   \n",
       "b'024053.68-002900.7'                  56274                      29   \n",
       "\n",
       "                          RA_dr16q_constant  DEC_dr16q_constant  ...  \\\n",
       "SDSS_NAME_dr16q_constant                                         ...   \n",
       "b'024048.22-003429.0'             40.200929           -0.574726  ...   \n",
       "b'024049.96-004044.9'             40.208194           -0.679158  ...   \n",
       "b'024050.36-003109.0'             40.209848           -0.519187  ...   \n",
       "b'024052.82-004110.9'             40.220118           -0.686367  ...   \n",
       "b'024053.68-002900.7'             40.223684           -0.483536  ...   \n",
       "\n",
       "                         zFlags_ps1_otmo yMeanPSFMag_ps1_otmo  \\\n",
       "SDSS_NAME_dr16q_constant                                        \n",
       "b'024048.22-003429.0'             115000          -999.000000   \n",
       "b'024049.96-004044.9'             115000          -999.000000   \n",
       "b'024050.36-003109.0'             115000            19.773600   \n",
       "b'024052.82-004110.9'           16892216            17.373301   \n",
       "b'024053.68-002900.7'             115000            19.814301   \n",
       "\n",
       "                          yMeanPSFMagErr_ps1_otmo yFlags_ps1_otmo  \\\n",
       "SDSS_NAME_dr16q_constant                                            \n",
       "b'024048.22-003429.0'                 -999.000000           16416   \n",
       "b'024049.96-004044.9'                 -999.000000          114720   \n",
       "b'024050.36-003109.0'                    0.175873          115000   \n",
       "b'024052.82-004110.9'                    0.015488        16892216   \n",
       "b'024053.68-002900.7'                    0.008519          115000   \n",
       "\n",
       "                          Norder_ps1_otmo  Dir_ps1_otmo  Npix_ps1_otmo  \\\n",
       "SDSS_NAME_dr16q_constant                                                 \n",
       "b'024048.22-003429.0'                   5             0           4438   \n",
       "b'024049.96-004044.9'                   5             0           4438   \n",
       "b'024050.36-003109.0'                   5             0           4438   \n",
       "b'024052.82-004110.9'                   5             0           4438   \n",
       "b'024053.68-002900.7'                   5             0           4438   \n",
       "\n",
       "                             _DIST  Norder  Dir  \n",
       "SDSS_NAME_dr16q_constant                         \n",
       "b'024048.22-003429.0'     0.000007       5    0  \n",
       "b'024049.96-004044.9'     0.000005       5    0  \n",
       "b'024050.36-003109.0'     0.000007       5    0  \n",
       "b'024052.82-004110.9'     0.000009       5    0  \n",
       "b'024053.68-002900.7'     0.000009       5    0  \n",
       "\n",
       "[5 rows x 84 columns]"
      ]
     },
     "execution_count": 5,
     "metadata": {},
     "output_type": "execute_result"
    }
   ],
   "source": [
    "ens.head(\"object\")"
   ]
  },
  {
   "cell_type": "code",
   "execution_count": 16,
   "metadata": {},
   "outputs": [
    {
     "data": {
      "text/plain": [
       "array([b'024048.22-003429.0', b'024049.96-004044.9',\n",
       "       b'024050.36-003109.0', b'024052.82-004110.9',\n",
       "       b'024053.68-002900.7', b'024055.26-002828.3',\n",
       "       b'024059.92-003735.0', b'024126.71-004526.3',\n",
       "       b'024126.97-003356.8', b'024134.08-002546.0',\n",
       "       b'024135.26-002321.5', b'024136.86-005109.0',\n",
       "       b'024138.78-002830.8', b'024139.00-002210.2',\n",
       "       b'024142.97-001859.0', b'024148.63-005335.9',\n",
       "       b'024151.25-001719.7', b'024151.76-001953.6',\n",
       "       b'024153.67-004816.7', b'024153.91-003430.3',\n",
       "       b'024154.42-004757.6', b'024155.62-003009.1',\n",
       "       b'024158.63-001830.7', b'024200.79-001424.8',\n",
       "       b'024201.84-001532.0', b'024204.58-003835.7',\n",
       "       b'024205.36-004115.7', b'024205.55-002615.1',\n",
       "       b'024205.93-004354.0', b'024207.19-002818.9',\n",
       "       b'024208.00-003214.1', b'024209.54-003055.2',\n",
       "       b'024213.54-004806.8', b'024213.73-002609.5',\n",
       "       b'024214.97-003131.8', b'024217.08-003603.4',\n",
       "       b'024217.95-004208.7', b'024218.92-001150.3',\n",
       "       b'024219.21-001031.5', b'024220.35-003018.5',\n",
       "       b'024220.73-002059.7', b'024221.15-001751.9',\n",
       "       b'024221.36-001448.1', b'024223.99-004401.4',\n",
       "       b'024225.87-004142.6', b'024226.33-005254.9',\n",
       "       b'024228.83-000857.3', b'024231.07-001228.0',\n",
       "       b'024232.09-003151.5', b'024234.93-010351.9',\n",
       "       b'024235.52-003509.8', b'024235.83-001906.0',\n",
       "       b'024235.93-005836.2', b'024242.19-002813.1',\n",
       "       b'024242.51-002212.9', b'024243.91-001800.6',\n",
       "       b'024243.94-002324.3', b'024246.10-010316.9',\n",
       "       b'024247.87-000845.2', b'024247.99-010044.9',\n",
       "       b'024249.54-002304.1', b'024251.72-005822.3',\n",
       "       b'024252.07-000613.0', b'024253.07-001810.9',\n",
       "       b'024255.02-001328.0', b'024255.72-005508.1',\n",
       "       b'024256.93-001558.1', b'024257.20-004549.5',\n",
       "       b'024259.00-001038.3', b'024300.10-004326.3',\n",
       "       b'024300.27-000357.8', b'024300.45-003030.2',\n",
       "       b'024300.83-001055.3', b'024303.29-002319.4',\n",
       "       b'024304.24-004040.7', b'024305.92-004512.5',\n",
       "       b'024306.67-002531.4', b'024308.18-000127.0',\n",
       "       b'024310.91-005850.8', b'024311.71-010928.3',\n",
       "       b'024314.18-010322.5', b'024315.63-002032.3',\n",
       "       b'024315.94-000811.1', b'024315.98-010433.7',\n",
       "       b'024316.62-010142.9', b'024318.04-000729.8',\n",
       "       b'024318.06-004353.9', b'024318.77-000311.1',\n",
       "       b'024319.65-005404.0', b'024320.38-001825.5',\n",
       "       b'024321.81-010812.1', b'024323.84-003712.9',\n",
       "       b'024325.54-000412.7', b'024325.97-003145.2',\n",
       "       b'024326.04-003236.3', b'024326.62-002056.1',\n",
       "       b'024328.22-010352.7', b'024329.03-002138.0',\n",
       "       b'024331.21-010035.7', b'024332.33-001604.9',\n",
       "       b'024333.19-002652.8', b'024335.45-000647.7',\n",
       "       b'024336.45-000658.8', b'024336.54-001616.0',\n",
       "       b'024337.17-002340.2', b'024337.65-001251.4',\n",
       "       b'024338.95-003425.4', b'024339.51-002445.8',\n",
       "       b'024340.11-001749.4', b'024340.59-003801.4',\n",
       "       b'024340.64-004047.0', b'024340.98-002601.1',\n",
       "       b'024341.05-010243.3', b'024344.67-001710.6',\n",
       "       b'024346.51-004716.4', b'024347.11-004949.3',\n",
       "       b'024347.34-005354.9', b'024349.51-000908.1',\n",
       "       b'024350.09-002812.9', b'024355.66-005710.0',\n",
       "       b'024357.92-005447.8', b'024400.10-004657.6',\n",
       "       b'024400.16-003442.5', b'024400.19-003637.9',\n",
       "       b'024402.59-002508.5', b'024402.75-001533.3',\n",
       "       b'024403.20-004815.3', b'024403.50-002140.4',\n",
       "       b'024404.92-003757.1', b'024405.75-001246.5',\n",
       "       b'024410.25-005717.4', b'024411.25-003016.0',\n",
       "       b'024414.04-002346.3', b'024418.74-005044.0',\n",
       "       b'024419.16-003902.7', b'024420.23-004446.3',\n",
       "       b'024420.99-001800.7', b'024425.39-004653.0',\n",
       "       b'024425.91-002952.3', b'024426.85-005440.1',\n",
       "       b'024426.88-003028.4', b'024429.99-005152.7',\n",
       "       b'024431.72-002542.8', b'024432.01-002900.2',\n",
       "       b'024437.62-002135.8', b'024439.73-004257.1',\n",
       "       b'024440.89-003707.3', b'024442.58-002320.4',\n",
       "       b'024442.77-004223.2', b'024448.08-003011.3',\n",
       "       b'024449.54-003111.2', b'024449.75-003859.3',\n",
       "       b'024450.91-003254.5', b'024452.32-003317.8',\n",
       "       b'024455.18-002501.5', b'024458.45-002444.5',\n",
       "       b'024502.61-004541.6', b'024505.04-003442.0',\n",
       "       b'024507.86-003921.3', b'024509.56-003919.2',\n",
       "       b'024514.00-003535.4', b'024514.48-003016.4',\n",
       "       b'024514.93-004101.9', b'024518.79-003323.0',\n",
       "       b'024523.32-003619.0', b'024524.94-004114.6',\n",
       "       b'024538.14-003709.4'], dtype=object)"
      ]
     },
     "execution_count": 16,
     "metadata": {},
     "output_type": "execute_result"
    }
   ],
   "source": [
    "# is this really the best way to get the names of the lightcurves?\n",
    "ts_index= np.unique(ens._object.index.compute())\n",
    "ts_index"
   ]
  },
  {
   "cell_type": "code",
   "execution_count": 17,
   "metadata": {},
   "outputs": [
    {
     "data": {
      "text/plain": [
       "167"
      ]
     },
     "execution_count": 17,
     "metadata": {},
     "output_type": "execute_result"
    }
   ],
   "source": [
    "len(ts_index)"
   ]
  },
  {
   "cell_type": "code",
   "execution_count": 7,
   "metadata": {},
   "outputs": [
    {
     "data": {
      "text/html": [
       "<div>\n",
       "<style scoped>\n",
       "    .dataframe tbody tr th:only-of-type {\n",
       "        vertical-align: middle;\n",
       "    }\n",
       "\n",
       "    .dataframe tbody tr th {\n",
       "        vertical-align: top;\n",
       "    }\n",
       "\n",
       "    .dataframe thead th {\n",
       "        text-align: right;\n",
       "    }\n",
       "</style>\n",
       "<table border=\"1\" class=\"dataframe\">\n",
       "  <thead>\n",
       "    <tr style=\"text-align: right;\">\n",
       "      <th></th>\n",
       "      <th>_hipscat_index</th>\n",
       "      <th>PLATE_dr16q_constant</th>\n",
       "      <th>MJD_dr16q_constant</th>\n",
       "      <th>FIBERID_dr16q_constant</th>\n",
       "      <th>RA_dr16q_constant</th>\n",
       "      <th>DEC_dr16q_constant</th>\n",
       "      <th>OBJID_dr16q_constant</th>\n",
       "      <th>IF_BOSS_SDSS_dr16q_constant</th>\n",
       "      <th>Z_DR16Q_dr16q_constant</th>\n",
       "      <th>SOURCE_Z_DR16Q_dr16q_constant</th>\n",
       "      <th>...</th>\n",
       "      <th>kronFluxErr_ps_source</th>\n",
       "      <th>infoFlag_ps_source</th>\n",
       "      <th>infoFlag2_ps_source</th>\n",
       "      <th>infoFlag3_ps_source</th>\n",
       "      <th>Norder_ps_source</th>\n",
       "      <th>Dir_ps_source</th>\n",
       "      <th>Npix_ps_source</th>\n",
       "      <th>Norder</th>\n",
       "      <th>Dir</th>\n",
       "      <th>provenance</th>\n",
       "    </tr>\n",
       "    <tr>\n",
       "      <th>SDSS_NAME_dr16q_constant</th>\n",
       "      <th></th>\n",
       "      <th></th>\n",
       "      <th></th>\n",
       "      <th></th>\n",
       "      <th></th>\n",
       "      <th></th>\n",
       "      <th></th>\n",
       "      <th></th>\n",
       "      <th></th>\n",
       "      <th></th>\n",
       "      <th></th>\n",
       "      <th></th>\n",
       "      <th></th>\n",
       "      <th></th>\n",
       "      <th></th>\n",
       "      <th></th>\n",
       "      <th></th>\n",
       "      <th></th>\n",
       "      <th></th>\n",
       "      <th></th>\n",
       "      <th></th>\n",
       "    </tr>\n",
       "  </thead>\n",
       "  <tbody>\n",
       "    <tr>\n",
       "      <th>b'024311.71-010928.3'</th>\n",
       "      <td>4.996744e+18</td>\n",
       "      <td>7337.0</td>\n",
       "      <td>56662.0</td>\n",
       "      <td>360.0</td>\n",
       "      <td>40.798814</td>\n",
       "      <td>-1.157879</td>\n",
       "      <td>b'7337-56662-0360'</td>\n",
       "      <td>b'BOSS'</td>\n",
       "      <td>0.778</td>\n",
       "      <td>b'VI'</td>\n",
       "      <td>...</td>\n",
       "      <td>NaN</td>\n",
       "      <td>NaN</td>\n",
       "      <td>NaN</td>\n",
       "      <td>NaN</td>\n",
       "      <td>NaN</td>\n",
       "      <td>NaN</td>\n",
       "      <td>NaN</td>\n",
       "      <td>6</td>\n",
       "      <td>10000</td>\n",
       "      <td>survey_1</td>\n",
       "    </tr>\n",
       "    <tr>\n",
       "      <th>b'024311.71-010928.3'</th>\n",
       "      <td>4.996744e+18</td>\n",
       "      <td>7337.0</td>\n",
       "      <td>56662.0</td>\n",
       "      <td>360.0</td>\n",
       "      <td>40.798814</td>\n",
       "      <td>-1.157879</td>\n",
       "      <td>b'7337-56662-0360'</td>\n",
       "      <td>b'BOSS'</td>\n",
       "      <td>0.778</td>\n",
       "      <td>b'VI'</td>\n",
       "      <td>...</td>\n",
       "      <td>NaN</td>\n",
       "      <td>NaN</td>\n",
       "      <td>NaN</td>\n",
       "      <td>NaN</td>\n",
       "      <td>NaN</td>\n",
       "      <td>NaN</td>\n",
       "      <td>NaN</td>\n",
       "      <td>6</td>\n",
       "      <td>10000</td>\n",
       "      <td>survey_1</td>\n",
       "    </tr>\n",
       "    <tr>\n",
       "      <th>b'024311.71-010928.3'</th>\n",
       "      <td>4.996744e+18</td>\n",
       "      <td>7337.0</td>\n",
       "      <td>56662.0</td>\n",
       "      <td>360.0</td>\n",
       "      <td>40.798814</td>\n",
       "      <td>-1.157879</td>\n",
       "      <td>b'7337-56662-0360'</td>\n",
       "      <td>b'BOSS'</td>\n",
       "      <td>0.778</td>\n",
       "      <td>b'VI'</td>\n",
       "      <td>...</td>\n",
       "      <td>NaN</td>\n",
       "      <td>NaN</td>\n",
       "      <td>NaN</td>\n",
       "      <td>NaN</td>\n",
       "      <td>NaN</td>\n",
       "      <td>NaN</td>\n",
       "      <td>NaN</td>\n",
       "      <td>6</td>\n",
       "      <td>10000</td>\n",
       "      <td>survey_1</td>\n",
       "    </tr>\n",
       "    <tr>\n",
       "      <th>b'024311.71-010928.3'</th>\n",
       "      <td>4.996744e+18</td>\n",
       "      <td>7337.0</td>\n",
       "      <td>56662.0</td>\n",
       "      <td>360.0</td>\n",
       "      <td>40.798814</td>\n",
       "      <td>-1.157879</td>\n",
       "      <td>b'7337-56662-0360'</td>\n",
       "      <td>b'BOSS'</td>\n",
       "      <td>0.778</td>\n",
       "      <td>b'VI'</td>\n",
       "      <td>...</td>\n",
       "      <td>NaN</td>\n",
       "      <td>NaN</td>\n",
       "      <td>NaN</td>\n",
       "      <td>NaN</td>\n",
       "      <td>NaN</td>\n",
       "      <td>NaN</td>\n",
       "      <td>NaN</td>\n",
       "      <td>6</td>\n",
       "      <td>10000</td>\n",
       "      <td>survey_1</td>\n",
       "    </tr>\n",
       "    <tr>\n",
       "      <th>b'024311.71-010928.3'</th>\n",
       "      <td>4.996744e+18</td>\n",
       "      <td>7337.0</td>\n",
       "      <td>56662.0</td>\n",
       "      <td>360.0</td>\n",
       "      <td>40.798814</td>\n",
       "      <td>-1.157879</td>\n",
       "      <td>b'7337-56662-0360'</td>\n",
       "      <td>b'BOSS'</td>\n",
       "      <td>0.778</td>\n",
       "      <td>b'VI'</td>\n",
       "      <td>...</td>\n",
       "      <td>NaN</td>\n",
       "      <td>NaN</td>\n",
       "      <td>NaN</td>\n",
       "      <td>NaN</td>\n",
       "      <td>NaN</td>\n",
       "      <td>NaN</td>\n",
       "      <td>NaN</td>\n",
       "      <td>6</td>\n",
       "      <td>10000</td>\n",
       "      <td>survey_1</td>\n",
       "    </tr>\n",
       "  </tbody>\n",
       "</table>\n",
       "<p>5 rows × 127 columns</p>\n",
       "</div>"
      ],
      "text/plain": [
       "                          _hipscat_index  PLATE_dr16q_constant  \\\n",
       "SDSS_NAME_dr16q_constant                                         \n",
       "b'024311.71-010928.3'       4.996744e+18                7337.0   \n",
       "b'024311.71-010928.3'       4.996744e+18                7337.0   \n",
       "b'024311.71-010928.3'       4.996744e+18                7337.0   \n",
       "b'024311.71-010928.3'       4.996744e+18                7337.0   \n",
       "b'024311.71-010928.3'       4.996744e+18                7337.0   \n",
       "\n",
       "                          MJD_dr16q_constant  FIBERID_dr16q_constant  \\\n",
       "SDSS_NAME_dr16q_constant                                               \n",
       "b'024311.71-010928.3'                56662.0                   360.0   \n",
       "b'024311.71-010928.3'                56662.0                   360.0   \n",
       "b'024311.71-010928.3'                56662.0                   360.0   \n",
       "b'024311.71-010928.3'                56662.0                   360.0   \n",
       "b'024311.71-010928.3'                56662.0                   360.0   \n",
       "\n",
       "                          RA_dr16q_constant  DEC_dr16q_constant  \\\n",
       "SDSS_NAME_dr16q_constant                                          \n",
       "b'024311.71-010928.3'             40.798814           -1.157879   \n",
       "b'024311.71-010928.3'             40.798814           -1.157879   \n",
       "b'024311.71-010928.3'             40.798814           -1.157879   \n",
       "b'024311.71-010928.3'             40.798814           -1.157879   \n",
       "b'024311.71-010928.3'             40.798814           -1.157879   \n",
       "\n",
       "                         OBJID_dr16q_constant IF_BOSS_SDSS_dr16q_constant  \\\n",
       "SDSS_NAME_dr16q_constant                                                    \n",
       "b'024311.71-010928.3'      b'7337-56662-0360'                     b'BOSS'   \n",
       "b'024311.71-010928.3'      b'7337-56662-0360'                     b'BOSS'   \n",
       "b'024311.71-010928.3'      b'7337-56662-0360'                     b'BOSS'   \n",
       "b'024311.71-010928.3'      b'7337-56662-0360'                     b'BOSS'   \n",
       "b'024311.71-010928.3'      b'7337-56662-0360'                     b'BOSS'   \n",
       "\n",
       "                          Z_DR16Q_dr16q_constant  \\\n",
       "SDSS_NAME_dr16q_constant                           \n",
       "b'024311.71-010928.3'                      0.778   \n",
       "b'024311.71-010928.3'                      0.778   \n",
       "b'024311.71-010928.3'                      0.778   \n",
       "b'024311.71-010928.3'                      0.778   \n",
       "b'024311.71-010928.3'                      0.778   \n",
       "\n",
       "                         SOURCE_Z_DR16Q_dr16q_constant  ...  \\\n",
       "SDSS_NAME_dr16q_constant                                ...   \n",
       "b'024311.71-010928.3'                            b'VI'  ...   \n",
       "b'024311.71-010928.3'                            b'VI'  ...   \n",
       "b'024311.71-010928.3'                            b'VI'  ...   \n",
       "b'024311.71-010928.3'                            b'VI'  ...   \n",
       "b'024311.71-010928.3'                            b'VI'  ...   \n",
       "\n",
       "                          kronFluxErr_ps_source  infoFlag_ps_source  \\\n",
       "SDSS_NAME_dr16q_constant                                              \n",
       "b'024311.71-010928.3'                       NaN                 NaN   \n",
       "b'024311.71-010928.3'                       NaN                 NaN   \n",
       "b'024311.71-010928.3'                       NaN                 NaN   \n",
       "b'024311.71-010928.3'                       NaN                 NaN   \n",
       "b'024311.71-010928.3'                       NaN                 NaN   \n",
       "\n",
       "                          infoFlag2_ps_source  infoFlag3_ps_source  \\\n",
       "SDSS_NAME_dr16q_constant                                             \n",
       "b'024311.71-010928.3'                     NaN                  NaN   \n",
       "b'024311.71-010928.3'                     NaN                  NaN   \n",
       "b'024311.71-010928.3'                     NaN                  NaN   \n",
       "b'024311.71-010928.3'                     NaN                  NaN   \n",
       "b'024311.71-010928.3'                     NaN                  NaN   \n",
       "\n",
       "                          Norder_ps_source  Dir_ps_source  Npix_ps_source  \\\n",
       "SDSS_NAME_dr16q_constant                                                    \n",
       "b'024311.71-010928.3'                  NaN            NaN             NaN   \n",
       "b'024311.71-010928.3'                  NaN            NaN             NaN   \n",
       "b'024311.71-010928.3'                  NaN            NaN             NaN   \n",
       "b'024311.71-010928.3'                  NaN            NaN             NaN   \n",
       "b'024311.71-010928.3'                  NaN            NaN             NaN   \n",
       "\n",
       "                          Norder    Dir  provenance  \n",
       "SDSS_NAME_dr16q_constant                             \n",
       "b'024311.71-010928.3'          6  10000    survey_1  \n",
       "b'024311.71-010928.3'          6  10000    survey_1  \n",
       "b'024311.71-010928.3'          6  10000    survey_1  \n",
       "b'024311.71-010928.3'          6  10000    survey_1  \n",
       "b'024311.71-010928.3'          6  10000    survey_1  \n",
       "\n",
       "[5 rows x 127 columns]"
      ]
     },
     "execution_count": 7,
     "metadata": {},
     "output_type": "execute_result"
    }
   ],
   "source": [
    "ens.head(\"source\") "
   ]
  },
  {
   "cell_type": "code",
   "execution_count": 15,
   "metadata": {},
   "outputs": [
    {
     "data": {
      "text/plain": [
       "band  index\n",
       "r     0        58366.50250\n",
       "      1        59166.31593\n",
       "      2        59170.27003\n",
       "      3        59195.19632\n",
       "      4        59521.28617\n",
       "      5        59442.44514\n",
       "      6        59112.42084\n",
       "g     0        59436.44283\n",
       "r     7        58369.42663\n",
       "      8        58371.44575\n",
       "g     1        58375.44731\n",
       "      2        58397.38221\n",
       "      3        58430.31524\n",
       "      4        58749.38692\n",
       "      5        58749.38737\n",
       "      6        58760.45128\n",
       "      7        59081.48417\n",
       "      8        59135.29124\n",
       "      9        59137.41111\n",
       "      10       58349.45902\n",
       "      11       59144.39973\n",
       "      12       59248.12739\n",
       "      13       59254.12851\n",
       "      14       59474.42810\n",
       "      15       59523.34324\n",
       "r     9        58348.46041\n",
       "      10       58352.50843\n",
       "      11       58353.44269\n",
       "      12       58354.44338\n",
       "g     16       59140.40441\n",
       "r     13       59165.32508\n",
       "      14       59145.34495\n",
       "      15       58372.49124\n",
       "      16       59142.36593\n",
       "      17       58377.43352\n",
       "      18       58378.43734\n",
       "      19       58456.25924\n",
       "      20       58514.11359\n",
       "      21       58760.33312\n",
       "      22       58812.29301\n",
       "      23       58375.49029\n",
       "      24       59143.34080\n",
       "      25       59068.43654\n",
       "      26       58872.14004\n",
       "      27       59080.50014\n",
       "      28       59085.48926\n",
       "      29       59115.39437\n",
       "      30       59077.48407\n",
       "NaN   0                NaN\n",
       "      1                NaN\n",
       "      2                NaN\n",
       "      3                NaN\n",
       "Name: mjd_ztf_source, dtype: float64"
      ]
     },
     "execution_count": 15,
     "metadata": {},
     "output_type": "execute_result"
    }
   ],
   "source": [
    "# are the times in order - they are obviously not in the order\n",
    "ts = ens.to_timeseries(b'024311.71-010928.3') # provided a target object id\n",
    "ts.data['mjd_ztf_source']"
   ]
  },
  {
   "cell_type": "code",
   "execution_count": 20,
   "metadata": {},
   "outputs": [
    {
     "name": "stderr",
     "output_type": "stream",
     "text": [
      "WARNING:jax._src.lib.xla_bridge:No GPU/TPU found, falling back to CPU. (Set TF_CPP_MIN_LOG_LEVEL=0 and rerun for more info.)\n",
      "2023-09-09 17:18:11,307 - distributed.worker - WARNING - Compute Failed\n",
      "Key:       ('lambda-83d968c184918b24781cd683cc3f6671', 0)\n",
      "Function:  subgraph_callable-3dfdd043-3141-482d-a34a-16cd9b67\n",
      "args:      ('assign-0262d64bb7516620bf2583ec951eac42',                           _hipscat_index  PLATE_dr16q_constant  ...  Norder    Dir\n",
      "SDSS_NAME_dr16q_constant                                        ...               \n",
      "b'024311.71-010928.3'       4.996744e+18                7337.0  ...       6  10000\n",
      "b'024311.71-010928.3'       4.996744e+18                7337.0  ...       6  10000\n",
      "b'024311.71-010928.3'       4.996744e+18                7337.0  ...       6  10000\n",
      "b'024311.71-010928.3'       4.996744e+18                7337.0  ...       6  10000\n",
      "b'024311.71-010928.3'       4.996744e+18                7337.0  ...       6  10000\n",
      "...                                  ...                   ...  ...     ...    ...\n",
      "b'024332.02+010612.6'                NaN                   NaN  ...     NaN    NaN\n",
      "b'024241.84+010306.7'                NaN                   NaN  ...     NaN    NaN\n",
      "b'024241.52+010446.5'                NaN                   NaN  ...     NaN    NaN\n",
      "b'024300.05+010828.6'                NaN   \n",
      "kwargs:    {}\n",
      "Exception: \"XlaRuntimeError('INTERNAL: Generated function failed: CpuCallback error: ValueError: Input coordinates must be sorted in order to use the QuasisepSolver\\\\n\\\\nAt:\\\\n  /astro/users/ncaplar/github/tinygp_carma/tinygp/src/tinygp/solvers/quasisep/solver.py(142): _check_sorted\\\\n  /astro/users/ncaplar/miniconda3/envs/tiny_lsst/lib/python3.10/site-packages/jax/_src/debugging.py(213): _flat_callback\\\\n  /astro/users/ncaplar/miniconda3/envs/tiny_lsst/lib/python3.10/site-packages/jax/_src/debugging.py(81): debug_callback_impl\\\\n  /astro/users/ncaplar/miniconda3/envs/tiny_lsst/lib/python3.10/site-packages/jax/_src/debugging.py(132): _callback\\\\n  /astro/users/ncaplar/miniconda3/envs/tiny_lsst/lib/python3.10/site-packages/jax/interpreters/mlir.py(1579): _wrapped_callback\\\\n  /astro/users/ncaplar/miniconda3/envs/tiny_lsst/lib/python3.10/site-packages/jax/_src/dispatch.py(890): _execute_compiled\\\\n  /astro/users/ncaplar/miniconda3/envs/tiny_lsst/lib/python3.10/site-packages/jax/_src/api.py(623): cache_miss\\\\n  /astro/users/ncaplar/miniconda3/envs/tiny_lsst/lib/python3.10/site-packages/jax/_src/traceback_util.py(162): reraise_with_filtered_traceback\\\\n  /astro/users/ncaplar/github/JaxPeriodDrwFit/JaxPeriodDrwFit.py(246): optimize_map\\\\n  /astro/users/ncaplar/miniconda3/envs/tiny_lsst/lib/python3.10/site-packages/tape/ensemble.py(749): <lambda>\\\\n  /astro/users/ncaplar/miniconda3/envs/tiny_lsst/lib/python3.10/site-packages/pandas/core/groupby/ops.py(767): apply\\\\n  /astro/users/ncaplar/miniconda3/envs/tiny_lsst/lib/python3.10/site-packages/pandas/core/groupby/groupby.py(1402): _python_apply_general\\\\n  /astro/users/ncaplar/miniconda3/envs/tiny_lsst/lib/python3.10/site-packages/pandas/core/groupby/groupby.py(1353): apply\\\\n  /astro/users/ncaplar/miniconda3/envs/tiny_lsst/lib/python3.10/site-packages/tape/ensemble.py(748): <lambda>\\\\n  /astro/users/ncaplar/miniconda3/envs/tiny_lsst/lib/python3.10/site-packages/dask/dataframe/core.py(7089): apply_and_enforce\\\\n  /astro/users/ncaplar/miniconda3/envs/tiny_lsst/lib/python3.10/site-packages/dask/utils.py(73): apply\\\\n  /astro/users/ncaplar/miniconda3/envs/tiny_lsst/lib/python3.10/site-packages/dask/core.py(121): _execute_task\\\\n  /astro/users/ncaplar/miniconda3/envs/tiny_lsst/lib/python3.10/site-packages/dask/core.py(151): get\\\\n  /astro/users/ncaplar/miniconda3/envs/tiny_lsst/lib/python3.10/site-packages/dask/optimization.py(992): __call__\\\\n  /astro/users/ncaplar/miniconda3/envs/tiny_lsst/lib/python3.10/site-packages/distributed/worker.py(3071): apply_function_simple\\\\n  /astro/users/ncaplar/miniconda3/envs/tiny_lsst/lib/python3.10/site-packages/distributed/worker.py(3035): apply_function\\\\n  /astro/users/ncaplar/miniconda3/envs/tiny_lsst/lib/python3.10/site-packages/distributed/utils.py(1471): <lambda>\\\\n  /astro/users/ncaplar/miniconda3/envs/tiny_lsst/lib/python3.10/site-packages/distributed/_concurrent_futures_thread.py(65): run\\\\n  /astro/users/ncaplar/miniconda3/envs/tiny_lsst/lib/python3.10/site-packages/distributed/threadpoolexecutor.py(57): _worker\\\\n  /astro/users/ncaplar/miniconda3/envs/tiny_lsst/lib/python3.10/threading.py(953): run\\\\n  /astro/users/ncaplar/miniconda3/envs/tiny_lsst/lib/python3.10/threading.py(1016): _bootstrap_inner\\\\n  /astro/users/ncaplar/miniconda3/envs/tiny_lsst/lib/python3.10/threading.py(973): _bootstrap\\\\n')\"\n",
      "\n"
     ]
    },
    {
     "ename": "XlaRuntimeError",
     "evalue": "INTERNAL: Generated function failed: CpuCallback error: ValueError: Input coordinates must be sorted in order to use the QuasisepSolver\n\nAt:\n  /astro/users/ncaplar/github/tinygp_carma/tinygp/src/tinygp/solvers/quasisep/solver.py(142): _check_sorted\n  /astro/users/ncaplar/miniconda3/envs/tiny_lsst/lib/python3.10/site-packages/jax/_src/debugging.py(213): _flat_callback\n  /astro/users/ncaplar/miniconda3/envs/tiny_lsst/lib/python3.10/site-packages/jax/_src/debugging.py(81): debug_callback_impl\n  /astro/users/ncaplar/miniconda3/envs/tiny_lsst/lib/python3.10/site-packages/jax/_src/debugging.py(132): _callback\n  /astro/users/ncaplar/miniconda3/envs/tiny_lsst/lib/python3.10/site-packages/jax/interpreters/mlir.py(1579): _wrapped_callback\n  /astro/users/ncaplar/miniconda3/envs/tiny_lsst/lib/python3.10/site-packages/jax/_src/dispatch.py(890): _execute_compiled\n  /astro/users/ncaplar/miniconda3/envs/tiny_lsst/lib/python3.10/site-packages/jax/_src/api.py(623): cache_miss\n  /astro/users/ncaplar/miniconda3/envs/tiny_lsst/lib/python3.10/site-packages/jax/_src/traceback_util.py(162): reraise_with_filtered_traceback\n  /astro/users/ncaplar/github/JaxPeriodDrwFit/JaxPeriodDrwFit.py(246): optimize_map\n  /astro/users/ncaplar/miniconda3/envs/tiny_lsst/lib/python3.10/site-packages/tape/ensemble.py(749): <lambda>\n  /astro/users/ncaplar/miniconda3/envs/tiny_lsst/lib/python3.10/site-packages/pandas/core/groupby/ops.py(767): apply\n  /astro/users/ncaplar/miniconda3/envs/tiny_lsst/lib/python3.10/site-packages/pandas/core/groupby/groupby.py(1402): _python_apply_general\n  /astro/users/ncaplar/miniconda3/envs/tiny_lsst/lib/python3.10/site-packages/pandas/core/groupby/groupby.py(1353): apply\n  /astro/users/ncaplar/miniconda3/envs/tiny_lsst/lib/python3.10/site-packages/tape/ensemble.py(748): <lambda>\n  /astro/users/ncaplar/miniconda3/envs/tiny_lsst/lib/python3.10/site-packages/dask/dataframe/core.py(7089): apply_and_enforce\n  /astro/users/ncaplar/miniconda3/envs/tiny_lsst/lib/python3.10/site-packages/dask/utils.py(73): apply\n  /astro/users/ncaplar/miniconda3/envs/tiny_lsst/lib/python3.10/site-packages/dask/core.py(121): _execute_task\n  /astro/users/ncaplar/miniconda3/envs/tiny_lsst/lib/python3.10/site-packages/dask/core.py(151): get\n  /astro/users/ncaplar/miniconda3/envs/tiny_lsst/lib/python3.10/site-packages/dask/optimization.py(992): __call__\n  /astro/users/ncaplar/miniconda3/envs/tiny_lsst/lib/python3.10/site-packages/distributed/worker.py(3071): apply_function_simple\n  /astro/users/ncaplar/miniconda3/envs/tiny_lsst/lib/python3.10/site-packages/distributed/worker.py(3035): apply_function\n  /astro/users/ncaplar/miniconda3/envs/tiny_lsst/lib/python3.10/site-packages/distributed/utils.py(1471): <lambda>\n  /astro/users/ncaplar/miniconda3/envs/tiny_lsst/lib/python3.10/site-packages/distributed/_concurrent_futures_thread.py(65): run\n  /astro/users/ncaplar/miniconda3/envs/tiny_lsst/lib/python3.10/site-packages/distributed/threadpoolexecutor.py(57): _worker\n  /astro/users/ncaplar/miniconda3/envs/tiny_lsst/lib/python3.10/threading.py(953): run\n  /astro/users/ncaplar/miniconda3/envs/tiny_lsst/lib/python3.10/threading.py(1016): _bootstrap_inner\n  /astro/users/ncaplar/miniconda3/envs/tiny_lsst/lib/python3.10/threading.py(973): _bootstrap\n",
     "output_type": "error",
     "traceback": [
      "\u001b[0;31m---------------------------------------------------------------------------\u001b[0m",
      "\u001b[0;31mUnfilteredStackTrace\u001b[0m                      Traceback (most recent call last)",
      "File \u001b[0;32m~/miniconda3/envs/tiny_lsst/lib/python3.10/threading.py:973\u001b[0m, in \u001b[0;36m_bootstrap\u001b[0;34m()\u001b[0m\n\u001b[1;32m    972\u001b[0m \u001b[39mtry\u001b[39;00m:\n\u001b[0;32m--> 973\u001b[0m     \u001b[39mself\u001b[39m\u001b[39m.\u001b[39m_bootstrap_inner()\n\u001b[1;32m    974\u001b[0m \u001b[39mexcept\u001b[39;00m:\n",
      "File \u001b[0;32m~/miniconda3/envs/tiny_lsst/lib/python3.10/threading.py:1016\u001b[0m, in \u001b[0;36m_bootstrap_inner\u001b[0;34m()\u001b[0m\n\u001b[1;32m   1015\u001b[0m \u001b[39mtry\u001b[39;00m:\n\u001b[0;32m-> 1016\u001b[0m     \u001b[39mself\u001b[39m\u001b[39m.\u001b[39mrun()\n\u001b[1;32m   1017\u001b[0m \u001b[39mexcept\u001b[39;00m:\n",
      "File \u001b[0;32m~/miniconda3/envs/tiny_lsst/lib/python3.10/threading.py:953\u001b[0m, in \u001b[0;36mrun\u001b[0;34m()\u001b[0m\n\u001b[1;32m    952\u001b[0m     \u001b[39mif\u001b[39;00m \u001b[39mself\u001b[39m\u001b[39m.\u001b[39m_target \u001b[39mis\u001b[39;00m \u001b[39mnot\u001b[39;00m \u001b[39mNone\u001b[39;00m:\n\u001b[0;32m--> 953\u001b[0m         \u001b[39mself\u001b[39m\u001b[39m.\u001b[39m_target(\u001b[39m*\u001b[39m\u001b[39mself\u001b[39m\u001b[39m.\u001b[39m_args, \u001b[39m*\u001b[39m\u001b[39m*\u001b[39m\u001b[39mself\u001b[39m\u001b[39m.\u001b[39m_kwargs)\n\u001b[1;32m    954\u001b[0m \u001b[39mfinally\u001b[39;00m:\n\u001b[1;32m    955\u001b[0m     \u001b[39m# Avoid a refcycle if the thread is running a function with\u001b[39;00m\n\u001b[1;32m    956\u001b[0m     \u001b[39m# an argument that has a member that points to the thread.\u001b[39;00m\n",
      "File \u001b[0;32m~/miniconda3/envs/tiny_lsst/lib/python3.10/site-packages/distributed/threadpoolexecutor.py:57\u001b[0m, in \u001b[0;36m_worker\u001b[0;34m()\u001b[0m\n\u001b[1;32m     56\u001b[0m \u001b[39mif\u001b[39;00m task \u001b[39mis\u001b[39;00m \u001b[39mnot\u001b[39;00m \u001b[39mNone\u001b[39;00m:  \u001b[39m# sentinel\u001b[39;00m\n\u001b[0;32m---> 57\u001b[0m     task\u001b[39m.\u001b[39mrun()\n\u001b[1;32m     58\u001b[0m     \u001b[39mdel\u001b[39;00m task\n",
      "File \u001b[0;32m~/miniconda3/envs/tiny_lsst/lib/python3.10/site-packages/distributed/_concurrent_futures_thread.py:65\u001b[0m, in \u001b[0;36mrun\u001b[0;34m()\u001b[0m\n\u001b[1;32m     64\u001b[0m \u001b[39mtry\u001b[39;00m:\n\u001b[0;32m---> 65\u001b[0m     result \u001b[39m=\u001b[39m \u001b[39mself\u001b[39m\u001b[39m.\u001b[39mfn(\u001b[39m*\u001b[39m\u001b[39mself\u001b[39m\u001b[39m.\u001b[39margs, \u001b[39m*\u001b[39m\u001b[39m*\u001b[39m\u001b[39mself\u001b[39m\u001b[39m.\u001b[39mkwargs)\n\u001b[1;32m     66\u001b[0m \u001b[39mexcept\u001b[39;00m \u001b[39mBaseException\u001b[39;00m \u001b[39mas\u001b[39;00m e:\n",
      "File \u001b[0;32m~/miniconda3/envs/tiny_lsst/lib/python3.10/site-packages/distributed/utils.py:1471\u001b[0m, in \u001b[0;36m<lambda>\u001b[0;34m()\u001b[0m\n\u001b[1;32m   1469\u001b[0m context \u001b[39m=\u001b[39m contextvars\u001b[39m.\u001b[39mcopy_context()\n\u001b[1;32m   1470\u001b[0m \u001b[39mreturn\u001b[39;00m \u001b[39mawait\u001b[39;00m loop\u001b[39m.\u001b[39mrun_in_executor(\n\u001b[0;32m-> 1471\u001b[0m     executor, \u001b[39mlambda\u001b[39;00m: context\u001b[39m.\u001b[39mrun(func, \u001b[39m*\u001b[39margs, \u001b[39m*\u001b[39m\u001b[39m*\u001b[39mkwargs)\n\u001b[1;32m   1472\u001b[0m )\n",
      "File \u001b[0;32m~/miniconda3/envs/tiny_lsst/lib/python3.10/site-packages/distributed/worker.py:3035\u001b[0m, in \u001b[0;36mapply_function\u001b[0;34m()\u001b[0m\n\u001b[1;32m   3034\u001b[0m \u001b[39mtry\u001b[39;00m:\n\u001b[0;32m-> 3035\u001b[0m     msg \u001b[39m=\u001b[39m apply_function_simple(function, args, kwargs, time_delay)\n\u001b[1;32m   3036\u001b[0m \u001b[39mfinally\u001b[39;00m:\n",
      "File \u001b[0;32m~/miniconda3/envs/tiny_lsst/lib/python3.10/site-packages/distributed/worker.py:3071\u001b[0m, in \u001b[0;36mapply_function_simple\u001b[0;34m()\u001b[0m\n\u001b[1;32m   3070\u001b[0m         \u001b[39mwith\u001b[39;00m context_meter\u001b[39m.\u001b[39mmeter(\u001b[39m\"\u001b[39m\u001b[39mthread-cpu\u001b[39m\u001b[39m\"\u001b[39m, func\u001b[39m=\u001b[39mthread_time):\n\u001b[0;32m-> 3071\u001b[0m             result \u001b[39m=\u001b[39m function(\u001b[39m*\u001b[39margs, \u001b[39m*\u001b[39m\u001b[39m*\u001b[39mkwargs)\n\u001b[1;32m   3072\u001b[0m \u001b[39mexcept\u001b[39;00m (\u001b[39mSystemExit\u001b[39;00m, \u001b[39mKeyboardInterrupt\u001b[39;00m):\n\u001b[1;32m   3073\u001b[0m     \u001b[39m# Special-case these, just like asyncio does all over the place. They will pass\u001b[39;00m\n\u001b[1;32m   3074\u001b[0m     \u001b[39m# through `fail_hard` and `_handle_stimulus_from_task`, and eventually be caught\u001b[39;00m\n\u001b[0;32m   (...)\u001b[0m\n\u001b[1;32m   3077\u001b[0m     \u001b[39m# Any other `BaseException` types would ultimately be ignored by asyncio if\u001b[39;00m\n\u001b[1;32m   3078\u001b[0m     \u001b[39m# raised here, after messing up the worker state machine along their way.\u001b[39;00m\n",
      "File \u001b[0;32m~/miniconda3/envs/tiny_lsst/lib/python3.10/site-packages/dask/optimization.py:992\u001b[0m, in \u001b[0;36m__call__\u001b[0;34m()\u001b[0m\n\u001b[1;32m    991\u001b[0m     \u001b[39mraise\u001b[39;00m \u001b[39mValueError\u001b[39;00m(\u001b[39m\"\u001b[39m\u001b[39mExpected \u001b[39m\u001b[39m%d\u001b[39;00m\u001b[39m args, got \u001b[39m\u001b[39m%d\u001b[39;00m\u001b[39m\"\u001b[39m \u001b[39m%\u001b[39m (\u001b[39mlen\u001b[39m(\u001b[39mself\u001b[39m\u001b[39m.\u001b[39minkeys), \u001b[39mlen\u001b[39m(args)))\n\u001b[0;32m--> 992\u001b[0m \u001b[39mreturn\u001b[39;00m core\u001b[39m.\u001b[39mget(\u001b[39mself\u001b[39m\u001b[39m.\u001b[39mdsk, \u001b[39mself\u001b[39m\u001b[39m.\u001b[39moutkey, \u001b[39mdict\u001b[39m(\u001b[39mzip\u001b[39m(\u001b[39mself\u001b[39m\u001b[39m.\u001b[39minkeys, args)))\n",
      "File \u001b[0;32m~/miniconda3/envs/tiny_lsst/lib/python3.10/site-packages/dask/core.py:151\u001b[0m, in \u001b[0;36mget\u001b[0;34m()\u001b[0m\n\u001b[1;32m    150\u001b[0m task \u001b[39m=\u001b[39m dsk[key]\n\u001b[0;32m--> 151\u001b[0m result \u001b[39m=\u001b[39m _execute_task(task, cache)\n\u001b[1;32m    152\u001b[0m cache[key] \u001b[39m=\u001b[39m result\n",
      "File \u001b[0;32m~/miniconda3/envs/tiny_lsst/lib/python3.10/site-packages/dask/core.py:121\u001b[0m, in \u001b[0;36m_execute_task\u001b[0;34m()\u001b[0m\n\u001b[1;32m    118\u001b[0m     \u001b[39m# Note: Don't assign the subtask results to a variable. numpy detects\u001b[39;00m\n\u001b[1;32m    119\u001b[0m     \u001b[39m# temporaries by their reference count and can execute certain\u001b[39;00m\n\u001b[1;32m    120\u001b[0m     \u001b[39m# operations in-place.\u001b[39;00m\n\u001b[0;32m--> 121\u001b[0m     \u001b[39mreturn\u001b[39;00m func(\u001b[39m*\u001b[39m(_execute_task(a, cache) \u001b[39mfor\u001b[39;00m a \u001b[39min\u001b[39;00m args))\n\u001b[1;32m    122\u001b[0m \u001b[39melif\u001b[39;00m \u001b[39mnot\u001b[39;00m ishashable(arg):\n",
      "File \u001b[0;32m~/miniconda3/envs/tiny_lsst/lib/python3.10/site-packages/dask/utils.py:73\u001b[0m, in \u001b[0;36mapply\u001b[0;34m()\u001b[0m\n\u001b[1;32m     72\u001b[0m \u001b[39mif\u001b[39;00m kwargs:\n\u001b[0;32m---> 73\u001b[0m     \u001b[39mreturn\u001b[39;00m func(\u001b[39m*\u001b[39margs, \u001b[39m*\u001b[39m\u001b[39m*\u001b[39mkwargs)\n\u001b[1;32m     74\u001b[0m \u001b[39melse\u001b[39;00m:\n",
      "File \u001b[0;32m~/miniconda3/envs/tiny_lsst/lib/python3.10/site-packages/dask/dataframe/core.py:7089\u001b[0m, in \u001b[0;36mapply_and_enforce\u001b[0;34m()\u001b[0m\n\u001b[1;32m   7088\u001b[0m meta \u001b[39m=\u001b[39m kwargs\u001b[39m.\u001b[39mpop(\u001b[39m\"\u001b[39m\u001b[39m_meta\u001b[39m\u001b[39m\"\u001b[39m)\n\u001b[0;32m-> 7089\u001b[0m df \u001b[39m=\u001b[39m func(\u001b[39m*\u001b[39margs, \u001b[39m*\u001b[39m\u001b[39m*\u001b[39mkwargs)\n\u001b[1;32m   7090\u001b[0m \u001b[39mif\u001b[39;00m is_dataframe_like(df) \u001b[39mor\u001b[39;00m is_series_like(df) \u001b[39mor\u001b[39;00m is_index_like(df):\n",
      "File \u001b[0;32m~/miniconda3/envs/tiny_lsst/lib/python3.10/site-packages/tape/ensemble.py:748\u001b[0m, in \u001b[0;36m<lambda>\u001b[0;34m()\u001b[0m\n\u001b[1;32m    746\u001b[0m     id_col \u001b[39m=\u001b[39m \u001b[39mself\u001b[39m\u001b[39m.\u001b[39m_id_col  \u001b[39m# need to grab this before mapping\u001b[39;00m\n\u001b[1;32m    747\u001b[0m     batch \u001b[39m=\u001b[39m source_to_batch\u001b[39m.\u001b[39mmap_partitions(\n\u001b[0;32m--> 748\u001b[0m         \u001b[39mlambda\u001b[39;00m x: x\u001b[39m.\u001b[39mgroupby(on, group_keys\u001b[39m=\u001b[39m\u001b[39mFalse\u001b[39;00m)\u001b[39m.\u001b[39mapply(\n\u001b[1;32m    749\u001b[0m             \u001b[39mlambda\u001b[39;00m y: func(\n\u001b[1;32m    750\u001b[0m                 \u001b[39m*\u001b[39m[y[arg]\u001b[39m.\u001b[39mto_numpy() \u001b[39mif\u001b[39;00m arg \u001b[39m!=\u001b[39m id_col \u001b[39melse\u001b[39;00m y\u001b[39m.\u001b[39mindex\u001b[39m.\u001b[39mto_numpy() \u001b[39mfor\u001b[39;00m arg \u001b[39min\u001b[39;00m args],\n\u001b[1;32m    751\u001b[0m                 \u001b[39m*\u001b[39m\u001b[39m*\u001b[39mkwargs,\n\u001b[1;32m    752\u001b[0m             )\n\u001b[1;32m    753\u001b[0m         ),\n\u001b[1;32m    754\u001b[0m         meta\u001b[39m=\u001b[39mmeta,\n\u001b[1;32m    755\u001b[0m     )\n\u001b[1;32m    756\u001b[0m \u001b[39melse\u001b[39;00m:  \u001b[39m# use groupby\u001b[39;00m\n",
      "File \u001b[0;32m~/miniconda3/envs/tiny_lsst/lib/python3.10/site-packages/pandas/core/groupby/groupby.py:1353\u001b[0m, in \u001b[0;36mapply\u001b[0;34m()\u001b[0m\n\u001b[1;32m   1352\u001b[0m \u001b[39mtry\u001b[39;00m:\n\u001b[0;32m-> 1353\u001b[0m     result \u001b[39m=\u001b[39m \u001b[39mself\u001b[39m\u001b[39m.\u001b[39m_python_apply_general(f, \u001b[39mself\u001b[39m\u001b[39m.\u001b[39m_selected_obj)\n\u001b[1;32m   1354\u001b[0m \u001b[39mexcept\u001b[39;00m \u001b[39mTypeError\u001b[39;00m:\n\u001b[1;32m   1355\u001b[0m     \u001b[39m# gh-20949\u001b[39;00m\n\u001b[1;32m   1356\u001b[0m     \u001b[39m# try again, with .apply acting as a filtering\u001b[39;00m\n\u001b[0;32m   (...)\u001b[0m\n\u001b[1;32m   1360\u001b[0m     \u001b[39m# fails on *some* columns, e.g. a numeric operation\u001b[39;00m\n\u001b[1;32m   1361\u001b[0m     \u001b[39m# on a string grouper column\u001b[39;00m\n",
      "File \u001b[0;32m~/miniconda3/envs/tiny_lsst/lib/python3.10/site-packages/pandas/core/groupby/groupby.py:1402\u001b[0m, in \u001b[0;36m_python_apply_general\u001b[0;34m()\u001b[0m\n\u001b[1;32m   1376\u001b[0m \u001b[39m\u001b[39m\u001b[39m\"\"\"\u001b[39;00m\n\u001b[1;32m   1377\u001b[0m \u001b[39mApply function f in python space\u001b[39;00m\n\u001b[1;32m   1378\u001b[0m \n\u001b[0;32m   (...)\u001b[0m\n\u001b[1;32m   1400\u001b[0m \u001b[39m    data after applying f\u001b[39;00m\n\u001b[1;32m   1401\u001b[0m \u001b[39m\"\"\"\u001b[39;00m\n\u001b[0;32m-> 1402\u001b[0m values, mutated \u001b[39m=\u001b[39m \u001b[39mself\u001b[39m\u001b[39m.\u001b[39mgrouper\u001b[39m.\u001b[39mapply(f, data, \u001b[39mself\u001b[39m\u001b[39m.\u001b[39maxis)\n\u001b[1;32m   1403\u001b[0m \u001b[39mif\u001b[39;00m not_indexed_same \u001b[39mis\u001b[39;00m \u001b[39mNone\u001b[39;00m:\n",
      "File \u001b[0;32m~/miniconda3/envs/tiny_lsst/lib/python3.10/site-packages/pandas/core/groupby/ops.py:767\u001b[0m, in \u001b[0;36mapply\u001b[0;34m()\u001b[0m\n\u001b[1;32m    766\u001b[0m group_axes \u001b[39m=\u001b[39m group\u001b[39m.\u001b[39maxes\n\u001b[0;32m--> 767\u001b[0m res \u001b[39m=\u001b[39m f(group)\n\u001b[1;32m    768\u001b[0m \u001b[39mif\u001b[39;00m \u001b[39mnot\u001b[39;00m mutated \u001b[39mand\u001b[39;00m \u001b[39mnot\u001b[39;00m _is_indexed_like(res, group_axes, axis):\n",
      "File \u001b[0;32m~/miniconda3/envs/tiny_lsst/lib/python3.10/site-packages/tape/ensemble.py:749\u001b[0m, in \u001b[0;36m<lambda>\u001b[0;34m()\u001b[0m\n\u001b[1;32m    746\u001b[0m     id_col \u001b[39m=\u001b[39m \u001b[39mself\u001b[39m\u001b[39m.\u001b[39m_id_col  \u001b[39m# need to grab this before mapping\u001b[39;00m\n\u001b[1;32m    747\u001b[0m     batch \u001b[39m=\u001b[39m source_to_batch\u001b[39m.\u001b[39mmap_partitions(\n\u001b[1;32m    748\u001b[0m         \u001b[39mlambda\u001b[39;00m x: x\u001b[39m.\u001b[39mgroupby(on, group_keys\u001b[39m=\u001b[39m\u001b[39mFalse\u001b[39;00m)\u001b[39m.\u001b[39mapply(\n\u001b[0;32m--> 749\u001b[0m             \u001b[39mlambda\u001b[39;00m y: func(\n\u001b[1;32m    750\u001b[0m                 \u001b[39m*\u001b[39m[y[arg]\u001b[39m.\u001b[39mto_numpy() \u001b[39mif\u001b[39;00m arg \u001b[39m!=\u001b[39m id_col \u001b[39melse\u001b[39;00m y\u001b[39m.\u001b[39mindex\u001b[39m.\u001b[39mto_numpy() \u001b[39mfor\u001b[39;00m arg \u001b[39min\u001b[39;00m args],\n\u001b[1;32m    751\u001b[0m                 \u001b[39m*\u001b[39m\u001b[39m*\u001b[39mkwargs,\n\u001b[1;32m    752\u001b[0m             )\n\u001b[1;32m    753\u001b[0m         ),\n\u001b[1;32m    754\u001b[0m         meta\u001b[39m=\u001b[39mmeta,\n\u001b[1;32m    755\u001b[0m     )\n\u001b[1;32m    756\u001b[0m \u001b[39melse\u001b[39;00m:  \u001b[39m# use groupby\u001b[39;00m\n",
      "File \u001b[0;32m~/github/JaxPeriodDrwFit/JaxPeriodDrwFit.py:246\u001b[0m, in \u001b[0;36moptimize_map\u001b[0;34m()\u001b[0m\n\u001b[1;32m    245\u001b[0m soln_res_map \u001b[39m=\u001b[39m \u001b[39mmap\u001b[39m(partial_optimize, theta_init_matrix)\n\u001b[0;32m--> 246\u001b[0m many_init_res \u001b[39m=\u001b[39m \u001b[39mlist\u001b[39m(soln_res_map)\n\u001b[1;32m    247\u001b[0m \u001b[39m# transforms jax outputs to single numpy array\u001b[39;00m\n",
      "File \u001b[0;32m~/miniconda3/envs/tiny_lsst/lib/python3.10/site-packages/jax/_src/traceback_util.py:162\u001b[0m, in \u001b[0;36mreraise_with_filtered_traceback\u001b[0;34m()\u001b[0m\n\u001b[1;32m    161\u001b[0m \u001b[39mtry\u001b[39;00m:\n\u001b[0;32m--> 162\u001b[0m   \u001b[39mreturn\u001b[39;00m fun(\u001b[39m*\u001b[39margs, \u001b[39m*\u001b[39m\u001b[39m*\u001b[39mkwargs)\n\u001b[1;32m    163\u001b[0m \u001b[39mexcept\u001b[39;00m \u001b[39mException\u001b[39;00m \u001b[39mas\u001b[39;00m e:\n",
      "File \u001b[0;32m~/miniconda3/envs/tiny_lsst/lib/python3.10/site-packages/jax/_src/api.py:623\u001b[0m, in \u001b[0;36mcache_miss\u001b[0;34m()\u001b[0m\n\u001b[1;32m    622\u001b[0m   execute \u001b[39m=\u001b[39m dispatch\u001b[39m.\u001b[39m_xla_call_impl_lazy(fun_, \u001b[39m*\u001b[39mtracers, \u001b[39m*\u001b[39m\u001b[39m*\u001b[39mparams)\n\u001b[0;32m--> 623\u001b[0m   out_flat \u001b[39m=\u001b[39m call_bind_continuation(execute(\u001b[39m*\u001b[39margs_flat))\n\u001b[1;32m    624\u001b[0m \u001b[39melse\u001b[39;00m:\n",
      "File \u001b[0;32m~/miniconda3/envs/tiny_lsst/lib/python3.10/site-packages/jax/_src/dispatch.py:890\u001b[0m, in \u001b[0;36m_execute_compiled\u001b[0;34m()\u001b[0m\n\u001b[1;32m    889\u001b[0m \u001b[39mif\u001b[39;00m can_execute_with_token:\n\u001b[0;32m--> 890\u001b[0m   out_flat, runtime_token \u001b[39m=\u001b[39m compiled\u001b[39m.\u001b[39mexecute_with_token(in_flat)\n\u001b[1;32m    891\u001b[0m \u001b[39melse\u001b[39;00m:\n",
      "\u001b[0;31mUnfilteredStackTrace\u001b[0m: jaxlib.xla_extension.XlaRuntimeError: INTERNAL: Generated function failed: CpuCallback error: ValueError: Input coordinates must be sorted in order to use the QuasisepSolver\n\nAt:\n  /astro/users/ncaplar/github/tinygp_carma/tinygp/src/tinygp/solvers/quasisep/solver.py(142): _check_sorted\n  /astro/users/ncaplar/miniconda3/envs/tiny_lsst/lib/python3.10/site-packages/jax/_src/debugging.py(213): _flat_callback\n  /astro/users/ncaplar/miniconda3/envs/tiny_lsst/lib/python3.10/site-packages/jax/_src/debugging.py(81): debug_callback_impl\n  /astro/users/ncaplar/miniconda3/envs/tiny_lsst/lib/python3.10/site-packages/jax/_src/debugging.py(132): _callback\n  /astro/users/ncaplar/miniconda3/envs/tiny_lsst/lib/python3.10/site-packages/jax/interpreters/mlir.py(1579): _wrapped_callback\n  /astro/users/ncaplar/miniconda3/envs/tiny_lsst/lib/python3.10/site-packages/jax/_src/dispatch.py(890): _execute_compiled\n  /astro/users/ncaplar/miniconda3/envs/tiny_lsst/lib/python3.10/site-packages/jax/_src/api.py(623): cache_miss\n  /astro/users/ncaplar/miniconda3/envs/tiny_lsst/lib/python3.10/site-packages/jax/_src/traceback_util.py(162): reraise_with_filtered_traceback\n  /astro/users/ncaplar/github/JaxPeriodDrwFit/JaxPeriodDrwFit.py(246): optimize_map\n  /astro/users/ncaplar/miniconda3/envs/tiny_lsst/lib/python3.10/site-packages/tape/ensemble.py(749): <lambda>\n  /astro/users/ncaplar/miniconda3/envs/tiny_lsst/lib/python3.10/site-packages/pandas/core/groupby/ops.py(767): apply\n  /astro/users/ncaplar/miniconda3/envs/tiny_lsst/lib/python3.10/site-packages/pandas/core/groupby/groupby.py(1402): _python_apply_general\n  /astro/users/ncaplar/miniconda3/envs/tiny_lsst/lib/python3.10/site-packages/pandas/core/groupby/groupby.py(1353): apply\n  /astro/users/ncaplar/miniconda3/envs/tiny_lsst/lib/python3.10/site-packages/tape/ensemble.py(748): <lambda>\n  /astro/users/ncaplar/miniconda3/envs/tiny_lsst/lib/python3.10/site-packages/dask/dataframe/core.py(7089): apply_and_enforce\n  /astro/users/ncaplar/miniconda3/envs/tiny_lsst/lib/python3.10/site-packages/dask/utils.py(73): apply\n  /astro/users/ncaplar/miniconda3/envs/tiny_lsst/lib/python3.10/site-packages/dask/core.py(121): _execute_task\n  /astro/users/ncaplar/miniconda3/envs/tiny_lsst/lib/python3.10/site-packages/dask/core.py(151): get\n  /astro/users/ncaplar/miniconda3/envs/tiny_lsst/lib/python3.10/site-packages/dask/optimization.py(992): __call__\n  /astro/users/ncaplar/miniconda3/envs/tiny_lsst/lib/python3.10/site-packages/distributed/worker.py(3071): apply_function_simple\n  /astro/users/ncaplar/miniconda3/envs/tiny_lsst/lib/python3.10/site-packages/distributed/worker.py(3035): apply_function\n  /astro/users/ncaplar/miniconda3/envs/tiny_lsst/lib/python3.10/site-packages/distributed/utils.py(1471): <lambda>\n  /astro/users/ncaplar/miniconda3/envs/tiny_lsst/lib/python3.10/site-packages/distributed/_concurrent_futures_thread.py(65): run\n  /astro/users/ncaplar/miniconda3/envs/tiny_lsst/lib/python3.10/site-packages/distributed/threadpoolexecutor.py(57): _worker\n  /astro/users/ncaplar/miniconda3/envs/tiny_lsst/lib/python3.10/threading.py(953): run\n  /astro/users/ncaplar/miniconda3/envs/tiny_lsst/lib/python3.10/threading.py(1016): _bootstrap_inner\n  /astro/users/ncaplar/miniconda3/envs/tiny_lsst/lib/python3.10/threading.py(973): _bootstrap\n\nThe stack trace below excludes JAX-internal frames.\nThe preceding is the original exception that occurred, unmodified.\n\n--------------------",
      "\nThe above exception was the direct cause of the following exception:\n",
      "\u001b[0;31mXlaRuntimeError\u001b[0m                           Traceback (most recent call last)",
      "\u001b[1;32m/astro/users/ncaplar/github/JaxPeriodDrwFit/Drw_per_i.ipynb Cell 62\u001b[0m line \u001b[0;36m2\n\u001b[1;32m      <a href='vscode-notebook-cell://ssh-remote%2Bbaldur/astro/users/ncaplar/github/JaxPeriodDrwFit/Drw_per_i.ipynb#Y131sdnNjb2RlLXJlbW90ZQ%3D%3D?line=0'>1</a>\u001b[0m JaxPeriodDrwFit_instance \u001b[39m=\u001b[39m JaxPeriodDrwFit\u001b[39m.\u001b[39mJaxPeriodDrwFit()\n\u001b[0;32m----> <a href='vscode-notebook-cell://ssh-remote%2Bbaldur/astro/users/ncaplar/github/JaxPeriodDrwFit/Drw_per_i.ipynb#Y131sdnNjb2RlLXJlbW90ZQ%3D%3D?line=1'>2</a>\u001b[0m res \u001b[39m=\u001b[39m ens\u001b[39m.\u001b[39;49mbatch(JaxPeriodDrwFit_instance\u001b[39m.\u001b[39;49moptimize_map, \u001b[39m'\u001b[39;49m\u001b[39mmjd_ztf_source\u001b[39;49m\u001b[39m'\u001b[39;49m, \u001b[39m\"\u001b[39;49m\u001b[39mmag_ztf_source\u001b[39;49m\u001b[39m\"\u001b[39;49m, \u001b[39m\"\u001b[39;49m\u001b[39mmagerr_ztf_source\u001b[39;49m\u001b[39m\"\u001b[39;49m,\n\u001b[1;32m      <a href='vscode-notebook-cell://ssh-remote%2Bbaldur/astro/users/ncaplar/github/JaxPeriodDrwFit/Drw_per_i.ipynb#Y131sdnNjb2RlLXJlbW90ZQ%3D%3D?line=2'>3</a>\u001b[0m                 compute\u001b[39m=\u001b[39;49m\u001b[39mTrue\u001b[39;49;00m, meta\u001b[39m=\u001b[39;49m\u001b[39mNone\u001b[39;49;00m, n_init\u001b[39m=\u001b[39;49m\u001b[39m100\u001b[39;49m)\n",
      "File \u001b[0;32m~/miniconda3/envs/tiny_lsst/lib/python3.10/site-packages/tape/ensemble.py:765\u001b[0m, in \u001b[0;36mEnsemble.batch\u001b[0;34m(self, func, meta, use_map, compute, on, *args, **kwargs)\u001b[0m\n\u001b[1;32m    757\u001b[0m     batch \u001b[39m=\u001b[39m source_to_batch\u001b[39m.\u001b[39mgroupby(on, group_keys\u001b[39m=\u001b[39m\u001b[39mFalse\u001b[39;00m)\u001b[39m.\u001b[39mapply(\n\u001b[1;32m    758\u001b[0m         \u001b[39mlambda\u001b[39;00m x: func(\n\u001b[1;32m    759\u001b[0m             \u001b[39m*\u001b[39m[x[arg]\u001b[39m.\u001b[39mto_numpy() \u001b[39mif\u001b[39;00m arg \u001b[39m!=\u001b[39m id_col \u001b[39melse\u001b[39;00m x\u001b[39m.\u001b[39mindex\u001b[39m.\u001b[39mto_numpy() \u001b[39mfor\u001b[39;00m arg \u001b[39min\u001b[39;00m args], \u001b[39m*\u001b[39m\u001b[39m*\u001b[39mkwargs\n\u001b[1;32m    760\u001b[0m         ),\n\u001b[1;32m    761\u001b[0m         meta\u001b[39m=\u001b[39mmeta,\n\u001b[1;32m    762\u001b[0m     )\n\u001b[1;32m    764\u001b[0m \u001b[39mif\u001b[39;00m compute:\n\u001b[0;32m--> 765\u001b[0m     \u001b[39mreturn\u001b[39;00m batch\u001b[39m.\u001b[39;49mcompute()\n\u001b[1;32m    766\u001b[0m \u001b[39melse\u001b[39;00m:\n\u001b[1;32m    767\u001b[0m     \u001b[39mreturn\u001b[39;00m batch\n",
      "File \u001b[0;32m~/miniconda3/envs/tiny_lsst/lib/python3.10/site-packages/dask/base.py:310\u001b[0m, in \u001b[0;36mDaskMethodsMixin.compute\u001b[0;34m(self, **kwargs)\u001b[0m\n\u001b[1;32m    286\u001b[0m \u001b[39mdef\u001b[39;00m \u001b[39mcompute\u001b[39m(\u001b[39mself\u001b[39m, \u001b[39m*\u001b[39m\u001b[39m*\u001b[39mkwargs):\n\u001b[1;32m    287\u001b[0m \u001b[39m    \u001b[39m\u001b[39m\"\"\"Compute this dask collection\u001b[39;00m\n\u001b[1;32m    288\u001b[0m \n\u001b[1;32m    289\u001b[0m \u001b[39m    This turns a lazy Dask collection into its in-memory equivalent.\u001b[39;00m\n\u001b[0;32m   (...)\u001b[0m\n\u001b[1;32m    308\u001b[0m \u001b[39m    dask.compute\u001b[39;00m\n\u001b[1;32m    309\u001b[0m \u001b[39m    \"\"\"\u001b[39;00m\n\u001b[0;32m--> 310\u001b[0m     (result,) \u001b[39m=\u001b[39m compute(\u001b[39mself\u001b[39;49m, traverse\u001b[39m=\u001b[39;49m\u001b[39mFalse\u001b[39;49;00m, \u001b[39m*\u001b[39;49m\u001b[39m*\u001b[39;49mkwargs)\n\u001b[1;32m    311\u001b[0m     \u001b[39mreturn\u001b[39;00m result\n",
      "File \u001b[0;32m~/miniconda3/envs/tiny_lsst/lib/python3.10/site-packages/dask/base.py:595\u001b[0m, in \u001b[0;36mcompute\u001b[0;34m(traverse, optimize_graph, scheduler, get, *args, **kwargs)\u001b[0m\n\u001b[1;32m    592\u001b[0m     keys\u001b[39m.\u001b[39mappend(x\u001b[39m.\u001b[39m__dask_keys__())\n\u001b[1;32m    593\u001b[0m     postcomputes\u001b[39m.\u001b[39mappend(x\u001b[39m.\u001b[39m__dask_postcompute__())\n\u001b[0;32m--> 595\u001b[0m results \u001b[39m=\u001b[39m schedule(dsk, keys, \u001b[39m*\u001b[39;49m\u001b[39m*\u001b[39;49mkwargs)\n\u001b[1;32m    596\u001b[0m \u001b[39mreturn\u001b[39;00m repack([f(r, \u001b[39m*\u001b[39ma) \u001b[39mfor\u001b[39;00m r, (f, a) \u001b[39min\u001b[39;00m \u001b[39mzip\u001b[39m(results, postcomputes)])\n",
      "File \u001b[0;32m~/miniconda3/envs/tiny_lsst/lib/python3.10/site-packages/distributed/client.py:3243\u001b[0m, in \u001b[0;36mClient.get\u001b[0;34m(self, dsk, keys, workers, allow_other_workers, resources, sync, asynchronous, direct, retries, priority, fifo_timeout, actors, **kwargs)\u001b[0m\n\u001b[1;32m   3241\u001b[0m         should_rejoin \u001b[39m=\u001b[39m \u001b[39mFalse\u001b[39;00m\n\u001b[1;32m   3242\u001b[0m \u001b[39mtry\u001b[39;00m:\n\u001b[0;32m-> 3243\u001b[0m     results \u001b[39m=\u001b[39m \u001b[39mself\u001b[39;49m\u001b[39m.\u001b[39;49mgather(packed, asynchronous\u001b[39m=\u001b[39;49masynchronous, direct\u001b[39m=\u001b[39;49mdirect)\n\u001b[1;32m   3244\u001b[0m \u001b[39mfinally\u001b[39;00m:\n\u001b[1;32m   3245\u001b[0m     \u001b[39mfor\u001b[39;00m f \u001b[39min\u001b[39;00m futures\u001b[39m.\u001b[39mvalues():\n",
      "File \u001b[0;32m~/miniconda3/envs/tiny_lsst/lib/python3.10/site-packages/distributed/client.py:2368\u001b[0m, in \u001b[0;36mClient.gather\u001b[0;34m(self, futures, errors, direct, asynchronous)\u001b[0m\n\u001b[1;32m   2366\u001b[0m \u001b[39mexcept\u001b[39;00m \u001b[39mValueError\u001b[39;00m:\n\u001b[1;32m   2367\u001b[0m     local_worker \u001b[39m=\u001b[39m \u001b[39mNone\u001b[39;00m\n\u001b[0;32m-> 2368\u001b[0m \u001b[39mreturn\u001b[39;00m \u001b[39mself\u001b[39;49m\u001b[39m.\u001b[39;49msync(\n\u001b[1;32m   2369\u001b[0m     \u001b[39mself\u001b[39;49m\u001b[39m.\u001b[39;49m_gather,\n\u001b[1;32m   2370\u001b[0m     futures,\n\u001b[1;32m   2371\u001b[0m     errors\u001b[39m=\u001b[39;49merrors,\n\u001b[1;32m   2372\u001b[0m     direct\u001b[39m=\u001b[39;49mdirect,\n\u001b[1;32m   2373\u001b[0m     local_worker\u001b[39m=\u001b[39;49mlocal_worker,\n\u001b[1;32m   2374\u001b[0m     asynchronous\u001b[39m=\u001b[39;49masynchronous,\n\u001b[1;32m   2375\u001b[0m )\n",
      "File \u001b[0;32m~/miniconda3/envs/tiny_lsst/lib/python3.10/site-packages/distributed/utils.py:351\u001b[0m, in \u001b[0;36mSyncMethodMixin.sync\u001b[0;34m(self, func, asynchronous, callback_timeout, *args, **kwargs)\u001b[0m\n\u001b[1;32m    349\u001b[0m     \u001b[39mreturn\u001b[39;00m future\n\u001b[1;32m    350\u001b[0m \u001b[39melse\u001b[39;00m:\n\u001b[0;32m--> 351\u001b[0m     \u001b[39mreturn\u001b[39;00m sync(\n\u001b[1;32m    352\u001b[0m         \u001b[39mself\u001b[39;49m\u001b[39m.\u001b[39;49mloop, func, \u001b[39m*\u001b[39;49margs, callback_timeout\u001b[39m=\u001b[39;49mcallback_timeout, \u001b[39m*\u001b[39;49m\u001b[39m*\u001b[39;49mkwargs\n\u001b[1;32m    353\u001b[0m     )\n",
      "File \u001b[0;32m~/miniconda3/envs/tiny_lsst/lib/python3.10/site-packages/distributed/utils.py:418\u001b[0m, in \u001b[0;36msync\u001b[0;34m(loop, func, callback_timeout, *args, **kwargs)\u001b[0m\n\u001b[1;32m    416\u001b[0m \u001b[39mif\u001b[39;00m error:\n\u001b[1;32m    417\u001b[0m     typ, exc, tb \u001b[39m=\u001b[39m error\n\u001b[0;32m--> 418\u001b[0m     \u001b[39mraise\u001b[39;00m exc\u001b[39m.\u001b[39mwith_traceback(tb)\n\u001b[1;32m    419\u001b[0m \u001b[39melse\u001b[39;00m:\n\u001b[1;32m    420\u001b[0m     \u001b[39mreturn\u001b[39;00m result\n",
      "File \u001b[0;32m~/miniconda3/envs/tiny_lsst/lib/python3.10/site-packages/distributed/utils.py:391\u001b[0m, in \u001b[0;36msync.<locals>.f\u001b[0;34m()\u001b[0m\n\u001b[1;32m    389\u001b[0m         future \u001b[39m=\u001b[39m wait_for(future, callback_timeout)\n\u001b[1;32m    390\u001b[0m     future \u001b[39m=\u001b[39m asyncio\u001b[39m.\u001b[39mensure_future(future)\n\u001b[0;32m--> 391\u001b[0m     result \u001b[39m=\u001b[39m \u001b[39myield\u001b[39;00m future\n\u001b[1;32m    392\u001b[0m \u001b[39mexcept\u001b[39;00m \u001b[39mException\u001b[39;00m:\n\u001b[1;32m    393\u001b[0m     error \u001b[39m=\u001b[39m sys\u001b[39m.\u001b[39mexc_info()\n",
      "File \u001b[0;32m~/miniconda3/envs/tiny_lsst/lib/python3.10/site-packages/tornado/gen.py:769\u001b[0m, in \u001b[0;36mRunner.run\u001b[0;34m(self)\u001b[0m\n\u001b[1;32m    766\u001b[0m exc_info \u001b[39m=\u001b[39m \u001b[39mNone\u001b[39;00m\n\u001b[1;32m    768\u001b[0m \u001b[39mtry\u001b[39;00m:\n\u001b[0;32m--> 769\u001b[0m     value \u001b[39m=\u001b[39m future\u001b[39m.\u001b[39;49mresult()\n\u001b[1;32m    770\u001b[0m \u001b[39mexcept\u001b[39;00m \u001b[39mException\u001b[39;00m:\n\u001b[1;32m    771\u001b[0m     exc_info \u001b[39m=\u001b[39m sys\u001b[39m.\u001b[39mexc_info()\n",
      "File \u001b[0;32m~/miniconda3/envs/tiny_lsst/lib/python3.10/site-packages/distributed/client.py:2231\u001b[0m, in \u001b[0;36mClient._gather\u001b[0;34m(self, futures, errors, direct, local_worker)\u001b[0m\n\u001b[1;32m   2229\u001b[0m         exc \u001b[39m=\u001b[39m CancelledError(key)\n\u001b[1;32m   2230\u001b[0m     \u001b[39melse\u001b[39;00m:\n\u001b[0;32m-> 2231\u001b[0m         \u001b[39mraise\u001b[39;00m exception\u001b[39m.\u001b[39mwith_traceback(traceback)\n\u001b[1;32m   2232\u001b[0m     \u001b[39mraise\u001b[39;00m exc\n\u001b[1;32m   2233\u001b[0m \u001b[39mif\u001b[39;00m errors \u001b[39m==\u001b[39m \u001b[39m\"\u001b[39m\u001b[39mskip\u001b[39m\u001b[39m\"\u001b[39m:\n",
      "File \u001b[0;32m~/miniconda3/envs/tiny_lsst/lib/python3.10/site-packages/dask/optimization.py:992\u001b[0m, in \u001b[0;36m__call__\u001b[0;34m()\u001b[0m\n\u001b[1;32m    990\u001b[0m \u001b[39mif\u001b[39;00m \u001b[39mnot\u001b[39;00m \u001b[39mlen\u001b[39m(args) \u001b[39m==\u001b[39m \u001b[39mlen\u001b[39m(\u001b[39mself\u001b[39m\u001b[39m.\u001b[39minkeys):\n\u001b[1;32m    991\u001b[0m     \u001b[39mraise\u001b[39;00m \u001b[39mValueError\u001b[39;00m(\u001b[39m\"\u001b[39m\u001b[39mExpected \u001b[39m\u001b[39m%d\u001b[39;00m\u001b[39m args, got \u001b[39m\u001b[39m%d\u001b[39;00m\u001b[39m\"\u001b[39m \u001b[39m%\u001b[39m (\u001b[39mlen\u001b[39m(\u001b[39mself\u001b[39m\u001b[39m.\u001b[39minkeys), \u001b[39mlen\u001b[39m(args)))\n\u001b[0;32m--> 992\u001b[0m \u001b[39mreturn\u001b[39;00m core\u001b[39m.\u001b[39mget(\u001b[39mself\u001b[39m\u001b[39m.\u001b[39mdsk, \u001b[39mself\u001b[39m\u001b[39m.\u001b[39moutkey, \u001b[39mdict\u001b[39m(\u001b[39mzip\u001b[39m(\u001b[39mself\u001b[39m\u001b[39m.\u001b[39minkeys, args)))\n",
      "File \u001b[0;32m~/miniconda3/envs/tiny_lsst/lib/python3.10/site-packages/dask/core.py:151\u001b[0m, in \u001b[0;36mget\u001b[0;34m()\u001b[0m\n\u001b[1;32m    149\u001b[0m \u001b[39mfor\u001b[39;00m key \u001b[39min\u001b[39;00m toposort(dsk):\n\u001b[1;32m    150\u001b[0m     task \u001b[39m=\u001b[39m dsk[key]\n\u001b[0;32m--> 151\u001b[0m     result \u001b[39m=\u001b[39m _execute_task(task, cache)\n\u001b[1;32m    152\u001b[0m     cache[key] \u001b[39m=\u001b[39m result\n\u001b[1;32m    153\u001b[0m result \u001b[39m=\u001b[39m _execute_task(out, cache)\n",
      "File \u001b[0;32m~/miniconda3/envs/tiny_lsst/lib/python3.10/site-packages/dask/core.py:121\u001b[0m, in \u001b[0;36m_execute_task\u001b[0;34m()\u001b[0m\n\u001b[1;32m    117\u001b[0m     func, args \u001b[39m=\u001b[39m arg[\u001b[39m0\u001b[39m], arg[\u001b[39m1\u001b[39m:]\n\u001b[1;32m    118\u001b[0m     \u001b[39m# Note: Don't assign the subtask results to a variable. numpy detects\u001b[39;00m\n\u001b[1;32m    119\u001b[0m     \u001b[39m# temporaries by their reference count and can execute certain\u001b[39;00m\n\u001b[1;32m    120\u001b[0m     \u001b[39m# operations in-place.\u001b[39;00m\n\u001b[0;32m--> 121\u001b[0m     \u001b[39mreturn\u001b[39;00m func(\u001b[39m*\u001b[39m(_execute_task(a, cache) \u001b[39mfor\u001b[39;00m a \u001b[39min\u001b[39;00m args))\n\u001b[1;32m    122\u001b[0m \u001b[39melif\u001b[39;00m \u001b[39mnot\u001b[39;00m ishashable(arg):\n\u001b[1;32m    123\u001b[0m     \u001b[39mreturn\u001b[39;00m arg\n",
      "File \u001b[0;32m~/miniconda3/envs/tiny_lsst/lib/python3.10/site-packages/dask/utils.py:73\u001b[0m, in \u001b[0;36mapply\u001b[0;34m()\u001b[0m\n\u001b[1;32m     42\u001b[0m \u001b[39m\u001b[39m\u001b[39m\"\"\"Apply a function given its positional and keyword arguments.\u001b[39;00m\n\u001b[1;32m     43\u001b[0m \n\u001b[1;32m     44\u001b[0m \u001b[39mEquivalent to ``func(*args, **kwargs)``\u001b[39;00m\n\u001b[0;32m   (...)\u001b[0m\n\u001b[1;32m     70\u001b[0m \u001b[39m>>> dsk = {'task-name': task}  # adds the task to a low level Dask task graph\u001b[39;00m\n\u001b[1;32m     71\u001b[0m \u001b[39m\"\"\"\u001b[39;00m\n\u001b[1;32m     72\u001b[0m \u001b[39mif\u001b[39;00m kwargs:\n\u001b[0;32m---> 73\u001b[0m     \u001b[39mreturn\u001b[39;00m func(\u001b[39m*\u001b[39margs, \u001b[39m*\u001b[39m\u001b[39m*\u001b[39mkwargs)\n\u001b[1;32m     74\u001b[0m \u001b[39melse\u001b[39;00m:\n\u001b[1;32m     75\u001b[0m     \u001b[39mreturn\u001b[39;00m func(\u001b[39m*\u001b[39margs)\n",
      "File \u001b[0;32m~/miniconda3/envs/tiny_lsst/lib/python3.10/site-packages/dask/dataframe/core.py:7089\u001b[0m, in \u001b[0;36mapply_and_enforce\u001b[0;34m()\u001b[0m\n\u001b[1;32m   7087\u001b[0m func \u001b[39m=\u001b[39m kwargs\u001b[39m.\u001b[39mpop(\u001b[39m\"\u001b[39m\u001b[39m_func\u001b[39m\u001b[39m\"\u001b[39m)\n\u001b[1;32m   7088\u001b[0m meta \u001b[39m=\u001b[39m kwargs\u001b[39m.\u001b[39mpop(\u001b[39m\"\u001b[39m\u001b[39m_meta\u001b[39m\u001b[39m\"\u001b[39m)\n\u001b[0;32m-> 7089\u001b[0m df \u001b[39m=\u001b[39m func(\u001b[39m*\u001b[39margs, \u001b[39m*\u001b[39m\u001b[39m*\u001b[39mkwargs)\n\u001b[1;32m   7090\u001b[0m \u001b[39mif\u001b[39;00m is_dataframe_like(df) \u001b[39mor\u001b[39;00m is_series_like(df) \u001b[39mor\u001b[39;00m is_index_like(df):\n\u001b[1;32m   7091\u001b[0m     \u001b[39mif\u001b[39;00m \u001b[39mnot\u001b[39;00m \u001b[39mlen\u001b[39m(df):\n",
      "File \u001b[0;32m~/miniconda3/envs/tiny_lsst/lib/python3.10/site-packages/tape/ensemble.py:748\u001b[0m, in \u001b[0;36m<lambda>\u001b[0;34m()\u001b[0m\n\u001b[1;32m    745\u001b[0m \u001b[39mif\u001b[39;00m use_map:  \u001b[39m# use map_partitions\u001b[39;00m\n\u001b[1;32m    746\u001b[0m     id_col \u001b[39m=\u001b[39m \u001b[39mself\u001b[39m\u001b[39m.\u001b[39m_id_col  \u001b[39m# need to grab this before mapping\u001b[39;00m\n\u001b[1;32m    747\u001b[0m     batch \u001b[39m=\u001b[39m source_to_batch\u001b[39m.\u001b[39mmap_partitions(\n\u001b[0;32m--> 748\u001b[0m         \u001b[39mlambda\u001b[39;00m x: x\u001b[39m.\u001b[39mgroupby(on, group_keys\u001b[39m=\u001b[39m\u001b[39mFalse\u001b[39;00m)\u001b[39m.\u001b[39mapply(\n\u001b[1;32m    749\u001b[0m             \u001b[39mlambda\u001b[39;00m y: func(\n\u001b[1;32m    750\u001b[0m                 \u001b[39m*\u001b[39m[y[arg]\u001b[39m.\u001b[39mto_numpy() \u001b[39mif\u001b[39;00m arg \u001b[39m!=\u001b[39m id_col \u001b[39melse\u001b[39;00m y\u001b[39m.\u001b[39mindex\u001b[39m.\u001b[39mto_numpy() \u001b[39mfor\u001b[39;00m arg \u001b[39min\u001b[39;00m args],\n\u001b[1;32m    751\u001b[0m                 \u001b[39m*\u001b[39m\u001b[39m*\u001b[39mkwargs,\n\u001b[1;32m    752\u001b[0m             )\n\u001b[1;32m    753\u001b[0m         ),\n\u001b[1;32m    754\u001b[0m         meta\u001b[39m=\u001b[39mmeta,\n\u001b[1;32m    755\u001b[0m     )\n\u001b[1;32m    756\u001b[0m \u001b[39melse\u001b[39;00m:  \u001b[39m# use groupby\u001b[39;00m\n\u001b[1;32m    757\u001b[0m     batch \u001b[39m=\u001b[39m source_to_batch\u001b[39m.\u001b[39mgroupby(on, group_keys\u001b[39m=\u001b[39m\u001b[39mFalse\u001b[39;00m)\u001b[39m.\u001b[39mapply(\n\u001b[1;32m    758\u001b[0m         \u001b[39mlambda\u001b[39;00m x: func(\n\u001b[1;32m    759\u001b[0m             \u001b[39m*\u001b[39m[x[arg]\u001b[39m.\u001b[39mto_numpy() \u001b[39mif\u001b[39;00m arg \u001b[39m!=\u001b[39m id_col \u001b[39melse\u001b[39;00m x\u001b[39m.\u001b[39mindex\u001b[39m.\u001b[39mto_numpy() \u001b[39mfor\u001b[39;00m arg \u001b[39min\u001b[39;00m args], \u001b[39m*\u001b[39m\u001b[39m*\u001b[39mkwargs\n\u001b[1;32m    760\u001b[0m         ),\n\u001b[1;32m    761\u001b[0m         meta\u001b[39m=\u001b[39mmeta,\n\u001b[1;32m    762\u001b[0m     )\n",
      "File \u001b[0;32m~/miniconda3/envs/tiny_lsst/lib/python3.10/site-packages/pandas/core/groupby/groupby.py:1353\u001b[0m, in \u001b[0;36mapply\u001b[0;34m()\u001b[0m\n\u001b[1;32m   1351\u001b[0m \u001b[39mwith\u001b[39;00m option_context(\u001b[39m\"\u001b[39m\u001b[39mmode.chained_assignment\u001b[39m\u001b[39m\"\u001b[39m, \u001b[39mNone\u001b[39;00m):\n\u001b[1;32m   1352\u001b[0m     \u001b[39mtry\u001b[39;00m:\n\u001b[0;32m-> 1353\u001b[0m         result \u001b[39m=\u001b[39m \u001b[39mself\u001b[39m\u001b[39m.\u001b[39m_python_apply_general(f, \u001b[39mself\u001b[39m\u001b[39m.\u001b[39m_selected_obj)\n\u001b[1;32m   1354\u001b[0m     \u001b[39mexcept\u001b[39;00m \u001b[39mTypeError\u001b[39;00m:\n\u001b[1;32m   1355\u001b[0m         \u001b[39m# gh-20949\u001b[39;00m\n\u001b[1;32m   1356\u001b[0m         \u001b[39m# try again, with .apply acting as a filtering\u001b[39;00m\n\u001b[0;32m   (...)\u001b[0m\n\u001b[1;32m   1360\u001b[0m         \u001b[39m# fails on *some* columns, e.g. a numeric operation\u001b[39;00m\n\u001b[1;32m   1361\u001b[0m         \u001b[39m# on a string grouper column\u001b[39;00m\n\u001b[1;32m   1363\u001b[0m         \u001b[39mreturn\u001b[39;00m \u001b[39mself\u001b[39m\u001b[39m.\u001b[39m_python_apply_general(f, \u001b[39mself\u001b[39m\u001b[39m.\u001b[39m_obj_with_exclusions)\n",
      "File \u001b[0;32m~/miniconda3/envs/tiny_lsst/lib/python3.10/site-packages/pandas/core/groupby/groupby.py:1402\u001b[0m, in \u001b[0;36m_python_apply_general\u001b[0;34m()\u001b[0m\n\u001b[1;32m   1367\u001b[0m \u001b[39m@final\u001b[39m\n\u001b[1;32m   1368\u001b[0m \u001b[39mdef\u001b[39;00m \u001b[39m_python_apply_general\u001b[39m(\n\u001b[1;32m   1369\u001b[0m     \u001b[39mself\u001b[39m,\n\u001b[0;32m   (...)\u001b[0m\n\u001b[1;32m   1374\u001b[0m     is_agg: \u001b[39mbool\u001b[39m \u001b[39m=\u001b[39m \u001b[39mFalse\u001b[39;00m,\n\u001b[1;32m   1375\u001b[0m ) \u001b[39m-\u001b[39m\u001b[39m>\u001b[39m NDFrameT:\n\u001b[1;32m   1376\u001b[0m \u001b[39m    \u001b[39m\u001b[39m\"\"\"\u001b[39;00m\n\u001b[1;32m   1377\u001b[0m \u001b[39m    Apply function f in python space\u001b[39;00m\n\u001b[1;32m   1378\u001b[0m \n\u001b[0;32m   (...)\u001b[0m\n\u001b[1;32m   1400\u001b[0m \u001b[39m        data after applying f\u001b[39;00m\n\u001b[1;32m   1401\u001b[0m \u001b[39m    \"\"\"\u001b[39;00m\n\u001b[0;32m-> 1402\u001b[0m     values, mutated \u001b[39m=\u001b[39m \u001b[39mself\u001b[39m\u001b[39m.\u001b[39mgrouper\u001b[39m.\u001b[39mapply(f, data, \u001b[39mself\u001b[39m\u001b[39m.\u001b[39maxis)\n\u001b[1;32m   1403\u001b[0m     \u001b[39mif\u001b[39;00m not_indexed_same \u001b[39mis\u001b[39;00m \u001b[39mNone\u001b[39;00m:\n\u001b[1;32m   1404\u001b[0m         not_indexed_same \u001b[39m=\u001b[39m mutated\n",
      "File \u001b[0;32m~/miniconda3/envs/tiny_lsst/lib/python3.10/site-packages/pandas/core/groupby/ops.py:767\u001b[0m, in \u001b[0;36mapply\u001b[0;34m()\u001b[0m\n\u001b[1;32m    765\u001b[0m \u001b[39m# group might be modified\u001b[39;00m\n\u001b[1;32m    766\u001b[0m group_axes \u001b[39m=\u001b[39m group\u001b[39m.\u001b[39maxes\n\u001b[0;32m--> 767\u001b[0m res \u001b[39m=\u001b[39m f(group)\n\u001b[1;32m    768\u001b[0m \u001b[39mif\u001b[39;00m \u001b[39mnot\u001b[39;00m mutated \u001b[39mand\u001b[39;00m \u001b[39mnot\u001b[39;00m _is_indexed_like(res, group_axes, axis):\n\u001b[1;32m    769\u001b[0m     mutated \u001b[39m=\u001b[39m \u001b[39mTrue\u001b[39;00m\n",
      "File \u001b[0;32m~/miniconda3/envs/tiny_lsst/lib/python3.10/site-packages/tape/ensemble.py:749\u001b[0m, in \u001b[0;36m<lambda>\u001b[0;34m()\u001b[0m\n\u001b[1;32m    745\u001b[0m \u001b[39mif\u001b[39;00m use_map:  \u001b[39m# use map_partitions\u001b[39;00m\n\u001b[1;32m    746\u001b[0m     id_col \u001b[39m=\u001b[39m \u001b[39mself\u001b[39m\u001b[39m.\u001b[39m_id_col  \u001b[39m# need to grab this before mapping\u001b[39;00m\n\u001b[1;32m    747\u001b[0m     batch \u001b[39m=\u001b[39m source_to_batch\u001b[39m.\u001b[39mmap_partitions(\n\u001b[1;32m    748\u001b[0m         \u001b[39mlambda\u001b[39;00m x: x\u001b[39m.\u001b[39mgroupby(on, group_keys\u001b[39m=\u001b[39m\u001b[39mFalse\u001b[39;00m)\u001b[39m.\u001b[39mapply(\n\u001b[0;32m--> 749\u001b[0m             \u001b[39mlambda\u001b[39;00m y: func(\n\u001b[1;32m    750\u001b[0m                 \u001b[39m*\u001b[39m[y[arg]\u001b[39m.\u001b[39mto_numpy() \u001b[39mif\u001b[39;00m arg \u001b[39m!=\u001b[39m id_col \u001b[39melse\u001b[39;00m y\u001b[39m.\u001b[39mindex\u001b[39m.\u001b[39mto_numpy() \u001b[39mfor\u001b[39;00m arg \u001b[39min\u001b[39;00m args],\n\u001b[1;32m    751\u001b[0m                 \u001b[39m*\u001b[39m\u001b[39m*\u001b[39mkwargs,\n\u001b[1;32m    752\u001b[0m             )\n\u001b[1;32m    753\u001b[0m         ),\n\u001b[1;32m    754\u001b[0m         meta\u001b[39m=\u001b[39mmeta,\n\u001b[1;32m    755\u001b[0m     )\n\u001b[1;32m    756\u001b[0m \u001b[39melse\u001b[39;00m:  \u001b[39m# use groupby\u001b[39;00m\n\u001b[1;32m    757\u001b[0m     batch \u001b[39m=\u001b[39m source_to_batch\u001b[39m.\u001b[39mgroupby(on, group_keys\u001b[39m=\u001b[39m\u001b[39mFalse\u001b[39;00m)\u001b[39m.\u001b[39mapply(\n\u001b[1;32m    758\u001b[0m         \u001b[39mlambda\u001b[39;00m x: func(\n\u001b[1;32m    759\u001b[0m             \u001b[39m*\u001b[39m[x[arg]\u001b[39m.\u001b[39mto_numpy() \u001b[39mif\u001b[39;00m arg \u001b[39m!=\u001b[39m id_col \u001b[39melse\u001b[39;00m x\u001b[39m.\u001b[39mindex\u001b[39m.\u001b[39mto_numpy() \u001b[39mfor\u001b[39;00m arg \u001b[39min\u001b[39;00m args], \u001b[39m*\u001b[39m\u001b[39m*\u001b[39mkwargs\n\u001b[1;32m    760\u001b[0m         ),\n\u001b[1;32m    761\u001b[0m         meta\u001b[39m=\u001b[39mmeta,\n\u001b[1;32m    762\u001b[0m     )\n",
      "File \u001b[0;32m~/github/JaxPeriodDrwFit/JaxPeriodDrwFit.py:246\u001b[0m, in \u001b[0;36moptimize_map\u001b[0;34m()\u001b[0m\n\u001b[1;32m    243\u001b[0m theta_init_matrix \u001b[39m=\u001b[39m \\\n\u001b[1;32m    244\u001b[0m     np\u001b[39m.\u001b[39mtranspose(\u001b[39mself\u001b[39m\u001b[39m.\u001b[39mcreate_theta_init(n_init))\n\u001b[1;32m    245\u001b[0m soln_res_map \u001b[39m=\u001b[39m \u001b[39mmap\u001b[39m(partial_optimize, theta_init_matrix)\n\u001b[0;32m--> 246\u001b[0m many_init_res \u001b[39m=\u001b[39m \u001b[39mlist\u001b[39m(soln_res_map)\n\u001b[1;32m    247\u001b[0m \u001b[39m# transforms jax outputs to single numpy array\u001b[39;00m\n\u001b[1;32m    248\u001b[0m res \u001b[39m=\u001b[39m np\u001b[39m.\u001b[39mvstack(\u001b[39mlist\u001b[39m(\u001b[39mmap\u001b[39m(concatenate_arrays,\n\u001b[1;32m    249\u001b[0m                          jax\u001b[39m.\u001b[39mdevice_get(many_init_res))))\n",
      "\u001b[0;31mXlaRuntimeError\u001b[0m: INTERNAL: Generated function failed: CpuCallback error: ValueError: Input coordinates must be sorted in order to use the QuasisepSolver\n\nAt:\n  /astro/users/ncaplar/github/tinygp_carma/tinygp/src/tinygp/solvers/quasisep/solver.py(142): _check_sorted\n  /astro/users/ncaplar/miniconda3/envs/tiny_lsst/lib/python3.10/site-packages/jax/_src/debugging.py(213): _flat_callback\n  /astro/users/ncaplar/miniconda3/envs/tiny_lsst/lib/python3.10/site-packages/jax/_src/debugging.py(81): debug_callback_impl\n  /astro/users/ncaplar/miniconda3/envs/tiny_lsst/lib/python3.10/site-packages/jax/_src/debugging.py(132): _callback\n  /astro/users/ncaplar/miniconda3/envs/tiny_lsst/lib/python3.10/site-packages/jax/interpreters/mlir.py(1579): _wrapped_callback\n  /astro/users/ncaplar/miniconda3/envs/tiny_lsst/lib/python3.10/site-packages/jax/_src/dispatch.py(890): _execute_compiled\n  /astro/users/ncaplar/miniconda3/envs/tiny_lsst/lib/python3.10/site-packages/jax/_src/api.py(623): cache_miss\n  /astro/users/ncaplar/miniconda3/envs/tiny_lsst/lib/python3.10/site-packages/jax/_src/traceback_util.py(162): reraise_with_filtered_traceback\n  /astro/users/ncaplar/github/JaxPeriodDrwFit/JaxPeriodDrwFit.py(246): optimize_map\n  /astro/users/ncaplar/miniconda3/envs/tiny_lsst/lib/python3.10/site-packages/tape/ensemble.py(749): <lambda>\n  /astro/users/ncaplar/miniconda3/envs/tiny_lsst/lib/python3.10/site-packages/pandas/core/groupby/ops.py(767): apply\n  /astro/users/ncaplar/miniconda3/envs/tiny_lsst/lib/python3.10/site-packages/pandas/core/groupby/groupby.py(1402): _python_apply_general\n  /astro/users/ncaplar/miniconda3/envs/tiny_lsst/lib/python3.10/site-packages/pandas/core/groupby/groupby.py(1353): apply\n  /astro/users/ncaplar/miniconda3/envs/tiny_lsst/lib/python3.10/site-packages/tape/ensemble.py(748): <lambda>\n  /astro/users/ncaplar/miniconda3/envs/tiny_lsst/lib/python3.10/site-packages/dask/dataframe/core.py(7089): apply_and_enforce\n  /astro/users/ncaplar/miniconda3/envs/tiny_lsst/lib/python3.10/site-packages/dask/utils.py(73): apply\n  /astro/users/ncaplar/miniconda3/envs/tiny_lsst/lib/python3.10/site-packages/dask/core.py(121): _execute_task\n  /astro/users/ncaplar/miniconda3/envs/tiny_lsst/lib/python3.10/site-packages/dask/core.py(151): get\n  /astro/users/ncaplar/miniconda3/envs/tiny_lsst/lib/python3.10/site-packages/dask/optimization.py(992): __call__\n  /astro/users/ncaplar/miniconda3/envs/tiny_lsst/lib/python3.10/site-packages/distributed/worker.py(3071): apply_function_simple\n  /astro/users/ncaplar/miniconda3/envs/tiny_lsst/lib/python3.10/site-packages/distributed/worker.py(3035): apply_function\n  /astro/users/ncaplar/miniconda3/envs/tiny_lsst/lib/python3.10/site-packages/distributed/utils.py(1471): <lambda>\n  /astro/users/ncaplar/miniconda3/envs/tiny_lsst/lib/python3.10/site-packages/distributed/_concurrent_futures_thread.py(65): run\n  /astro/users/ncaplar/miniconda3/envs/tiny_lsst/lib/python3.10/site-packages/distributed/threadpoolexecutor.py(57): _worker\n  /astro/users/ncaplar/miniconda3/envs/tiny_lsst/lib/python3.10/threading.py(953): run\n  /astro/users/ncaplar/miniconda3/envs/tiny_lsst/lib/python3.10/threading.py(1016): _bootstrap_inner\n  /astro/users/ncaplar/miniconda3/envs/tiny_lsst/lib/python3.10/threading.py(973): _bootstrap\n"
     ]
    }
   ],
   "source": [
    "# because the times are not in order, this fails\n",
    "# need a function to order times in lightcurves\n",
    "JaxPeriodDrwFit_instance = JaxPeriodDrwFit.JaxPeriodDrwFit()\n",
    "res = ens.batch(JaxPeriodDrwFit_instance.optimize_map, 'mjd_ztf_source', \"mag_ztf_source\", \"magerr_ztf_source\",\n",
    "                compute=True, meta=None, n_init=100)"
   ]
  },
  {
   "cell_type": "code",
   "execution_count": null,
   "metadata": {},
   "outputs": [],
   "source": [
    "# UnfilteredStackTrace: jaxlib.xla_extension.XlaRuntimeError: INTERNAL: Generated function failed: CpuCallback error: ValueError: Input coordinates must be sorted in order to use the QuasisepSolve"
   ]
  }
 ],
 "metadata": {
  "kernelspec": {
   "display_name": "tiny_lsst",
   "language": "python",
   "name": "python3"
  },
  "language_info": {
   "codemirror_mode": {
    "name": "ipython",
    "version": 3
   },
   "file_extension": ".py",
   "mimetype": "text/x-python",
   "name": "python",
   "nbconvert_exporter": "python",
   "pygments_lexer": "ipython3",
   "version": "3.10.10"
  },
  "orig_nbformat": 4
 },
 "nbformat": 4,
 "nbformat_minor": 2
}
