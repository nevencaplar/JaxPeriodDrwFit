{
 "cells": [
  {
   "cell_type": "code",
   "execution_count": 18,
   "metadata": {},
   "outputs": [
    {
     "name": "stdout",
     "output_type": "stream",
     "text": [
      "jax version: 0.4.34\n",
      "cpu/gpu: cpu\n",
      "tinygp version: 0.3.0\n"
     ]
    }
   ],
   "source": [
    "import jax\n",
    "import jax.numpy as jnp\n",
    "from jax import export\n",
    "from jax._src import compilation_cache as cc\n",
    "from jax._src.lib import xla_client\n",
    "from jax.lib import xla_bridge\n",
    "\n",
    "import numpy as np\n",
    "import tinygp\n",
    "import logging\n",
    "import pickle\n",
    "from pathlib import Path\n",
    "\n",
    "from tinygp import GaussianProcess, kernels\n",
    "from tinygp.kernels import quasisep\n",
    "\n",
    "print(\"jax version: \" + jax.__version__)\n",
    "# print if you are using cpu or gpu\n",
    "print(\"cpu/gpu: \" + str(jax.default_backend()))\n",
    "print(\"tinygp version: \" + tinygp.__version__)\n",
    "\n",
    "# cc.initialize_cache(\"./cache_min_example\")\n",
    "# jax.config.update(\"jax_persistent_cache_min_compile_time_secs\", 1)\n",
    "\n",
    "\n",
    "t, y, yerr = np.arange(0, 1000, 1), np.sin(np.arange(0, 1000, 1)), np.ones(1000)\n",
    "\n",
    "theta_init = {\n",
    "    \"log_drw_scale\": np.log10(100)\n",
    "}\n",
    "\n",
    "# Convert the scalar to a JAX array\n",
    "theta_init = {key: jnp.array(value, dtype=jnp.float32) for key, value in theta_init.items()}\n",
    "\n",
    "# Convert the dictionary into ShapeDtypeStruct objects\n",
    "theta_shapes = {key: jax.ShapeDtypeStruct(shape=value.shape, dtype=value.dtype) for key, value in theta_init.items()}\n",
    "\n",
    "\n",
    "def build_exp_gp_kernels(theta, t, y, yerr):\n",
    "    \"\"\"Build an Gaussian proccess that is only exp\n",
    "    \"\"\"\n",
    "    exp_kernel = kernels.Exp(scale=10**theta[\"log_drw_scale\"])\n",
    "    return GaussianProcess(exp_kernel, t, diag=yerr, mean=np.mean(y))\n",
    "\n",
    "def build_exp_gp_quasi(theta, t, y, yerr):\n",
    "    \"\"\"Build an Gaussian proccess that is only exp, but quasiseparable\n",
    "    \"\"\"\n",
    "    exp_kernel = quasisep.Exp(scale=10**theta[\"log_drw_scale\"])\n",
    "    return GaussianProcess(exp_kernel, t, diag=yerr, mean=np.mean(y))\n",
    "\n",
    "@jax.jit\n",
    "def neg_log_likelihood_kernels(theta, t, y, yerr):\n",
    "    gp = build_exp_gp_kernels(theta, t, y, yerr)\n",
    "    return -gp.log_probability(y)\n",
    "\n",
    "@jax.jit\n",
    "def neg_log_likelihood_quasi(theta, t, y, yerr):\n",
    "    gp = build_exp_gp_quasi(theta, t, y, yerr)\n",
    "    return -gp.log_probability(y)\n",
    "\n",
    "\n",
    "logger = logging.getLogger()\n",
    "logger.setLevel(logging.INFO)\n",
    "logging.debug(\"test\")\n",
    "\n",
    "neg_log_likelihood_kernels(theta_init, t, y, yerr)\n",
    "neg_log_likelihood_quasi(theta_init, t, y, yerr)\n",
    "\n",
    "\n",
    "out_file_name = f'/epyc/users/ncaplar/github/JaxPeriodDrwFit/Dev/test.pkl'\n",
    "\n",
    "if Path(out_file_name).exists():\n",
    "    with open(out_file_name, 'rb') as f:\n",
    "        serialized = pickle.load(f)\n",
    "else:\n",
    "\n",
    "    exported = export.export(jax.jit(neg_log_likelihood_kernels))(\n",
    "        theta_shapes,  # Shape and dtype for theta\n",
    "        jax.ShapeDtypeStruct(shape=t.shape, dtype=t.dtype),                    # Shape and dtype for t\n",
    "        jax.ShapeDtypeStruct(shape=y.shape, dtype=y.dtype),                    # Shape and dtype for y\n",
    "        jax.ShapeDtypeStruct(shape=yerr.shape, dtype=yerr.dtype)               # Shape and dtype for yerr\n",
    ")\n",
    "    serialized = exported.serialize()\n",
    "\n",
    "if not Path(out_file_name).exists():\n",
    "    with open(out_file_name, 'wb') as f:\n",
    "        pickle.dump(serialized, f)\n",
    "\n",
    "rehydrated_exp = export.deserialize(serialized)\n",
    "\n",
    "%timeit\n",
    "res1 = jax.jit(neg_log_likelihood_kernels)(theta_init, t, y, yerr)\n",
    "\n",
    "%timeit\n",
    "res2 = rehydrated_exp.call(theta_init, t, y, yerr)\n"
   ]
  },
  {
   "cell_type": "code",
   "execution_count": 16,
   "metadata": {},
   "outputs": [
    {
     "data": {
      "text/plain": [
       "Array(1229.804, dtype=float32)"
      ]
     },
     "execution_count": 16,
     "metadata": {},
     "output_type": "execute_result"
    }
   ],
   "source": [
    "res1"
   ]
  },
  {
   "cell_type": "code",
   "execution_count": 17,
   "metadata": {},
   "outputs": [
    {
     "data": {
      "text/plain": [
       "Array(1229.804, dtype=float32)"
      ]
     },
     "execution_count": 17,
     "metadata": {},
     "output_type": "execute_result"
    }
   ],
   "source": [
    "res2"
   ]
  },
  {
   "cell_type": "code",
   "execution_count": null,
   "metadata": {},
   "outputs": [],
   "source": [
    "# now, lets try over multiple cores "
   ]
  }
 ],
 "metadata": {
  "kernelspec": {
   "display_name": "numpy_to_jax",
   "language": "python",
   "name": "python3"
  },
  "language_info": {
   "codemirror_mode": {
    "name": "ipython",
    "version": 3
   },
   "file_extension": ".py",
   "mimetype": "text/x-python",
   "name": "python",
   "nbconvert_exporter": "python",
   "pygments_lexer": "ipython3",
   "version": "3.12.2"
  }
 },
 "nbformat": 4,
 "nbformat_minor": 2
}
