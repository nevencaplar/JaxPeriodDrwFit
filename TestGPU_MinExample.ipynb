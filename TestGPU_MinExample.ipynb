{
 "cells": [
  {
   "cell_type": "code",
   "execution_count": 1,
   "metadata": {},
   "outputs": [
    {
     "name": "stdout",
     "output_type": "stream",
     "text": [
      "jax version: 0.4.16\n",
      "tinygp version: 0.2.4\n"
     ]
    },
    {
     "name": "stderr",
     "output_type": "stream",
     "text": [
      "Initialized persistent compilation cache at ./cache_min_example\n",
      "DEBUG:root:test\n",
      "DEBUG:jax._src.dispatch:Finished tracing + transforming _power for pjit in 0.0006608963012695312 sec\n",
      "DEBUG:jax._src.dispatch:Finished tracing + transforming _reduce_sum for pjit in 0.0005075931549072266 sec\n",
      "DEBUG:jax._src.dispatch:Finished tracing + transforming _mean for pjit in 0.0019757747650146484 sec\n",
      "DEBUG:jax._src.dispatch:Finished tracing + transforming <lambda> for pjit in 0.0003695487976074219 sec\n",
      "DEBUG:jax._src.dispatch:Finished tracing + transforming absolute for pjit in 0.00025582313537597656 sec\n",
      "DEBUG:jax._src.dispatch:Finished tracing + transforming _reduce_sum for pjit in 0.0004565715789794922 sec\n",
      "DEBUG:jax._src.dispatch:Finished tracing + transforming <lambda> for pjit in 0.00023412704467773438 sec\n",
      "DEBUG:jax._src.dispatch:Finished tracing + transforming true_divide for pjit in 0.0004050731658935547 sec\n",
      "DEBUG:jax._src.dispatch:Finished tracing + transforming <lambda> for pjit in 0.0002624988555908203 sec\n",
      "DEBUG:jax._src.dispatch:Finished tracing + transforming fn for pjit in 0.0003409385681152344 sec\n",
      "DEBUG:jax._src.dispatch:Finished tracing + transforming fn for pjit in 0.00042724609375 sec\n",
      "DEBUG:jax._src.dispatch:Finished tracing + transforming _broadcast_arrays for pjit in 0.00019502639770507812 sec\n",
      "DEBUG:jax._src.dispatch:Finished tracing + transforming _squeeze for pjit in 0.00016188621520996094 sec\n",
      "DEBUG:jax._src.dispatch:Finished tracing + transforming tril for pjit in 0.0010526180267333984 sec\n",
      "DEBUG:jax._src.dispatch:Finished tracing + transforming _cholesky for pjit in 0.0022950172424316406 sec\n",
      "DEBUG:jax._src.dispatch:Finished tracing + transforming <lambda> for pjit in 0.0003418922424316406 sec\n",
      "DEBUG:jax._src.dispatch:Finished tracing + transforming _solve_triangular for pjit in 0.0013897418975830078 sec\n",
      "DEBUG:jax._src.dispatch:Finished tracing + transforming _get_alpha for pjit in 0.003751993179321289 sec\n",
      "DEBUG:jax._src.dispatch:Finished tracing + transforming square for pjit in 0.0002617835998535156 sec\n",
      "DEBUG:jax._src.dispatch:Finished tracing + transforming _reduce_sum for pjit in 0.00043964385986328125 sec\n",
      "DEBUG:jax._src.dispatch:Finished tracing + transforming fn for pjit in 0.0003941059112548828 sec\n",
      "DEBUG:jax._src.dispatch:Finished tracing + transforming _moveaxis for pjit in 0.00020074844360351562 sec\n",
      "DEBUG:jax._src.dispatch:Finished tracing + transforming diagonal for pjit in 0.0038645267486572266 sec\n",
      "DEBUG:jax._src.dispatch:Finished tracing + transforming _diag for pjit in 0.004851341247558594 sec\n",
      "DEBUG:jax._src.dispatch:Finished tracing + transforming <lambda> for pjit in 0.0002758502960205078 sec\n",
      "DEBUG:jax._src.dispatch:Finished tracing + transforming fn for pjit in 0.0003247261047363281 sec\n",
      "DEBUG:jax._src.dispatch:Finished tracing + transforming <lambda> for pjit in 0.0003204345703125 sec\n",
      "DEBUG:jax._src.dispatch:Finished tracing + transforming isfinite for pjit in 0.00021791458129882812 sec\n",
      "DEBUG:jax._src.dispatch:Finished tracing + transforming _broadcast_arrays for pjit in 0.0002052783966064453 sec\n",
      "DEBUG:jax._src.dispatch:Finished tracing + transforming _where for pjit in 0.0014171600341796875 sec\n",
      "DEBUG:jax._src.dispatch:Finished tracing + transforming _compute_log_prob for pjit in 0.017058134078979492 sec\n",
      "DEBUG:jax._src.dispatch:Finished tracing + transforming <lambda> for pjit in 0.00022077560424804688 sec\n",
      "DEBUG:jax._src.dispatch:Finished tracing + transforming neg_log_likelihood_kernels for pjit in 0.05642557144165039 sec\n",
      "DEBUG:jax._src.interpreters.pxla:Compiling neg_log_likelihood_kernels for with global shapes and types [ShapedArray(float32[]), ShapedArray(int32[1000]), ShapedArray(float32[1000]), ShapedArray(float32[1000])]. Argument mapping: (GSPMDSharding({replicated}), GSPMDSharding({replicated}), GSPMDSharding({replicated}), GSPMDSharding({replicated})).\n",
      "DEBUG:jax._src.dispatch:Finished jaxpr to MLIR module conversion jit(neg_log_likelihood_kernels) in 0.018227100372314453 sec\n",
      "DEBUG:jax._src.compiler:get_compile_options: num_replicas=1 num_partitions=1 device_assignment=[[gpu(id=0)]]\n",
      "DEBUG:jax._src.compiler:get_compile_options XLA-AutoFDO profile: using XLA-AutoFDO profile version -1\n",
      "DEBUG:jax._src.cache_key:get_cache_key hash of serialized computation: dce6e6a63764ff32d70de4b2a051263eae3681a2b0c5d99bcedc270cb5a392b8\n",
      "DEBUG:jax._src.cache_key:get_cache_key hash after serializing computation: dce6e6a63764ff32d70de4b2a051263eae3681a2b0c5d99bcedc270cb5a392b8\n",
      "DEBUG:jax._src.cache_key:get_cache_key hash of serialized jax_lib version: 8376ab5670060d06bd1041a2a75f8ed9f68afa3ef66d5ff9c152d950b0512880\n",
      "DEBUG:jax._src.cache_key:get_cache_key hash after serializing jax_lib version: e2277c6e0469f153fc555a9437dd2e71e05c0e102c5e98ca863e418972d56dc5\n",
      "DEBUG:jax._src.cache_key:get_cache_key hash of serialized XLA flags: e3b0c44298fc1c149afbf4c8996fb92427ae41e4649b934ca495991b7852b855\n",
      "DEBUG:jax._src.cache_key:get_cache_key hash after serializing XLA flags: e2277c6e0469f153fc555a9437dd2e71e05c0e102c5e98ca863e418972d56dc5\n",
      "DEBUG:jax._src.cache_key:get_cache_key hash of serialized compression: 0ea55c28f8014d8886b6248fe3da5d588f55c0823847a6b4579f1131b051b5e2\n",
      "DEBUG:jax._src.cache_key:get_cache_key hash after serializing compression: 4d023b5363083cdcb54383b64c7034a9916b8936d35fb2b600814a2940f6bd4c\n",
      "DEBUG:jax._src.cache_key:get_cache_key hash of serialized compile_options: 6fc57653a293e7afd0ff1c1a3f1f7e667a7ba9d597fc558968bf5baa7317de42\n",
      "DEBUG:jax._src.cache_key:get_cache_key hash after serializing compile_options: c5ace8e77eb59d31ba98906b7ceda81239b0a989aa3ebc64f7ac51a8f6a0acfb\n",
      "DEBUG:jax._src.cache_key:get_cache_key hash of serialized devices: 2a25d4df60bc794265a0b3ac4c3e7af0b8de32bda498cef13b09ffe9e72c60c5\n",
      "DEBUG:jax._src.cache_key:get_cache_key hash after serializing devices: 90b869fca23b75166d8851c7ba3ca795b22a94ae480f26b61b787a316b7128ab\n",
      "DEBUG:jax._src.cache_key:get_cache_key hash of serialized the backend: 157d005512472cfa363d4e710437291a5aec164cbed40d13c67dc375d2027ef7\n",
      "DEBUG:jax._src.cache_key:get_cache_key hash after serializing the backend: 4d785e1fa0a989d796b326a976e0643ed4389fc20c54e1636d043c4984a119f3\n",
      "INFO:jax._src.compiler:Persistent compilation cache hit for 'jit_neg_log_likelihood_kernels'\n",
      "DEBUG:jax._src.dispatch:Finished XLA compilation of jit(neg_log_likelihood_kernels) in 0.01651906967163086 sec\n"
     ]
    },
    {
     "name": "stdout",
     "output_type": "stream",
     "text": [
      "cpu/gpu: gpu\n"
     ]
    },
    {
     "name": "stderr",
     "output_type": "stream",
     "text": [
      "DEBUG:jax._src.dispatch:Finished tracing + transforming ravel for pjit in 0.00021576881408691406 sec\n",
      "DEBUG:jax._src.dispatch:Finished tracing + transforming ravel for pjit in 0.0001246929168701172 sec\n",
      "DEBUG:jax._src.dispatch:Finished tracing + transforming append for pjit in 0.0027832984924316406 sec\n",
      "DEBUG:jax._src.dispatch:Finished tracing + transforming <lambda> for pjit in 0.00017523765563964844 sec\n",
      "DEBUG:jax._src.dispatch:Finished tracing + transforming true_divide for pjit in 0.0002715587615966797 sec\n",
      "DEBUG:jax._src.dispatch:Finished tracing + transforming <lambda> for pjit in 0.00017786026000976562 sec\n",
      "DEBUG:jax._src.dispatch:Finished tracing + transforming matmul for pjit in 0.0011882781982421875 sec\n",
      "DEBUG:jax._src.dispatch:Finished tracing + transforming fn for pjit in 0.00024080276489257812 sec\n",
      "DEBUG:jax._src.dispatch:Finished tracing + transforming _reduce_sum for pjit in 0.00032711029052734375 sec\n",
      "DEBUG:jax._src.dispatch:Finished tracing + transforming dot for pjit in 0.00037384033203125 sec\n",
      "DEBUG:jax._src.dispatch:Finished tracing + transforming __add__ for pjit in 0.0026082992553710938 sec\n",
      "DEBUG:jax._src.dispatch:Finished tracing + transforming ravel for pjit in 0.0001270771026611328 sec\n",
      "DEBUG:jax._src.dispatch:Finished tracing + transforming fn for pjit in 0.0002951622009277344 sec\n",
      "DEBUG:jax._src.dispatch:Finished tracing + transforming outer for pjit in 0.0022492408752441406 sec\n",
      "DEBUG:jax._src.dispatch:Finished tracing + transforming matmul for pjit in 0.00040435791015625 sec\n",
      "DEBUG:jax._src.dispatch:Finished tracing + transforming matmul for pjit in 0.0003902912139892578 sec\n",
      "DEBUG:jax._src.dispatch:Finished tracing + transforming <lambda> for pjit in 0.0001842975616455078 sec\n",
      "DEBUG:jax._src.dispatch:Finished tracing + transforming matmul for pjit in 0.00040340423583984375 sec\n",
      "DEBUG:jax._src.dispatch:Finished tracing + transforming <lambda> for pjit in 0.0003383159637451172 sec\n",
      "DEBUG:jax._src.dispatch:Finished tracing + transforming true_divide for pjit in 0.000225067138671875 sec\n",
      "DEBUG:jax._src.dispatch:Finished tracing + transforming fn for pjit in 0.00022172927856445312 sec\n",
      "DEBUG:jax._src.dispatch:Finished tracing + transforming cholesky for pjit in 0.01223134994506836 sec\n",
      "DEBUG:jax._src.dispatch:Finished tracing + transforming solve for pjit in 0.0028562545776367188 sec\n",
      "DEBUG:jax._src.dispatch:Finished tracing + transforming _get_alpha for pjit in 0.003969669342041016 sec\n",
      "DEBUG:jax._src.dispatch:Finished tracing + transforming _compute_log_prob for pjit in 0.001928567886352539 sec\n",
      "DEBUG:jax._src.dispatch:Finished tracing + transforming neg_log_likelihood_quasi for pjit in 0.04059147834777832 sec\n",
      "DEBUG:jax._src.interpreters.pxla:Compiling neg_log_likelihood_quasi for with global shapes and types [ShapedArray(float32[]), ShapedArray(int32[1000]), ShapedArray(float32[1000]), ShapedArray(float32[1000])]. Argument mapping: (GSPMDSharding({replicated}), GSPMDSharding({replicated}), GSPMDSharding({replicated}), GSPMDSharding({replicated})).\n",
      "DEBUG:jax._src.dispatch:Finished tracing + transforming fn for pjit in 0.000240325927734375 sec\n",
      "DEBUG:jax._src.dispatch:Finished tracing + transforming fn for pjit in 0.0002624988555908203 sec\n",
      "DEBUG:jax._src.dispatch:Finished tracing + transforming fn for pjit in 0.0002117156982421875 sec\n",
      "DEBUG:jax._src.dispatch:Finished jaxpr to MLIR module conversion jit(neg_log_likelihood_quasi) in 0.03803133964538574 sec\n",
      "DEBUG:jax._src.compiler:get_compile_options: num_replicas=1 num_partitions=1 device_assignment=[[gpu(id=0)]]\n",
      "DEBUG:jax._src.compiler:get_compile_options XLA-AutoFDO profile: using XLA-AutoFDO profile version -1\n",
      "DEBUG:jax._src.cache_key:get_cache_key hash of serialized computation: 6b574d54d589766eb375d46a2cc68e8783caf9988087373d8ea016053ff08566\n",
      "DEBUG:jax._src.cache_key:get_cache_key hash after serializing computation: 6b574d54d589766eb375d46a2cc68e8783caf9988087373d8ea016053ff08566\n",
      "DEBUG:jax._src.cache_key:get_cache_key hash of serialized jax_lib version: 8376ab5670060d06bd1041a2a75f8ed9f68afa3ef66d5ff9c152d950b0512880\n",
      "DEBUG:jax._src.cache_key:get_cache_key hash after serializing jax_lib version: 9d61c31299d69c641f936a7e292da5850baffe2002f0cc7baab1264c8169b456\n",
      "DEBUG:jax._src.cache_key:get_cache_key hash of serialized XLA flags: e3b0c44298fc1c149afbf4c8996fb92427ae41e4649b934ca495991b7852b855\n",
      "DEBUG:jax._src.cache_key:get_cache_key hash after serializing XLA flags: 9d61c31299d69c641f936a7e292da5850baffe2002f0cc7baab1264c8169b456\n",
      "DEBUG:jax._src.cache_key:get_cache_key hash of serialized compression: 0ea55c28f8014d8886b6248fe3da5d588f55c0823847a6b4579f1131b051b5e2\n",
      "DEBUG:jax._src.cache_key:get_cache_key hash after serializing compression: db9dd4940748019201eca26a412cba9205dcad36470c70837e2513520132f72c\n",
      "DEBUG:jax._src.cache_key:get_cache_key hash of serialized compile_options: 6fc57653a293e7afd0ff1c1a3f1f7e667a7ba9d597fc558968bf5baa7317de42\n",
      "DEBUG:jax._src.cache_key:get_cache_key hash after serializing compile_options: d8005e9d990c7830784bd2352f189a6870de6151701d0a802af18452b92746c4\n",
      "DEBUG:jax._src.cache_key:get_cache_key hash of serialized devices: 2a25d4df60bc794265a0b3ac4c3e7af0b8de32bda498cef13b09ffe9e72c60c5\n",
      "DEBUG:jax._src.cache_key:get_cache_key hash after serializing devices: a76a88be47429381fce4ef8b1008f9aeb311ad6972cce811d071e58d62aacf19\n",
      "DEBUG:jax._src.cache_key:get_cache_key hash of serialized the backend: 157d005512472cfa363d4e710437291a5aec164cbed40d13c67dc375d2027ef7\n",
      "DEBUG:jax._src.cache_key:get_cache_key hash after serializing the backend: 99099dc291b9760fed7482a234a2d7a4619a8c16692aa9a45ec591e1567df648\n",
      "DEBUG:jax._src.compiler:'jit_neg_log_likelihood_quasi' took at least 0.10 seconds to compile (0.84s), writing persistent cache entry\n",
      "INFO:jax._src.compilation_cache:Writing jit_neg_log_likelihood_quasi to persistent compilation cache with key 99099dc291b9760fed7482a234a2d7a4619a8c16692aa9a45ec591e1567df648.\n",
      "DEBUG:jax._src.dispatch:Finished XLA compilation of jit(neg_log_likelihood_quasi) in 0.8715505599975586 sec\n"
     ]
    },
    {
     "data": {
      "text/plain": [
       "Array(1229.8038, dtype=float32)"
      ]
     },
     "execution_count": 1,
     "metadata": {},
     "output_type": "execute_result"
    }
   ],
   "source": [
    "import jax\n",
    "import jax.numpy as jnp\n",
    "import numpy as np\n",
    "import tinygp\n",
    "\n",
    "from tinygp import GaussianProcess, kernels\n",
    "from tinygp.kernels import quasisep\n",
    "\n",
    "print(\"jax version: \" + jax.__version__)\n",
    "print(\"tinygp version: \" + tinygp.__version__)\n",
    "\n",
    "from jax.lib import xla_bridge\n",
    "print(\"cpu/gpu: \" + str(xla_bridge.get_backend().platform))\n",
    "\n",
    "from jax._src import compilation_cache as cc\n",
    "cc.initialize_cache(\"./cache_min_example\")\n",
    "jax.config.update(\"jax_persistent_cache_min_compile_time_secs\", 0.1)\n",
    "\n",
    "import logging\n",
    "\n",
    "\n",
    "t, y, yerr = np.arange(0, 1000, 1), np.sin(np.arange(0, 1000, 1)), np.ones(1000)\n",
    "\n",
    "theta_init = {\n",
    "    \"log_drw_scale\": np.log10(100)\n",
    "}\n",
    "\n",
    "def build_exp_gp_kernels(theta, t, y, yerr):\n",
    "    \"\"\"Build an Gaussian proccess that is only exp\n",
    "    \"\"\"\n",
    "    exp_kernel = kernels.Exp(scale=10**theta[\"log_drw_scale\"])\n",
    "    return GaussianProcess(exp_kernel, t, diag=yerr, mean=np.mean(y))\n",
    "\n",
    "def build_exp_gp_quasi(theta, t, y, yerr):\n",
    "    \"\"\"Build an Gaussian proccess that is only exp, but quasiseparable\n",
    "    \"\"\"\n",
    "    exp_kernel = quasisep.Exp(scale=10**theta[\"log_drw_scale\"])\n",
    "    return GaussianProcess(exp_kernel, t, diag=yerr, mean=np.mean(y))\n",
    "\n",
    "@jax.jit\n",
    "def neg_log_likelihood_kernels(theta, t, y, yerr):\n",
    "    gp = build_exp_gp_kernels(theta, t, y, yerr)\n",
    "    return -gp.log_probability(y)\n",
    "\n",
    "@jax.jit\n",
    "def neg_log_likelihood_quasi(theta, t, y, yerr):\n",
    "    gp = build_exp_gp_quasi(theta, t, y, yerr)\n",
    "    return -gp.log_probability(y)\n",
    "\n",
    "\n",
    "logger = logging.getLogger()\n",
    "logger.setLevel(logging.DEBUG)\n",
    "logging.debug(\"test\")\n",
    "\n",
    "neg_log_likelihood_kernels(theta_init, t, y, yerr)\n",
    "neg_log_likelihood_quasi(theta_init, t, y, yerr)\n"
   ]
  },
  {
   "cell_type": "code",
   "execution_count": 2,
   "metadata": {},
   "outputs": [
    {
     "name": "stdout",
     "output_type": "stream",
     "text": [
      "Note: you may need to restart the kernel to use updated packages.\n"
     ]
    }
   ],
   "source": [
    "%pip install -q tinygp"
   ]
  },
  {
   "cell_type": "code",
   "execution_count": null,
   "metadata": {},
   "outputs": [],
   "source": []
  }
 ],
 "metadata": {
  "kernelspec": {
   "display_name": "jax_gpu_O23",
   "language": "python",
   "name": "python3"
  },
  "language_info": {
   "codemirror_mode": {
    "name": "ipython",
    "version": 3
   },
   "file_extension": ".py",
   "mimetype": "text/x-python",
   "name": "python",
   "nbconvert_exporter": "python",
   "pygments_lexer": "ipython3",
   "version": "3.10.13"
  }
 },
 "nbformat": 4,
 "nbformat_minor": 2
}
